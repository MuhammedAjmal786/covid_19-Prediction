{
 "cells": [
  {
   "cell_type": "markdown",
   "id": "454247f8",
   "metadata": {
    "id": "WH3VVM9e7A-_",
    "papermill": {
     "duration": 0.011058,
     "end_time": "2025-02-04T10:54:29.569126",
     "exception": false,
     "start_time": "2025-02-04T10:54:29.558068",
     "status": "completed"
    },
    "tags": []
   },
   "source": [
    "# **Problum statment**\n",
    "# **Diabetes Prediction**"
   ]
  },
  {
   "cell_type": "markdown",
   "id": "22836c7a",
   "metadata": {
    "id": "ZV7XsejN7RI2",
    "papermill": {
     "duration": 0.009639,
     "end_time": "2025-02-04T10:54:29.589892",
     "exception": false,
     "start_time": "2025-02-04T10:54:29.580253",
     "status": "completed"
    },
    "tags": []
   },
   "source": [
    "-- The Dataset is about Diabetis test.\n",
    "\n",
    "-- This dataset have 768 rows & 9 columns.\n",
    "\n",
    "-- All attributes are numeric variables."
   ]
  },
  {
   "cell_type": "markdown",
   "id": "b692e4c7",
   "metadata": {
    "id": "U-i85dwo9V_2",
    "papermill": {
     "duration": 0.009957,
     "end_time": "2025-02-04T10:54:29.610701",
     "exception": false,
     "start_time": "2025-02-04T10:54:29.600744",
     "status": "completed"
    },
    "tags": []
   },
   "source": [
    "**Column Heads:**\n",
    "\n",
    "1. Pregnancies\n",
    "2. Glucose\n",
    "3. BloodPressure\n",
    "4. SkinThickness\n",
    "5. Insulin\n",
    "6. BMI\n",
    "7. DiabetesPedigreeFunction\n",
    "8. Age\n",
    "9. Outcome (Have Diabetis or not)"
   ]
  },
  {
   "cell_type": "markdown",
   "id": "23fc789d",
   "metadata": {
    "id": "ABv6xpWiAgF-",
    "papermill": {
     "duration": 0.009186,
     "end_time": "2025-02-04T10:54:29.629551",
     "exception": false,
     "start_time": "2025-02-04T10:54:29.620365",
     "status": "completed"
    },
    "tags": []
   },
   "source": [
    "* **TARGET VARIABLE in this Dtaset is 'Outcome'**"
   ]
  },
  {
   "cell_type": "markdown",
   "id": "aba53910",
   "metadata": {
    "id": "vf5goSlsn9Ss",
    "papermill": {
     "duration": 0.009247,
     "end_time": "2025-02-04T10:54:29.648233",
     "exception": false,
     "start_time": "2025-02-04T10:54:29.638986",
     "status": "completed"
    },
    "tags": []
   },
   "source": [
    "**Goals:**\n",
    "\n",
    "* The primary goal of this dataset is to predict whether a patient has diabetes or not based on diagnostic measurements.\n",
    "\n",
    "* **Early Detection and Diagnosis:** By using this dataset to build a predictive model, healthcare professionals can potentially identify individuals at risk of diabetes even before they develop noticeable symptoms. Early detection allows for timely intervention and management, which can significantly improve patient outcomes.\n",
    "\n",
    "* **Personalized Risk Assessment:** The model can help assess an individual's risk of developing diabetes based on their specific characteristics (pregnancies, glucose level, blood pressure, etc.). This personalized risk assessment can empower individuals to make informed lifestyle choices and take preventive measures to reduce their risk.\n",
    "\n",
    "* **Improving Treatment Strategies:** The insights gained from analyzing this dataset can contribute to the development of more effective treatment strategies for diabetes. By understanding the factors that influence the disease's progression, healthcare providers can tailor treatment plans to individual needs, potentially leading to better blood sugar control and reduced complications.\n",
    "\n",
    "* **Public Health Planning:** The dataset can be used to study the prevalence and distribution of diabetes within specific populations (e.g., Pima Indian women in this case). This information is valuable for public health planning and resource allocation, allowing for targeted interventions and prevention programs.\n",
    "\n",
    "* **Research and Development:** The dataset serves as a valuable resource for researchers studying diabetes. It can be used to explore new diagnostic methods, identify potential drug targets, and gain a deeper understanding of the disease's underlying mechanisms.\n",
    "\n",
    "* Improve the prediction, diagnosis, treatment, and prevention of diabetes. By enabling early detection, personalized risk assessment, and more effective treatment strategies, this dataset can ultimately help reduce the burden of this chronic disease.\n",
    "---"
   ]
  },
  {
   "cell_type": "markdown",
   "id": "49fe1bdd",
   "metadata": {
    "id": "Oxjlc_gHBq2F",
    "papermill": {
     "duration": 0.009157,
     "end_time": "2025-02-04T10:54:29.666784",
     "exception": false,
     "start_time": "2025-02-04T10:54:29.657627",
     "status": "completed"
    },
    "tags": []
   },
   "source": [
    "# Libraries"
   ]
  },
  {
   "cell_type": "code",
   "execution_count": 1,
   "id": "42522114",
   "metadata": {
    "execution": {
     "iopub.execute_input": "2025-02-04T10:54:29.687538Z",
     "iopub.status.busy": "2025-02-04T10:54:29.687215Z",
     "iopub.status.idle": "2025-02-04T10:54:36.379042Z",
     "shell.execute_reply": "2025-02-04T10:54:36.377890Z"
    },
    "id": "6iSsaOvWA_WN",
    "papermill": {
     "duration": 6.704442,
     "end_time": "2025-02-04T10:54:36.380975",
     "exception": false,
     "start_time": "2025-02-04T10:54:29.676533",
     "status": "completed"
    },
    "tags": []
   },
   "outputs": [],
   "source": [
    "import pandas as pd\n",
    "import numpy as np\n",
    "\n",
    "#Ploating\n",
    "import matplotlib.pyplot as plt\n",
    "import seaborn as sns\n",
    "\n",
    "#Emcoding\n",
    "from sklearn.preprocessing import LabelEncoder\n",
    "le=LabelEncoder()\n",
    "\n",
    "# x-y split\n",
    "from sklearn.model_selection import train_test_split\n",
    "\n",
    "#Scaling\n",
    "from sklearn.preprocessing import StandardScaler\n",
    "\n",
    "# Classification algorithms\n",
    "from sklearn.linear_model import LogisticRegression,RidgeClassifier,Perceptron,PassiveAggressiveClassifier,SGDClassifier\n",
    "from sklearn.neighbors import KNeighborsClassifier\n",
    "from sklearn.tree import DecisionTreeClassifier\n",
    "from sklearn.ensemble import RandomForestClassifier,ExtraTreesClassifier,AdaBoostClassifier,GradientBoostingClassifier,BaggingClassifier,VotingClassifier,StackingClassifier\n",
    "from sklearn.naive_bayes import GaussianNB,MultinomialNB,BernoulliNB\n",
    "from sklearn.svm import SVC,LinearSVC\n",
    "from sklearn.neural_network import MLPClassifier\n",
    "from sklearn.gaussian_process import GaussianProcessClassifier\n",
    "from sklearn.discriminant_analysis import QuadraticDiscriminantAnalysis,LinearDiscriminantAnalysis\n",
    "import xgboost as xgb\n",
    "import lightgbm as lgb\n",
    "\n",
    "#MSE AND MAE\n",
    "from sklearn.metrics import mean_absolute_error, mean_squared_error, r2_score\n",
    "from math import sqrt\n",
    "\n",
    "#\n",
    "from sklearn.metrics import classification_report, accuracy_score, precision_score, recall_score, f1_score, roc_auc_score, confusion_matrix\n",
    "from sklearn.model_selection import cross_val_score\n",
    "from tabulate import tabulate\n",
    "import warnings\n",
    "from sklearn.metrics import accuracy_score\n",
    "\n",
    "\n",
    "from sklearn.model_selection import StratifiedKFold\n",
    "from sklearn.model_selection import cross_val_score"
   ]
  },
  {
   "cell_type": "markdown",
   "id": "8be403d3",
   "metadata": {
    "id": "omN_T2qiCQgF",
    "papermill": {
     "duration": 0.015338,
     "end_time": "2025-02-04T10:54:36.406588",
     "exception": false,
     "start_time": "2025-02-04T10:54:36.391250",
     "status": "completed"
    },
    "tags": []
   },
   "source": [
    "# Loading Dataset"
   ]
  },
  {
   "cell_type": "code",
   "execution_count": 2,
   "id": "31eacfb1",
   "metadata": {
    "execution": {
     "iopub.execute_input": "2025-02-04T10:54:36.439438Z",
     "iopub.status.busy": "2025-02-04T10:54:36.438769Z",
     "iopub.status.idle": "2025-02-04T10:54:36.487591Z",
     "shell.execute_reply": "2025-02-04T10:54:36.486540Z"
    },
    "id": "CeC3ihYBvuXj",
    "outputId": "4823987b-11c5-4bda-d91f-2cc3a8f675a3",
    "papermill": {
     "duration": 0.069821,
     "end_time": "2025-02-04T10:54:36.489409",
     "exception": false,
     "start_time": "2025-02-04T10:54:36.419588",
     "status": "completed"
    },
    "tags": []
   },
   "outputs": [
    {
     "data": {
      "text/html": [
       "<div>\n",
       "<style scoped>\n",
       "    .dataframe tbody tr th:only-of-type {\n",
       "        vertical-align: middle;\n",
       "    }\n",
       "\n",
       "    .dataframe tbody tr th {\n",
       "        vertical-align: top;\n",
       "    }\n",
       "\n",
       "    .dataframe thead th {\n",
       "        text-align: right;\n",
       "    }\n",
       "</style>\n",
       "<table border=\"1\" class=\"dataframe\">\n",
       "  <thead>\n",
       "    <tr style=\"text-align: right;\">\n",
       "      <th></th>\n",
       "      <th>Pregnancies</th>\n",
       "      <th>Glucose</th>\n",
       "      <th>BloodPressure</th>\n",
       "      <th>SkinThickness</th>\n",
       "      <th>Insulin</th>\n",
       "      <th>BMI</th>\n",
       "      <th>DiabetesPedigreeFunction</th>\n",
       "      <th>Age</th>\n",
       "      <th>Outcome</th>\n",
       "    </tr>\n",
       "  </thead>\n",
       "  <tbody>\n",
       "    <tr>\n",
       "      <th>0</th>\n",
       "      <td>6</td>\n",
       "      <td>148</td>\n",
       "      <td>72</td>\n",
       "      <td>35</td>\n",
       "      <td>0</td>\n",
       "      <td>33.6</td>\n",
       "      <td>0.627</td>\n",
       "      <td>50</td>\n",
       "      <td>1</td>\n",
       "    </tr>\n",
       "    <tr>\n",
       "      <th>1</th>\n",
       "      <td>1</td>\n",
       "      <td>85</td>\n",
       "      <td>66</td>\n",
       "      <td>29</td>\n",
       "      <td>0</td>\n",
       "      <td>26.6</td>\n",
       "      <td>0.351</td>\n",
       "      <td>31</td>\n",
       "      <td>0</td>\n",
       "    </tr>\n",
       "    <tr>\n",
       "      <th>2</th>\n",
       "      <td>8</td>\n",
       "      <td>183</td>\n",
       "      <td>64</td>\n",
       "      <td>0</td>\n",
       "      <td>0</td>\n",
       "      <td>23.3</td>\n",
       "      <td>0.672</td>\n",
       "      <td>32</td>\n",
       "      <td>1</td>\n",
       "    </tr>\n",
       "    <tr>\n",
       "      <th>3</th>\n",
       "      <td>1</td>\n",
       "      <td>89</td>\n",
       "      <td>66</td>\n",
       "      <td>23</td>\n",
       "      <td>94</td>\n",
       "      <td>28.1</td>\n",
       "      <td>0.167</td>\n",
       "      <td>21</td>\n",
       "      <td>0</td>\n",
       "    </tr>\n",
       "    <tr>\n",
       "      <th>4</th>\n",
       "      <td>0</td>\n",
       "      <td>137</td>\n",
       "      <td>40</td>\n",
       "      <td>35</td>\n",
       "      <td>168</td>\n",
       "      <td>43.1</td>\n",
       "      <td>2.288</td>\n",
       "      <td>33</td>\n",
       "      <td>1</td>\n",
       "    </tr>\n",
       "    <tr>\n",
       "      <th>...</th>\n",
       "      <td>...</td>\n",
       "      <td>...</td>\n",
       "      <td>...</td>\n",
       "      <td>...</td>\n",
       "      <td>...</td>\n",
       "      <td>...</td>\n",
       "      <td>...</td>\n",
       "      <td>...</td>\n",
       "      <td>...</td>\n",
       "    </tr>\n",
       "    <tr>\n",
       "      <th>763</th>\n",
       "      <td>10</td>\n",
       "      <td>101</td>\n",
       "      <td>76</td>\n",
       "      <td>48</td>\n",
       "      <td>180</td>\n",
       "      <td>32.9</td>\n",
       "      <td>0.171</td>\n",
       "      <td>63</td>\n",
       "      <td>0</td>\n",
       "    </tr>\n",
       "    <tr>\n",
       "      <th>764</th>\n",
       "      <td>2</td>\n",
       "      <td>122</td>\n",
       "      <td>70</td>\n",
       "      <td>27</td>\n",
       "      <td>0</td>\n",
       "      <td>36.8</td>\n",
       "      <td>0.340</td>\n",
       "      <td>27</td>\n",
       "      <td>0</td>\n",
       "    </tr>\n",
       "    <tr>\n",
       "      <th>765</th>\n",
       "      <td>5</td>\n",
       "      <td>121</td>\n",
       "      <td>72</td>\n",
       "      <td>23</td>\n",
       "      <td>112</td>\n",
       "      <td>26.2</td>\n",
       "      <td>0.245</td>\n",
       "      <td>30</td>\n",
       "      <td>0</td>\n",
       "    </tr>\n",
       "    <tr>\n",
       "      <th>766</th>\n",
       "      <td>1</td>\n",
       "      <td>126</td>\n",
       "      <td>60</td>\n",
       "      <td>0</td>\n",
       "      <td>0</td>\n",
       "      <td>30.1</td>\n",
       "      <td>0.349</td>\n",
       "      <td>47</td>\n",
       "      <td>1</td>\n",
       "    </tr>\n",
       "    <tr>\n",
       "      <th>767</th>\n",
       "      <td>1</td>\n",
       "      <td>93</td>\n",
       "      <td>70</td>\n",
       "      <td>31</td>\n",
       "      <td>0</td>\n",
       "      <td>30.4</td>\n",
       "      <td>0.315</td>\n",
       "      <td>23</td>\n",
       "      <td>0</td>\n",
       "    </tr>\n",
       "  </tbody>\n",
       "</table>\n",
       "<p>768 rows × 9 columns</p>\n",
       "</div>"
      ],
      "text/plain": [
       "     Pregnancies  Glucose  BloodPressure  SkinThickness  Insulin   BMI  \\\n",
       "0              6      148             72             35        0  33.6   \n",
       "1              1       85             66             29        0  26.6   \n",
       "2              8      183             64              0        0  23.3   \n",
       "3              1       89             66             23       94  28.1   \n",
       "4              0      137             40             35      168  43.1   \n",
       "..           ...      ...            ...            ...      ...   ...   \n",
       "763           10      101             76             48      180  32.9   \n",
       "764            2      122             70             27        0  36.8   \n",
       "765            5      121             72             23      112  26.2   \n",
       "766            1      126             60              0        0  30.1   \n",
       "767            1       93             70             31        0  30.4   \n",
       "\n",
       "     DiabetesPedigreeFunction  Age  Outcome  \n",
       "0                       0.627   50        1  \n",
       "1                       0.351   31        0  \n",
       "2                       0.672   32        1  \n",
       "3                       0.167   21        0  \n",
       "4                       2.288   33        1  \n",
       "..                        ...  ...      ...  \n",
       "763                     0.171   63        0  \n",
       "764                     0.340   27        0  \n",
       "765                     0.245   30        0  \n",
       "766                     0.349   47        1  \n",
       "767                     0.315   23        0  \n",
       "\n",
       "[768 rows x 9 columns]"
      ]
     },
     "execution_count": 2,
     "metadata": {},
     "output_type": "execute_result"
    }
   ],
   "source": [
    "df=pd.read_csv('/kaggle/input/diabetes-dataset/diabetes.csv')\n",
    "df"
   ]
  },
  {
   "cell_type": "markdown",
   "id": "00682028",
   "metadata": {
    "id": "EXe5a1SlC53d",
    "papermill": {
     "duration": 0.009406,
     "end_time": "2025-02-04T10:54:36.509294",
     "exception": false,
     "start_time": "2025-02-04T10:54:36.499888",
     "status": "completed"
    },
    "tags": []
   },
   "source": [
    "# ***Understanding the data***"
   ]
  },
  {
   "cell_type": "code",
   "execution_count": 3,
   "id": "a25c45b4",
   "metadata": {
    "execution": {
     "iopub.execute_input": "2025-02-04T10:54:36.530127Z",
     "iopub.status.busy": "2025-02-04T10:54:36.529728Z",
     "iopub.status.idle": "2025-02-04T10:54:36.552363Z",
     "shell.execute_reply": "2025-02-04T10:54:36.550544Z"
    },
    "id": "xoxjgg9ZCjD2",
    "outputId": "8073476a-ffe3-4a2e-f4cf-64e690d9ceaa",
    "papermill": {
     "duration": 0.035462,
     "end_time": "2025-02-04T10:54:36.554463",
     "exception": false,
     "start_time": "2025-02-04T10:54:36.519001",
     "status": "completed"
    },
    "tags": []
   },
   "outputs": [
    {
     "name": "stdout",
     "output_type": "stream",
     "text": [
      "<class 'pandas.core.frame.DataFrame'>\n",
      "RangeIndex: 768 entries, 0 to 767\n",
      "Data columns (total 9 columns):\n",
      " #   Column                    Non-Null Count  Dtype  \n",
      "---  ------                    --------------  -----  \n",
      " 0   Pregnancies               768 non-null    int64  \n",
      " 1   Glucose                   768 non-null    int64  \n",
      " 2   BloodPressure             768 non-null    int64  \n",
      " 3   SkinThickness             768 non-null    int64  \n",
      " 4   Insulin                   768 non-null    int64  \n",
      " 5   BMI                       768 non-null    float64\n",
      " 6   DiabetesPedigreeFunction  768 non-null    float64\n",
      " 7   Age                       768 non-null    int64  \n",
      " 8   Outcome                   768 non-null    int64  \n",
      "dtypes: float64(2), int64(7)\n",
      "memory usage: 54.1 KB\n"
     ]
    }
   ],
   "source": [
    "df.info()"
   ]
  },
  {
   "cell_type": "markdown",
   "id": "03b311a0",
   "metadata": {
    "id": "DSuncA-dteWY",
    "papermill": {
     "duration": 0.011633,
     "end_time": "2025-02-04T10:54:36.577679",
     "exception": false,
     "start_time": "2025-02-04T10:54:36.566046",
     "status": "completed"
    },
    "tags": []
   },
   "source": [
    "* All attributes are numeric variables."
   ]
  },
  {
   "cell_type": "code",
   "execution_count": 4,
   "id": "aae6952f",
   "metadata": {
    "execution": {
     "iopub.execute_input": "2025-02-04T10:54:36.600049Z",
     "iopub.status.busy": "2025-02-04T10:54:36.599531Z",
     "iopub.status.idle": "2025-02-04T10:54:36.605854Z",
     "shell.execute_reply": "2025-02-04T10:54:36.604729Z"
    },
    "id": "JT9MQh5hNwit",
    "outputId": "bd46899f-346a-4145-db12-e2f3275e5c1a",
    "papermill": {
     "duration": 0.019515,
     "end_time": "2025-02-04T10:54:36.607843",
     "exception": false,
     "start_time": "2025-02-04T10:54:36.588328",
     "status": "completed"
    },
    "tags": []
   },
   "outputs": [
    {
     "data": {
      "text/plain": [
       "(768, 9)"
      ]
     },
     "execution_count": 4,
     "metadata": {},
     "output_type": "execute_result"
    }
   ],
   "source": [
    "df.shape"
   ]
  },
  {
   "cell_type": "markdown",
   "id": "40c5b9b5",
   "metadata": {
    "id": "1eMdOFkbMVZa",
    "papermill": {
     "duration": 0.009947,
     "end_time": "2025-02-04T10:54:36.628162",
     "exception": false,
     "start_time": "2025-02-04T10:54:36.618215",
     "status": "completed"
    },
    "tags": []
   },
   "source": [
    "This dataset have 786 rows & 9 columns"
   ]
  },
  {
   "cell_type": "code",
   "execution_count": 5,
   "id": "13850fc7",
   "metadata": {
    "execution": {
     "iopub.execute_input": "2025-02-04T10:54:36.649414Z",
     "iopub.status.busy": "2025-02-04T10:54:36.649069Z",
     "iopub.status.idle": "2025-02-04T10:54:36.655481Z",
     "shell.execute_reply": "2025-02-04T10:54:36.654618Z"
    },
    "id": "wq6Mr96UO9Dt",
    "outputId": "a116cfd8-83f5-4e0e-c016-8440999f1dd7",
    "papermill": {
     "duration": 0.019053,
     "end_time": "2025-02-04T10:54:36.657173",
     "exception": false,
     "start_time": "2025-02-04T10:54:36.638120",
     "status": "completed"
    },
    "tags": []
   },
   "outputs": [
    {
     "data": {
      "text/plain": [
       "Index(['Pregnancies', 'Glucose', 'BloodPressure', 'SkinThickness', 'Insulin',\n",
       "       'BMI', 'DiabetesPedigreeFunction', 'Age', 'Outcome'],\n",
       "      dtype='object')"
      ]
     },
     "execution_count": 5,
     "metadata": {},
     "output_type": "execute_result"
    }
   ],
   "source": [
    "df.columns"
   ]
  },
  {
   "cell_type": "code",
   "execution_count": 6,
   "id": "5a6f5720",
   "metadata": {
    "execution": {
     "iopub.execute_input": "2025-02-04T10:54:36.678524Z",
     "iopub.status.busy": "2025-02-04T10:54:36.678204Z",
     "iopub.status.idle": "2025-02-04T10:54:36.710874Z",
     "shell.execute_reply": "2025-02-04T10:54:36.709551Z"
    },
    "id": "-DAzE0EWMfkl",
    "outputId": "55a02da5-075f-48cd-fc42-a52ef64f7985",
    "papermill": {
     "duration": 0.045526,
     "end_time": "2025-02-04T10:54:36.712916",
     "exception": false,
     "start_time": "2025-02-04T10:54:36.667390",
     "status": "completed"
    },
    "tags": []
   },
   "outputs": [
    {
     "data": {
      "text/html": [
       "<div>\n",
       "<style scoped>\n",
       "    .dataframe tbody tr th:only-of-type {\n",
       "        vertical-align: middle;\n",
       "    }\n",
       "\n",
       "    .dataframe tbody tr th {\n",
       "        vertical-align: top;\n",
       "    }\n",
       "\n",
       "    .dataframe thead th {\n",
       "        text-align: right;\n",
       "    }\n",
       "</style>\n",
       "<table border=\"1\" class=\"dataframe\">\n",
       "  <thead>\n",
       "    <tr style=\"text-align: right;\">\n",
       "      <th></th>\n",
       "      <th>count</th>\n",
       "      <th>mean</th>\n",
       "      <th>std</th>\n",
       "      <th>min</th>\n",
       "      <th>25%</th>\n",
       "      <th>50%</th>\n",
       "      <th>75%</th>\n",
       "      <th>max</th>\n",
       "    </tr>\n",
       "  </thead>\n",
       "  <tbody>\n",
       "    <tr>\n",
       "      <th>Pregnancies</th>\n",
       "      <td>768.0</td>\n",
       "      <td>3.845052</td>\n",
       "      <td>3.369578</td>\n",
       "      <td>0.000</td>\n",
       "      <td>1.00000</td>\n",
       "      <td>3.0000</td>\n",
       "      <td>6.00000</td>\n",
       "      <td>17.00</td>\n",
       "    </tr>\n",
       "    <tr>\n",
       "      <th>Glucose</th>\n",
       "      <td>768.0</td>\n",
       "      <td>120.894531</td>\n",
       "      <td>31.972618</td>\n",
       "      <td>0.000</td>\n",
       "      <td>99.00000</td>\n",
       "      <td>117.0000</td>\n",
       "      <td>140.25000</td>\n",
       "      <td>199.00</td>\n",
       "    </tr>\n",
       "    <tr>\n",
       "      <th>BloodPressure</th>\n",
       "      <td>768.0</td>\n",
       "      <td>69.105469</td>\n",
       "      <td>19.355807</td>\n",
       "      <td>0.000</td>\n",
       "      <td>62.00000</td>\n",
       "      <td>72.0000</td>\n",
       "      <td>80.00000</td>\n",
       "      <td>122.00</td>\n",
       "    </tr>\n",
       "    <tr>\n",
       "      <th>SkinThickness</th>\n",
       "      <td>768.0</td>\n",
       "      <td>20.536458</td>\n",
       "      <td>15.952218</td>\n",
       "      <td>0.000</td>\n",
       "      <td>0.00000</td>\n",
       "      <td>23.0000</td>\n",
       "      <td>32.00000</td>\n",
       "      <td>99.00</td>\n",
       "    </tr>\n",
       "    <tr>\n",
       "      <th>Insulin</th>\n",
       "      <td>768.0</td>\n",
       "      <td>79.799479</td>\n",
       "      <td>115.244002</td>\n",
       "      <td>0.000</td>\n",
       "      <td>0.00000</td>\n",
       "      <td>30.5000</td>\n",
       "      <td>127.25000</td>\n",
       "      <td>846.00</td>\n",
       "    </tr>\n",
       "    <tr>\n",
       "      <th>BMI</th>\n",
       "      <td>768.0</td>\n",
       "      <td>31.992578</td>\n",
       "      <td>7.884160</td>\n",
       "      <td>0.000</td>\n",
       "      <td>27.30000</td>\n",
       "      <td>32.0000</td>\n",
       "      <td>36.60000</td>\n",
       "      <td>67.10</td>\n",
       "    </tr>\n",
       "    <tr>\n",
       "      <th>DiabetesPedigreeFunction</th>\n",
       "      <td>768.0</td>\n",
       "      <td>0.471876</td>\n",
       "      <td>0.331329</td>\n",
       "      <td>0.078</td>\n",
       "      <td>0.24375</td>\n",
       "      <td>0.3725</td>\n",
       "      <td>0.62625</td>\n",
       "      <td>2.42</td>\n",
       "    </tr>\n",
       "    <tr>\n",
       "      <th>Age</th>\n",
       "      <td>768.0</td>\n",
       "      <td>33.240885</td>\n",
       "      <td>11.760232</td>\n",
       "      <td>21.000</td>\n",
       "      <td>24.00000</td>\n",
       "      <td>29.0000</td>\n",
       "      <td>41.00000</td>\n",
       "      <td>81.00</td>\n",
       "    </tr>\n",
       "    <tr>\n",
       "      <th>Outcome</th>\n",
       "      <td>768.0</td>\n",
       "      <td>0.348958</td>\n",
       "      <td>0.476951</td>\n",
       "      <td>0.000</td>\n",
       "      <td>0.00000</td>\n",
       "      <td>0.0000</td>\n",
       "      <td>1.00000</td>\n",
       "      <td>1.00</td>\n",
       "    </tr>\n",
       "  </tbody>\n",
       "</table>\n",
       "</div>"
      ],
      "text/plain": [
       "                          count        mean         std     min       25%  \\\n",
       "Pregnancies               768.0    3.845052    3.369578   0.000   1.00000   \n",
       "Glucose                   768.0  120.894531   31.972618   0.000  99.00000   \n",
       "BloodPressure             768.0   69.105469   19.355807   0.000  62.00000   \n",
       "SkinThickness             768.0   20.536458   15.952218   0.000   0.00000   \n",
       "Insulin                   768.0   79.799479  115.244002   0.000   0.00000   \n",
       "BMI                       768.0   31.992578    7.884160   0.000  27.30000   \n",
       "DiabetesPedigreeFunction  768.0    0.471876    0.331329   0.078   0.24375   \n",
       "Age                       768.0   33.240885   11.760232  21.000  24.00000   \n",
       "Outcome                   768.0    0.348958    0.476951   0.000   0.00000   \n",
       "\n",
       "                               50%        75%     max  \n",
       "Pregnancies                 3.0000    6.00000   17.00  \n",
       "Glucose                   117.0000  140.25000  199.00  \n",
       "BloodPressure              72.0000   80.00000  122.00  \n",
       "SkinThickness              23.0000   32.00000   99.00  \n",
       "Insulin                    30.5000  127.25000  846.00  \n",
       "BMI                        32.0000   36.60000   67.10  \n",
       "DiabetesPedigreeFunction    0.3725    0.62625    2.42  \n",
       "Age                        29.0000   41.00000   81.00  \n",
       "Outcome                     0.0000    1.00000    1.00  "
      ]
     },
     "execution_count": 6,
     "metadata": {},
     "output_type": "execute_result"
    }
   ],
   "source": [
    "df.describe().T"
   ]
  },
  {
   "cell_type": "code",
   "execution_count": 7,
   "id": "c248d204",
   "metadata": {
    "execution": {
     "iopub.execute_input": "2025-02-04T10:54:36.735683Z",
     "iopub.status.busy": "2025-02-04T10:54:36.735277Z",
     "iopub.status.idle": "2025-02-04T10:54:36.743169Z",
     "shell.execute_reply": "2025-02-04T10:54:36.742225Z"
    },
    "id": "FFujcB3pMhRl",
    "outputId": "bd96d265-8e46-4c45-e7e1-3acb85187611",
    "papermill": {
     "duration": 0.021106,
     "end_time": "2025-02-04T10:54:36.744953",
     "exception": false,
     "start_time": "2025-02-04T10:54:36.723847",
     "status": "completed"
    },
    "tags": []
   },
   "outputs": [
    {
     "data": {
      "text/plain": [
       "Pregnancies                 0\n",
       "Glucose                     0\n",
       "BloodPressure               0\n",
       "SkinThickness               0\n",
       "Insulin                     0\n",
       "BMI                         0\n",
       "DiabetesPedigreeFunction    0\n",
       "Age                         0\n",
       "Outcome                     0\n",
       "dtype: int64"
      ]
     },
     "execution_count": 7,
     "metadata": {},
     "output_type": "execute_result"
    }
   ],
   "source": [
    "df.isnull().sum()"
   ]
  },
  {
   "cell_type": "markdown",
   "id": "d4d4eafd",
   "metadata": {
    "id": "ozbybcuQM7ld",
    "papermill": {
     "duration": 0.010072,
     "end_time": "2025-02-04T10:54:36.765863",
     "exception": false,
     "start_time": "2025-02-04T10:54:36.755791",
     "status": "completed"
    },
    "tags": []
   },
   "source": [
    "There is no Null values(Missing values) in the Dataset"
   ]
  },
  {
   "cell_type": "code",
   "execution_count": 8,
   "id": "57218d60",
   "metadata": {
    "execution": {
     "iopub.execute_input": "2025-02-04T10:54:36.788015Z",
     "iopub.status.busy": "2025-02-04T10:54:36.787569Z",
     "iopub.status.idle": "2025-02-04T10:54:36.795917Z",
     "shell.execute_reply": "2025-02-04T10:54:36.794810Z"
    },
    "id": "3hVHpw27Mv0N",
    "outputId": "838d28a9-502e-4d34-935b-d9a4892c1920",
    "papermill": {
     "duration": 0.021573,
     "end_time": "2025-02-04T10:54:36.797808",
     "exception": false,
     "start_time": "2025-02-04T10:54:36.776235",
     "status": "completed"
    },
    "tags": []
   },
   "outputs": [
    {
     "data": {
      "text/plain": [
       "0"
      ]
     },
     "execution_count": 8,
     "metadata": {},
     "output_type": "execute_result"
    }
   ],
   "source": [
    "df.duplicated().sum()"
   ]
  },
  {
   "cell_type": "markdown",
   "id": "5d571945",
   "metadata": {
    "id": "APlV1kbUNJBN",
    "papermill": {
     "duration": 0.011322,
     "end_time": "2025-02-04T10:54:36.820441",
     "exception": false,
     "start_time": "2025-02-04T10:54:36.809119",
     "status": "completed"
    },
    "tags": []
   },
   "source": [
    "There is no Duplicated rows in the Dataset"
   ]
  },
  {
   "cell_type": "code",
   "execution_count": 9,
   "id": "15f08199",
   "metadata": {
    "execution": {
     "iopub.execute_input": "2025-02-04T10:54:36.843758Z",
     "iopub.status.busy": "2025-02-04T10:54:36.843357Z",
     "iopub.status.idle": "2025-02-04T10:54:36.850462Z",
     "shell.execute_reply": "2025-02-04T10:54:36.849216Z"
    },
    "id": "_HJtn7RXM1aF",
    "outputId": "cfeb57f7-c815-46e6-f2a4-a5520632aa2c",
    "papermill": {
     "duration": 0.021405,
     "end_time": "2025-02-04T10:54:36.853173",
     "exception": false,
     "start_time": "2025-02-04T10:54:36.831768",
     "status": "completed"
    },
    "tags": []
   },
   "outputs": [
    {
     "data": {
      "text/plain": [
       "Pregnancies                   int64\n",
       "Glucose                       int64\n",
       "BloodPressure                 int64\n",
       "SkinThickness                 int64\n",
       "Insulin                       int64\n",
       "BMI                         float64\n",
       "DiabetesPedigreeFunction    float64\n",
       "Age                           int64\n",
       "Outcome                       int64\n",
       "dtype: object"
      ]
     },
     "execution_count": 9,
     "metadata": {},
     "output_type": "execute_result"
    }
   ],
   "source": [
    "df.dtypes"
   ]
  },
  {
   "cell_type": "markdown",
   "id": "8ed5f384",
   "metadata": {
    "id": "xQ5QRZnNOsM9",
    "papermill": {
     "duration": 0.010519,
     "end_time": "2025-02-04T10:54:36.875469",
     "exception": false,
     "start_time": "2025-02-04T10:54:36.864950",
     "status": "completed"
    },
    "tags": []
   },
   "source": [
    "All attributes are numeric variables."
   ]
  },
  {
   "cell_type": "markdown",
   "id": "6646fbaa",
   "metadata": {
    "id": "cFWKaRwNUlKE",
    "papermill": {
     "duration": 0.011245,
     "end_time": "2025-02-04T10:54:36.897445",
     "exception": false,
     "start_time": "2025-02-04T10:54:36.886200",
     "status": "completed"
    },
    "tags": []
   },
   "source": [
    "# Data Visualization"
   ]
  },
  {
   "cell_type": "markdown",
   "id": "d3d0a220",
   "metadata": {
    "id": "qg8v25zxCQBt",
    "papermill": {
     "duration": 0.011362,
     "end_time": "2025-02-04T10:54:36.920196",
     "exception": false,
     "start_time": "2025-02-04T10:54:36.908834",
     "status": "completed"
    },
    "tags": []
   },
   "source": [
    "**Histogram for entire dataset**"
   ]
  },
  {
   "cell_type": "code",
   "execution_count": 10,
   "id": "8149fc22",
   "metadata": {
    "execution": {
     "iopub.execute_input": "2025-02-04T10:54:36.943755Z",
     "iopub.status.busy": "2025-02-04T10:54:36.943351Z",
     "iopub.status.idle": "2025-02-04T10:54:38.687730Z",
     "shell.execute_reply": "2025-02-04T10:54:38.686555Z"
    },
    "id": "bYjqrC7Fs3Q1",
    "outputId": "28432b9e-b4d0-462f-80dc-a70aec6dd01f",
    "papermill": {
     "duration": 1.759039,
     "end_time": "2025-02-04T10:54:38.690066",
     "exception": false,
     "start_time": "2025-02-04T10:54:36.931027",
     "status": "completed"
    },
    "tags": []
   },
   "outputs": [
    {
     "data": {
      "image/png": "[encoded data removed]",
      "text/plain": [
       "<Figure size 1500x1500 with 9 Axes>"
      ]
     },
     "metadata": {},
     "output_type": "display_data"
    }
   ],
   "source": [
    "df.hist(figsize=(15,15))\n",
    "plt.show()"
   ]
  },
  {
   "cell_type": "markdown",
   "id": "655919d9",
   "metadata": {
    "id": "A1lrLT3tp9ak",
    "papermill": {
     "duration": 0.012148,
     "end_time": "2025-02-04T10:54:38.715458",
     "exception": false,
     "start_time": "2025-02-04T10:54:38.703310",
     "status": "completed"
    },
    "tags": []
   },
   "source": [
    "Outcome"
   ]
  },
  {
   "cell_type": "code",
   "execution_count": 11,
   "id": "a5087d18",
   "metadata": {
    "execution": {
     "iopub.execute_input": "2025-02-04T10:54:38.741752Z",
     "iopub.status.busy": "2025-02-04T10:54:38.741310Z",
     "iopub.status.idle": "2025-02-04T10:54:38.887746Z",
     "shell.execute_reply": "2025-02-04T10:54:38.886695Z"
    },
    "id": "NYFFnDaPqVue",
    "outputId": "b010b0a8-d701-447c-e8a9-44a91379d05c",
    "papermill": {
     "duration": 0.161488,
     "end_time": "2025-02-04T10:54:38.889355",
     "exception": false,
     "start_time": "2025-02-04T10:54:38.727867",
     "status": "completed"
    },
    "tags": []
   },
   "outputs": [
    {
     "data": {
      "image/png": "[encoded data removed]",
      "text/plain": [
       "<Figure size 640x480 with 1 Axes>"
      ]
     },
     "metadata": {},
     "output_type": "display_data"
    }
   ],
   "source": [
    "plt.pie(df['Outcome'].value_counts(),autopct='%1.1f%%',labels=['Diabetic','non-Diabetic'],colors=['Grey','g'])\n",
    "plt.title('Outcome')\n",
    "plt.legend()\n",
    "plt.show()"
   ]
  },
  {
   "cell_type": "markdown",
   "id": "ecccb551",
   "metadata": {
    "id": "i3SuPT2AtpM_",
    "papermill": {
     "duration": 0.01284,
     "end_time": "2025-02-04T10:54:38.915340",
     "exception": false,
     "start_time": "2025-02-04T10:54:38.902500",
     "status": "completed"
    },
    "tags": []
   },
   "source": [
    "* In this dataset 65.1% of individuals are Diabetic & 34.9% are non Diabetic."
   ]
  },
  {
   "cell_type": "markdown",
   "id": "4641affb",
   "metadata": {
    "id": "0_fftiRHTaM0",
    "papermill": {
     "duration": 0.012675,
     "end_time": "2025-02-04T10:54:38.940980",
     "exception": false,
     "start_time": "2025-02-04T10:54:38.928305",
     "status": "completed"
    },
    "tags": []
   },
   "source": [
    "# Outlier detection"
   ]
  },
  {
   "cell_type": "code",
   "execution_count": 12,
   "id": "a99d407c",
   "metadata": {
    "execution": {
     "iopub.execute_input": "2025-02-04T10:54:38.968240Z",
     "iopub.status.busy": "2025-02-04T10:54:38.967895Z",
     "iopub.status.idle": "2025-02-04T10:54:39.219767Z",
     "shell.execute_reply": "2025-02-04T10:54:39.218709Z"
    },
    "id": "N7GREIm0TcNQ",
    "outputId": "381d0961-8073-4fac-c8a2-2ca6bfc9e419",
    "papermill": {
     "duration": 0.267553,
     "end_time": "2025-02-04T10:54:39.221460",
     "exception": false,
     "start_time": "2025-02-04T10:54:38.953907",
     "status": "completed"
    },
    "tags": []
   },
   "outputs": [
    {
     "data": {
      "text/plain": [
       "<Axes: >"
      ]
     },
     "execution_count": 12,
     "metadata": {},
     "output_type": "execute_result"
    },
    {
     "data": {
      "image/png": "[encoded data removed]",
      "text/plain": [
       "<Figure size 640x480 with 1 Axes>"
      ]
     },
     "metadata": {},
     "output_type": "display_data"
    }
   ],
   "source": [
    "sns.boxplot(df)"
   ]
  },
  {
   "cell_type": "code",
   "execution_count": 13,
   "id": "4e571bd1",
   "metadata": {
    "execution": {
     "iopub.execute_input": "2025-02-04T10:54:39.250851Z",
     "iopub.status.busy": "2025-02-04T10:54:39.250467Z",
     "iopub.status.idle": "2025-02-04T10:54:39.254736Z",
     "shell.execute_reply": "2025-02-04T10:54:39.253745Z"
    },
    "id": "y5sDQ9lWUFJw",
    "papermill": {
     "duration": 0.020567,
     "end_time": "2025-02-04T10:54:39.256291",
     "exception": false,
     "start_time": "2025-02-04T10:54:39.235724",
     "status": "completed"
    },
    "tags": []
   },
   "outputs": [],
   "source": [
    "df1=df.copy()"
   ]
  },
  {
   "cell_type": "code",
   "execution_count": 14,
   "id": "ec24ba82",
   "metadata": {
    "execution": {
     "iopub.execute_input": "2025-02-04T10:54:39.285826Z",
     "iopub.status.busy": "2025-02-04T10:54:39.285417Z",
     "iopub.status.idle": "2025-02-04T10:54:39.308051Z",
     "shell.execute_reply": "2025-02-04T10:54:39.306772Z"
    },
    "id": "o1Vx-DuQTcKb",
    "papermill": {
     "duration": 0.03956,
     "end_time": "2025-02-04T10:54:39.310131",
     "exception": false,
     "start_time": "2025-02-04T10:54:39.270571",
     "status": "completed"
    },
    "tags": []
   },
   "outputs": [],
   "source": [
    "def outlier(column):\n",
    "  Q1=column.quantile(0.25)\n",
    "  Q3=column.quantile(0.75)\n",
    "  IQR=Q3-Q1\n",
    "  Lp=Q1-1.5*IQR\n",
    "  Up=Q3+1.5*IQR\n",
    "  return (column<Lp)|(column>Up)\n",
    "\n",
    "OIQR=(df1.select_dtypes(include='number')).apply(outlier)"
   ]
  },
  {
   "cell_type": "code",
   "execution_count": 15,
   "id": "b1659571",
   "metadata": {
    "execution": {
     "iopub.execute_input": "2025-02-04T10:54:39.339674Z",
     "iopub.status.busy": "2025-02-04T10:54:39.339234Z",
     "iopub.status.idle": "2025-02-04T10:54:39.346299Z",
     "shell.execute_reply": "2025-02-04T10:54:39.344922Z"
    },
    "id": "uuQVHUOTTcH5",
    "outputId": "c02193cd-c1d7-4112-b59c-3efec892eb89",
    "papermill": {
     "duration": 0.024384,
     "end_time": "2025-02-04T10:54:39.348329",
     "exception": false,
     "start_time": "2025-02-04T10:54:39.323945",
     "status": "completed"
    },
    "tags": []
   },
   "outputs": [
    {
     "name": "stdout",
     "output_type": "stream",
     "text": [
      "Pregnancies                  4\n",
      "Glucose                      5\n",
      "BloodPressure               45\n",
      "SkinThickness                1\n",
      "Insulin                     34\n",
      "BMI                         19\n",
      "DiabetesPedigreeFunction    29\n",
      "Age                          9\n",
      "Outcome                      0\n",
      "dtype: int64\n"
     ]
    }
   ],
   "source": [
    "print(OIQR.sum())"
   ]
  },
  {
   "cell_type": "code",
   "execution_count": 16,
   "id": "1f09c77d",
   "metadata": {
    "execution": {
     "iopub.execute_input": "2025-02-04T10:54:39.377514Z",
     "iopub.status.busy": "2025-02-04T10:54:39.377156Z",
     "iopub.status.idle": "2025-02-04T10:54:39.383120Z",
     "shell.execute_reply": "2025-02-04T10:54:39.382142Z"
    },
    "id": "FkNx6KzXTwlI",
    "papermill": {
     "duration": 0.022514,
     "end_time": "2025-02-04T10:54:39.384804",
     "exception": false,
     "start_time": "2025-02-04T10:54:39.362290",
     "status": "completed"
    },
    "tags": []
   },
   "outputs": [],
   "source": [
    "df1=df1[~(OIQR.any(axis=1))]"
   ]
  },
  {
   "cell_type": "code",
   "execution_count": 17,
   "id": "8416986a",
   "metadata": {
    "execution": {
     "iopub.execute_input": "2025-02-04T10:54:39.414072Z",
     "iopub.status.busy": "2025-02-04T10:54:39.413703Z",
     "iopub.status.idle": "2025-02-04T10:54:39.418399Z",
     "shell.execute_reply": "2025-02-04T10:54:39.417283Z"
    },
    "id": "YDEhsPeUVaVv",
    "papermill": {
     "duration": 0.021518,
     "end_time": "2025-02-04T10:54:39.420180",
     "exception": false,
     "start_time": "2025-02-04T10:54:39.398662",
     "status": "completed"
    },
    "tags": []
   },
   "outputs": [],
   "source": [
    "df2=df1.copy()"
   ]
  },
  {
   "cell_type": "code",
   "execution_count": 18,
   "id": "77124a99",
   "metadata": {
    "execution": {
     "iopub.execute_input": "2025-02-04T10:54:39.449035Z",
     "iopub.status.busy": "2025-02-04T10:54:39.448578Z",
     "iopub.status.idle": "2025-02-04T10:54:39.456980Z",
     "shell.execute_reply": "2025-02-04T10:54:39.455741Z"
    },
    "id": "I65A8xDYUQCP",
    "outputId": "02fdc88f-15c1-461a-ba71-592769fb644f",
    "papermill": {
     "duration": 0.024427,
     "end_time": "2025-02-04T10:54:39.458550",
     "exception": false,
     "start_time": "2025-02-04T10:54:39.434123",
     "status": "completed"
    },
    "tags": []
   },
   "outputs": [
    {
     "name": "stdout",
     "output_type": "stream",
     "text": [
      "Pregnancies                 0.829074\n",
      "Glucose                     0.603106\n",
      "BloodPressure               0.104619\n",
      "SkinThickness              -0.070649\n",
      "Insulin                     1.008737\n",
      "BMI                         0.290456\n",
      "DiabetesPedigreeFunction    0.969029\n",
      "Age                         1.032472\n",
      "Outcome                     0.808485\n",
      "dtype: float64\n"
     ]
    }
   ],
   "source": [
    "print((df2.select_dtypes(include='number')).skew())"
   ]
  },
  {
   "cell_type": "code",
   "execution_count": 19,
   "id": "5d57c554",
   "metadata": {
    "execution": {
     "iopub.execute_input": "2025-02-04T10:54:39.488018Z",
     "iopub.status.busy": "2025-02-04T10:54:39.487668Z",
     "iopub.status.idle": "2025-02-04T10:54:39.497266Z",
     "shell.execute_reply": "2025-02-04T10:54:39.496064Z"
    },
    "id": "QM72YfjGVg_n",
    "papermill": {
     "duration": 0.026483,
     "end_time": "2025-02-04T10:54:39.499182",
     "exception": false,
     "start_time": "2025-02-04T10:54:39.472699",
     "status": "completed"
    },
    "tags": []
   },
   "outputs": [],
   "source": [
    "df2['p_Insulin']=np.log1p(df1['Insulin'])\n",
    "df2['p_Age']=np.log1p(df1['Age'])\n",
    "df2['p_Pregnancies']=np.log1p(df1['Pregnancies'])\n",
    "df2['p_Pregnancies']=np.log1p(df1['Pregnancies'])"
   ]
  },
  {
   "cell_type": "markdown",
   "id": "313c19b6",
   "metadata": {
    "id": "aP70qc517LWg",
    "papermill": {
     "duration": 0.013349,
     "end_time": "2025-02-04T10:54:39.526380",
     "exception": false,
     "start_time": "2025-02-04T10:54:39.513031",
     "status": "completed"
    },
    "tags": []
   },
   "source": [
    "# Correlation Analysis:"
   ]
  },
  {
   "cell_type": "code",
   "execution_count": 20,
   "id": "a65326dd",
   "metadata": {
    "execution": {
     "iopub.execute_input": "2025-02-04T10:54:39.556170Z",
     "iopub.status.busy": "2025-02-04T10:54:39.555779Z",
     "iopub.status.idle": "2025-02-04T10:54:39.576427Z",
     "shell.execute_reply": "2025-02-04T10:54:39.575300Z"
    },
    "id": "EysBDlHY5v3V",
    "outputId": "90fdda2e-9322-492e-e71b-c4f99fc75fb4",
    "papermill": {
     "duration": 0.037906,
     "end_time": "2025-02-04T10:54:39.578254",
     "exception": false,
     "start_time": "2025-02-04T10:54:39.540348",
     "status": "completed"
    },
    "tags": []
   },
   "outputs": [
    {
     "data": {
      "text/html": [
       "<div>\n",
       "<style scoped>\n",
       "    .dataframe tbody tr th:only-of-type {\n",
       "        vertical-align: middle;\n",
       "    }\n",
       "\n",
       "    .dataframe tbody tr th {\n",
       "        vertical-align: top;\n",
       "    }\n",
       "\n",
       "    .dataframe thead th {\n",
       "        text-align: right;\n",
       "    }\n",
       "</style>\n",
       "<table border=\"1\" class=\"dataframe\">\n",
       "  <thead>\n",
       "    <tr style=\"text-align: right;\">\n",
       "      <th></th>\n",
       "      <th>Pregnancies</th>\n",
       "      <th>Glucose</th>\n",
       "      <th>BloodPressure</th>\n",
       "      <th>SkinThickness</th>\n",
       "      <th>Insulin</th>\n",
       "      <th>BMI</th>\n",
       "      <th>DiabetesPedigreeFunction</th>\n",
       "      <th>Age</th>\n",
       "      <th>Outcome</th>\n",
       "      <th>p_Insulin</th>\n",
       "      <th>p_Age</th>\n",
       "      <th>p_Pregnancies</th>\n",
       "    </tr>\n",
       "  </thead>\n",
       "  <tbody>\n",
       "    <tr>\n",
       "      <th>Pregnancies</th>\n",
       "      <td>1.000000</td>\n",
       "      <td>0.142093</td>\n",
       "      <td>0.210666</td>\n",
       "      <td>-0.094425</td>\n",
       "      <td>-0.114510</td>\n",
       "      <td>0.036958</td>\n",
       "      <td>0.009289</td>\n",
       "      <td>0.567438</td>\n",
       "      <td>0.227987</td>\n",
       "      <td>-0.183598</td>\n",
       "      <td>0.605539</td>\n",
       "      <td>0.937656</td>\n",
       "    </tr>\n",
       "    <tr>\n",
       "      <th>Glucose</th>\n",
       "      <td>0.142093</td>\n",
       "      <td>1.000000</td>\n",
       "      <td>0.238754</td>\n",
       "      <td>-0.004609</td>\n",
       "      <td>0.248225</td>\n",
       "      <td>0.192504</td>\n",
       "      <td>0.066530</td>\n",
       "      <td>0.286682</td>\n",
       "      <td>0.492740</td>\n",
       "      <td>0.066469</td>\n",
       "      <td>0.290041</td>\n",
       "      <td>0.128657</td>\n",
       "    </tr>\n",
       "    <tr>\n",
       "      <th>BloodPressure</th>\n",
       "      <td>0.210666</td>\n",
       "      <td>0.238754</td>\n",
       "      <td>1.000000</td>\n",
       "      <td>0.037388</td>\n",
       "      <td>-0.041513</td>\n",
       "      <td>0.303301</td>\n",
       "      <td>0.024290</td>\n",
       "      <td>0.354036</td>\n",
       "      <td>0.183298</td>\n",
       "      <td>-0.110181</td>\n",
       "      <td>0.368126</td>\n",
       "      <td>0.147844</td>\n",
       "    </tr>\n",
       "    <tr>\n",
       "      <th>SkinThickness</th>\n",
       "      <td>-0.094425</td>\n",
       "      <td>-0.004609</td>\n",
       "      <td>0.037388</td>\n",
       "      <td>1.000000</td>\n",
       "      <td>0.487566</td>\n",
       "      <td>0.390340</td>\n",
       "      <td>0.148486</td>\n",
       "      <td>-0.143376</td>\n",
       "      <td>0.030676</td>\n",
       "      <td>0.543843</td>\n",
       "      <td>-0.129331</td>\n",
       "      <td>-0.122315</td>\n",
       "    </tr>\n",
       "    <tr>\n",
       "      <th>Insulin</th>\n",
       "      <td>-0.114510</td>\n",
       "      <td>0.248225</td>\n",
       "      <td>-0.041513</td>\n",
       "      <td>0.487566</td>\n",
       "      <td>1.000000</td>\n",
       "      <td>0.188635</td>\n",
       "      <td>0.213191</td>\n",
       "      <td>-0.089535</td>\n",
       "      <td>0.097746</td>\n",
       "      <td>0.884490</td>\n",
       "      <td>-0.083459</td>\n",
       "      <td>-0.117822</td>\n",
       "    </tr>\n",
       "    <tr>\n",
       "      <th>BMI</th>\n",
       "      <td>0.036958</td>\n",
       "      <td>0.192504</td>\n",
       "      <td>0.303301</td>\n",
       "      <td>0.390340</td>\n",
       "      <td>0.188635</td>\n",
       "      <td>1.000000</td>\n",
       "      <td>0.144757</td>\n",
       "      <td>0.063370</td>\n",
       "      <td>0.269371</td>\n",
       "      <td>0.105200</td>\n",
       "      <td>0.092368</td>\n",
       "      <td>-0.014146</td>\n",
       "    </tr>\n",
       "    <tr>\n",
       "      <th>DiabetesPedigreeFunction</th>\n",
       "      <td>0.009289</td>\n",
       "      <td>0.066530</td>\n",
       "      <td>0.024290</td>\n",
       "      <td>0.148486</td>\n",
       "      <td>0.213191</td>\n",
       "      <td>0.144757</td>\n",
       "      <td>1.000000</td>\n",
       "      <td>0.030081</td>\n",
       "      <td>0.179072</td>\n",
       "      <td>0.199853</td>\n",
       "      <td>0.039591</td>\n",
       "      <td>-0.005067</td>\n",
       "    </tr>\n",
       "    <tr>\n",
       "      <th>Age</th>\n",
       "      <td>0.567438</td>\n",
       "      <td>0.286682</td>\n",
       "      <td>0.354036</td>\n",
       "      <td>-0.143376</td>\n",
       "      <td>-0.089535</td>\n",
       "      <td>0.063370</td>\n",
       "      <td>0.030081</td>\n",
       "      <td>1.000000</td>\n",
       "      <td>0.263344</td>\n",
       "      <td>-0.201916</td>\n",
       "      <td>0.988900</td>\n",
       "      <td>0.518998</td>\n",
       "    </tr>\n",
       "    <tr>\n",
       "      <th>Outcome</th>\n",
       "      <td>0.227987</td>\n",
       "      <td>0.492740</td>\n",
       "      <td>0.183298</td>\n",
       "      <td>0.030676</td>\n",
       "      <td>0.097746</td>\n",
       "      <td>0.269371</td>\n",
       "      <td>0.179072</td>\n",
       "      <td>0.263344</td>\n",
       "      <td>1.000000</td>\n",
       "      <td>-0.022153</td>\n",
       "      <td>0.292163</td>\n",
       "      <td>0.200868</td>\n",
       "    </tr>\n",
       "    <tr>\n",
       "      <th>p_Insulin</th>\n",
       "      <td>-0.183598</td>\n",
       "      <td>0.066469</td>\n",
       "      <td>-0.110181</td>\n",
       "      <td>0.543843</td>\n",
       "      <td>0.884490</td>\n",
       "      <td>0.105200</td>\n",
       "      <td>0.199853</td>\n",
       "      <td>-0.201916</td>\n",
       "      <td>-0.022153</td>\n",
       "      <td>1.000000</td>\n",
       "      <td>-0.198051</td>\n",
       "      <td>-0.172573</td>\n",
       "    </tr>\n",
       "    <tr>\n",
       "      <th>p_Age</th>\n",
       "      <td>0.605539</td>\n",
       "      <td>0.290041</td>\n",
       "      <td>0.368126</td>\n",
       "      <td>-0.129331</td>\n",
       "      <td>-0.083459</td>\n",
       "      <td>0.092368</td>\n",
       "      <td>0.039591</td>\n",
       "      <td>0.988900</td>\n",
       "      <td>0.292163</td>\n",
       "      <td>-0.198051</td>\n",
       "      <td>1.000000</td>\n",
       "      <td>0.559678</td>\n",
       "    </tr>\n",
       "    <tr>\n",
       "      <th>p_Pregnancies</th>\n",
       "      <td>0.937656</td>\n",
       "      <td>0.128657</td>\n",
       "      <td>0.147844</td>\n",
       "      <td>-0.122315</td>\n",
       "      <td>-0.117822</td>\n",
       "      <td>-0.014146</td>\n",
       "      <td>-0.005067</td>\n",
       "      <td>0.518998</td>\n",
       "      <td>0.200868</td>\n",
       "      <td>-0.172573</td>\n",
       "      <td>0.559678</td>\n",
       "      <td>1.000000</td>\n",
       "    </tr>\n",
       "  </tbody>\n",
       "</table>\n",
       "</div>"
      ],
      "text/plain": [
       "                          Pregnancies   Glucose  BloodPressure  SkinThickness  \\\n",
       "Pregnancies                  1.000000  0.142093       0.210666      -0.094425   \n",
       "Glucose                      0.142093  1.000000       0.238754      -0.004609   \n",
       "BloodPressure                0.210666  0.238754       1.000000       0.037388   \n",
       "SkinThickness               -0.094425 -0.004609       0.037388       1.000000   \n",
       "Insulin                     -0.114510  0.248225      -0.041513       0.487566   \n",
       "BMI                          0.036958  0.192504       0.303301       0.390340   \n",
       "DiabetesPedigreeFunction     0.009289  0.066530       0.024290       0.148486   \n",
       "Age                          0.567438  0.286682       0.354036      -0.143376   \n",
       "Outcome                      0.227987  0.492740       0.183298       0.030676   \n",
       "p_Insulin                   -0.183598  0.066469      -0.110181       0.543843   \n",
       "p_Age                        0.605539  0.290041       0.368126      -0.129331   \n",
       "p_Pregnancies                0.937656  0.128657       0.147844      -0.122315   \n",
       "\n",
       "                           Insulin       BMI  DiabetesPedigreeFunction  \\\n",
       "Pregnancies              -0.114510  0.036958                  0.009289   \n",
       "Glucose                   0.248225  0.192504                  0.066530   \n",
       "BloodPressure            -0.041513  0.303301                  0.024290   \n",
       "SkinThickness             0.487566  0.390340                  0.148486   \n",
       "Insulin                   1.000000  0.188635                  0.213191   \n",
       "BMI                       0.188635  1.000000                  0.144757   \n",
       "DiabetesPedigreeFunction  0.213191  0.144757                  1.000000   \n",
       "Age                      -0.089535  0.063370                  0.030081   \n",
       "Outcome                   0.097746  0.269371                  0.179072   \n",
       "p_Insulin                 0.884490  0.105200                  0.199853   \n",
       "p_Age                    -0.083459  0.092368                  0.039591   \n",
       "p_Pregnancies            -0.117822 -0.014146                 -0.005067   \n",
       "\n",
       "                               Age   Outcome  p_Insulin     p_Age  \\\n",
       "Pregnancies               0.567438  0.227987  -0.183598  0.605539   \n",
       "Glucose                   0.286682  0.492740   0.066469  0.290041   \n",
       "BloodPressure             0.354036  0.183298  -0.110181  0.368126   \n",
       "SkinThickness            -0.143376  0.030676   0.543843 -0.129331   \n",
       "Insulin                  -0.089535  0.097746   0.884490 -0.083459   \n",
       "BMI                       0.063370  0.269371   0.105200  0.092368   \n",
       "DiabetesPedigreeFunction  0.030081  0.179072   0.199853  0.039591   \n",
       "Age                       1.000000  0.263344  -0.201916  0.988900   \n",
       "Outcome                   0.263344  1.000000  -0.022153  0.292163   \n",
       "p_Insulin                -0.201916 -0.022153   1.000000 -0.198051   \n",
       "p_Age                     0.988900  0.292163  -0.198051  1.000000   \n",
       "p_Pregnancies             0.518998  0.200868  -0.172573  0.559678   \n",
       "\n",
       "                          p_Pregnancies  \n",
       "Pregnancies                    0.937656  \n",
       "Glucose                        0.128657  \n",
       "BloodPressure                  0.147844  \n",
       "SkinThickness                 -0.122315  \n",
       "Insulin                       -0.117822  \n",
       "BMI                           -0.014146  \n",
       "DiabetesPedigreeFunction      -0.005067  \n",
       "Age                            0.518998  \n",
       "Outcome                        0.200868  \n",
       "p_Insulin                     -0.172573  \n",
       "p_Age                          0.559678  \n",
       "p_Pregnancies                  1.000000  "
      ]
     },
     "execution_count": 20,
     "metadata": {},
     "output_type": "execute_result"
    }
   ],
   "source": [
    "c=df2.corr()\n",
    "c"
   ]
  },
  {
   "cell_type": "code",
   "execution_count": 21,
   "id": "a056543c",
   "metadata": {
    "execution": {
     "iopub.execute_input": "2025-02-04T10:54:39.610440Z",
     "iopub.status.busy": "2025-02-04T10:54:39.610056Z",
     "iopub.status.idle": "2025-02-04T10:54:40.421278Z",
     "shell.execute_reply": "2025-02-04T10:54:40.419976Z"
    },
    "id": "QR7PdzNh5AZN",
    "outputId": "7369c538-c32a-411b-9e18-e960dda87069",
    "papermill": {
     "duration": 0.829822,
     "end_time": "2025-02-04T10:54:40.424700",
     "exception": false,
     "start_time": "2025-02-04T10:54:39.594878",
     "status": "completed"
    },
    "tags": []
   },
   "outputs": [
    {
     "data": {
      "image/png": "[encoded data removed]",
      "text/plain": [
       "<Figure size 1200x800 with 2 Axes>"
      ]
     },
     "metadata": {},
     "output_type": "display_data"
    }
   ],
   "source": [
    "plt.figure(figsize=(12,8))\n",
    "sns.heatmap(c,annot=True,cmap='Greens')\n",
    "plt.title('Correlation heatmap')\n",
    "plt.show()"
   ]
  },
  {
   "cell_type": "code",
   "execution_count": 22,
   "id": "a7636dfd",
   "metadata": {
    "execution": {
     "iopub.execute_input": "2025-02-04T10:54:40.461846Z",
     "iopub.status.busy": "2025-02-04T10:54:40.461435Z",
     "iopub.status.idle": "2025-02-04T10:54:40.470276Z",
     "shell.execute_reply": "2025-02-04T10:54:40.469109Z"
    },
    "id": "Bbg6OZ1v4z08",
    "outputId": "5c9e18f9-36bd-4656-915d-181fac84235c",
    "papermill": {
     "duration": 0.029806,
     "end_time": "2025-02-04T10:54:40.472236",
     "exception": false,
     "start_time": "2025-02-04T10:54:40.442430",
     "status": "completed"
    },
    "tags": []
   },
   "outputs": [
    {
     "data": {
      "text/plain": [
       "Outcome                     1.000000\n",
       "Glucose                     0.492740\n",
       "p_Age                       0.292163\n",
       "BMI                         0.269371\n",
       "Age                         0.263344\n",
       "Pregnancies                 0.227987\n",
       "p_Pregnancies               0.200868\n",
       "BloodPressure               0.183298\n",
       "DiabetesPedigreeFunction    0.179072\n",
       "Insulin                     0.097746\n",
       "SkinThickness               0.030676\n",
       "p_Insulin                  -0.022153\n",
       "Name: Outcome, dtype: float64"
      ]
     },
     "execution_count": 22,
     "metadata": {},
     "output_type": "execute_result"
    }
   ],
   "source": [
    "s=df2.corr()['Outcome']\n",
    "s.sort_values(ascending=False)"
   ]
  },
  {
   "cell_type": "markdown",
   "id": "c8f97cf1",
   "metadata": {
    "id": "sCo4W05CPrVI",
    "papermill": {
     "duration": 0.017056,
     "end_time": "2025-02-04T10:54:40.506868",
     "exception": false,
     "start_time": "2025-02-04T10:54:40.489812",
     "status": "completed"
    },
    "tags": []
   },
   "source": [
    "# Feature Selection"
   ]
  },
  {
   "cell_type": "code",
   "execution_count": 23,
   "id": "98a00c8c",
   "metadata": {
    "execution": {
     "iopub.execute_input": "2025-02-04T10:54:40.543236Z",
     "iopub.status.busy": "2025-02-04T10:54:40.542897Z",
     "iopub.status.idle": "2025-02-04T10:54:40.548134Z",
     "shell.execute_reply": "2025-02-04T10:54:40.547157Z"
    },
    "id": "TANn2qyDW7fH",
    "papermill": {
     "duration": 0.025115,
     "end_time": "2025-02-04T10:54:40.549691",
     "exception": false,
     "start_time": "2025-02-04T10:54:40.524576",
     "status": "completed"
    },
    "tags": []
   },
   "outputs": [],
   "source": [
    "df2=df2.drop(['p_Insulin','p_Pregnancies','Age'],axis=1)"
   ]
  },
  {
   "cell_type": "code",
   "execution_count": 24,
   "id": "4c94a5dc",
   "metadata": {
    "execution": {
     "iopub.execute_input": "2025-02-04T10:54:40.586750Z",
     "iopub.status.busy": "2025-02-04T10:54:40.586214Z",
     "iopub.status.idle": "2025-02-04T10:54:40.592018Z",
     "shell.execute_reply": "2025-02-04T10:54:40.590925Z"
    },
    "id": "P72cl0tixNuB",
    "papermill": {
     "duration": 0.026434,
     "end_time": "2025-02-04T10:54:40.593802",
     "exception": false,
     "start_time": "2025-02-04T10:54:40.567368",
     "status": "completed"
    },
    "tags": []
   },
   "outputs": [],
   "source": [
    "x=df2.drop('Outcome',axis=1)\n",
    "y=df2['Outcome']"
   ]
  },
  {
   "cell_type": "markdown",
   "id": "7e5fe99b",
   "metadata": {
    "id": "ZA2-f80DRLS8",
    "papermill": {
     "duration": 0.017298,
     "end_time": "2025-02-04T10:54:40.628710",
     "exception": false,
     "start_time": "2025-02-04T10:54:40.611412",
     "status": "completed"
    },
    "tags": []
   },
   "source": [
    "# Data Splitting"
   ]
  },
  {
   "cell_type": "code",
   "execution_count": 25,
   "id": "cc5e360d",
   "metadata": {
    "execution": {
     "iopub.execute_input": "2025-02-04T10:54:40.665384Z",
     "iopub.status.busy": "2025-02-04T10:54:40.665056Z",
     "iopub.status.idle": "2025-02-04T10:54:40.671487Z",
     "shell.execute_reply": "2025-02-04T10:54:40.670650Z"
    },
    "id": "G7mPhIB5RYwW",
    "papermill": {
     "duration": 0.026953,
     "end_time": "2025-02-04T10:54:40.673227",
     "exception": false,
     "start_time": "2025-02-04T10:54:40.646274",
     "status": "completed"
    },
    "tags": []
   },
   "outputs": [],
   "source": [
    "x_train, x_test, y_train, y_test = train_test_split(x, y, test_size=0.2, random_state=12)"
   ]
  },
  {
   "cell_type": "markdown",
   "id": "d8f16de9",
   "metadata": {
    "id": "p_64-msXSMP6",
    "papermill": {
     "duration": 0.018596,
     "end_time": "2025-02-04T10:54:40.709353",
     "exception": false,
     "start_time": "2025-02-04T10:54:40.690757",
     "status": "completed"
    },
    "tags": []
   },
   "source": [
    "# Initial Modeling:"
   ]
  },
  {
   "cell_type": "code",
   "execution_count": 26,
   "id": "7ca6e172",
   "metadata": {
    "execution": {
     "iopub.execute_input": "2025-02-04T10:54:40.746534Z",
     "iopub.status.busy": "2025-02-04T10:54:40.746197Z",
     "iopub.status.idle": "2025-02-04T10:54:40.753013Z",
     "shell.execute_reply": "2025-02-04T10:54:40.751918Z"
    },
    "id": "FwMb34JqSN2H",
    "papermill": {
     "duration": 0.027858,
     "end_time": "2025-02-04T10:54:40.755058",
     "exception": false,
     "start_time": "2025-02-04T10:54:40.727200",
     "status": "completed"
    },
    "tags": []
   },
   "outputs": [],
   "source": [
    "# List of Classification models to apply\n",
    "models = {\n",
    "    'Logistic Regression': LogisticRegression(),\n",
    "    'LDA': LinearDiscriminantAnalysis(),\n",
    "    'Ridge Classifier': RidgeClassifier(),\n",
    "    'Perceptron': Perceptron(),\n",
    "    'Passive Aggressive': PassiveAggressiveClassifier(),\n",
    "    'SGD Classifier': SGDClassifier(),\n",
    "    'SVC': SVC(probability=True),\n",
    "    'Linear SVC': LinearSVC(),\n",
    "    'KNN': KNeighborsClassifier(),\n",
    "    'Decision Tree': DecisionTreeClassifier(),\n",
    "    'Random Forest': RandomForestClassifier(),\n",
    "    'Extra Trees': ExtraTreesClassifier(),\n",
    "    'Gradient Boosting': GradientBoostingClassifier(),\n",
    "    'AdaBoost': AdaBoostClassifier(),\n",
    "    'XGBoost': xgb.XGBClassifier(),\n",
    "    'LightGBM': lgb.LGBMClassifier(),\n",
    "    # 'CatBoost': CatBoostClassifier(verbose=0),\n",
    "    'Gaussian NB': GaussianNB(),\n",
    "    'Multinomial NB': MultinomialNB(),\n",
    "    'Bernoulli NB': BernoulliNB(),\n",
    "    'MLP': MLPClassifier(),\n",
    "    'Quadratic Discriminant Analysis': QuadraticDiscriminantAnalysis(),\n",
    "    'Gaussian Process Classifier': GaussianProcessClassifier()\n",
    "}\n",
    "\n",
    "skf = StratifiedKFold(n_splits=5)"
   ]
  },
  {
   "cell_type": "code",
   "execution_count": 27,
   "id": "32270094",
   "metadata": {
    "execution": {
     "iopub.execute_input": "2025-02-04T10:54:40.794366Z",
     "iopub.status.busy": "2025-02-04T10:54:40.794013Z",
     "iopub.status.idle": "2025-02-04T10:54:42.761753Z",
     "shell.execute_reply": "2025-02-04T10:54:42.760580Z"
    },
    "id": "MnNE9HiXSSYN",
    "outputId": "6c0c5c37-52be-4866-a148-96a38e53fff6",
    "papermill": {
     "duration": 1.988962,
     "end_time": "2025-02-04T10:54:42.763480",
     "exception": false,
     "start_time": "2025-02-04T10:54:40.774518",
     "status": "completed"
    },
    "tags": []
   },
   "outputs": [
    {
     "name": "stderr",
     "output_type": "stream",
     "text": [
      "/usr/local/lib/python3.10/dist-packages/sklearn/linear_model/_logistic.py:458: ConvergenceWarning: lbfgs failed to converge (status=1):\n",
      "STOP: TOTAL NO. of ITERATIONS REACHED LIMIT.\n",
      "\n",
      "Increase the number of iterations (max_iter) or scale the data as shown in:\n",
      "    https://scikit-learn.org/stable/modules/preprocessing.html\n",
      "Please also refer to the documentation for alternative solver options:\n",
      "    https://scikit-learn.org/stable/modules/linear_model.html#logistic-regression\n",
      "  n_iter_i = _check_optimize_result(\n",
      "/usr/local/lib/python3.10/dist-packages/sklearn/metrics/_classification.py:1344: UndefinedMetricWarning: Precision is ill-defined and being set to 0.0 in labels with no predicted samples. Use `zero_division` parameter to control this behavior.\n",
      "  _warn_prf(average, modifier, msg_start, len(result))\n",
      "/usr/local/lib/python3.10/dist-packages/sklearn/metrics/_classification.py:1344: UndefinedMetricWarning: Precision and F-score are ill-defined and being set to 0.0 in labels with no predicted samples. Use `zero_division` parameter to control this behavior.\n",
      "  _warn_prf(average, modifier, msg_start, len(result))\n",
      "/usr/local/lib/python3.10/dist-packages/sklearn/metrics/_classification.py:1344: UndefinedMetricWarning: Precision and F-score are ill-defined and being set to 0.0 in labels with no predicted samples. Use `zero_division` parameter to control this behavior.\n",
      "  _warn_prf(average, modifier, msg_start, len(result))\n",
      "/usr/local/lib/python3.10/dist-packages/sklearn/metrics/_classification.py:1344: UndefinedMetricWarning: Precision and F-score are ill-defined and being set to 0.0 in labels with no predicted samples. Use `zero_division` parameter to control this behavior.\n",
      "  _warn_prf(average, modifier, msg_start, len(result))\n",
      "/usr/local/lib/python3.10/dist-packages/sklearn/svm/_base.py:1244: ConvergenceWarning: Liblinear failed to converge, increase the number of iterations.\n",
      "  warnings.warn(\n"
     ]
    },
    {
     "name": "stdout",
     "output_type": "stream",
     "text": [
      "[LightGBM] [Info] Number of positive: 166, number of negative: 345\n",
      "[LightGBM] [Info] Auto-choosing row-wise multi-threading, the overhead of testing was 0.003123 seconds.\n",
      "You can set `force_row_wise=true` to remove the overhead.\n",
      "And if memory is not enough, you can set `force_col_wise=true`.\n",
      "[LightGBM] [Info] Total Bins 577\n",
      "[LightGBM] [Info] Number of data points in the train set: 511, number of used features: 8\n",
      "[LightGBM] [Info] [binary:BoostFromScore]: pavg=0.324853 -> initscore=-0.731557\n",
      "[LightGBM] [Info] Start training from score -0.731557\n",
      "[LightGBM] [Warning] No further splits with positive gain, best gain: -inf\n",
      "[LightGBM] [Warning] No further splits with positive gain, best gain: -inf\n",
      "[LightGBM] [Warning] No further splits with positive gain, best gain: -inf\n",
      "[LightGBM] [Warning] No further splits with positive gain, best gain: -inf\n",
      "[LightGBM] [Warning] No further splits with positive gain, best gain: -inf\n",
      "[LightGBM] [Warning] No further splits with positive gain, best gain: -inf\n",
      "[LightGBM] [Warning] No further splits with positive gain, best gain: -inf\n",
      "[LightGBM] [Warning] No further splits with positive gain, best gain: -inf\n",
      "[LightGBM] [Warning] No further splits with positive gain, best gain: -inf\n",
      "[LightGBM] [Warning] No further splits with positive gain, best gain: -inf\n",
      "[LightGBM] [Warning] No further splits with positive gain, best gain: -inf\n",
      "[LightGBM] [Warning] No further splits with positive gain, best gain: -inf\n",
      "[LightGBM] [Warning] No further splits with positive gain, best gain: -inf\n",
      "[LightGBM] [Warning] No further splits with positive gain, best gain: -inf\n",
      "[LightGBM] [Warning] No further splits with positive gain, best gain: -inf\n",
      "[LightGBM] [Warning] No further splits with positive gain, best gain: -inf\n",
      "[LightGBM] [Warning] No further splits with positive gain, best gain: -inf\n",
      "[LightGBM] [Warning] No further splits with positive gain, best gain: -inf\n",
      "[LightGBM] [Warning] No further splits with positive gain, best gain: -inf\n",
      "[LightGBM] [Warning] No further splits with positive gain, best gain: -inf\n",
      "[LightGBM] [Warning] No further splits with positive gain, best gain: -inf\n",
      "[LightGBM] [Warning] No further splits with positive gain, best gain: -inf\n",
      "[LightGBM] [Warning] No further splits with positive gain, best gain: -inf\n",
      "[LightGBM] [Warning] No further splits with positive gain, best gain: -inf\n",
      "[LightGBM] [Warning] No further splits with positive gain, best gain: -inf\n",
      "[LightGBM] [Warning] No further splits with positive gain, best gain: -inf\n",
      "[LightGBM] [Warning] No further splits with positive gain, best gain: -inf\n",
      "[LightGBM] [Warning] No further splits with positive gain, best gain: -inf\n",
      "[LightGBM] [Warning] No further splits with positive gain, best gain: -inf\n",
      "[LightGBM] [Warning] No further splits with positive gain, best gain: -inf\n",
      "[LightGBM] [Warning] No further splits with positive gain, best gain: -inf\n",
      "[LightGBM] [Warning] No further splits with positive gain, best gain: -inf\n",
      "[LightGBM] [Warning] No further splits with positive gain, best gain: -inf\n",
      "[LightGBM] [Warning] No further splits with positive gain, best gain: -inf\n",
      "[LightGBM] [Warning] No further splits with positive gain, best gain: -inf\n",
      "[LightGBM] [Warning] No further splits with positive gain, best gain: -inf\n",
      "[LightGBM] [Warning] No further splits with positive gain, best gain: -inf\n",
      "[LightGBM] [Warning] No further splits with positive gain, best gain: -inf\n",
      "[LightGBM] [Warning] No further splits with positive gain, best gain: -inf\n",
      "[LightGBM] [Warning] No further splits with positive gain, best gain: -inf\n",
      "[LightGBM] [Warning] No further splits with positive gain, best gain: -inf\n",
      "[LightGBM] [Warning] No further splits with positive gain, best gain: -inf\n",
      "[LightGBM] [Warning] No further splits with positive gain, best gain: -inf\n",
      "[LightGBM] [Warning] No further splits with positive gain, best gain: -inf\n",
      "[LightGBM] [Warning] No further splits with positive gain, best gain: -inf\n",
      "[LightGBM] [Warning] No further splits with positive gain, best gain: -inf\n",
      "[LightGBM] [Warning] No further splits with positive gain, best gain: -inf\n",
      "[LightGBM] [Warning] No further splits with positive gain, best gain: -inf\n",
      "[LightGBM] [Warning] No further splits with positive gain, best gain: -inf\n",
      "[LightGBM] [Warning] No further splits with positive gain, best gain: -inf\n",
      "[LightGBM] [Warning] No further splits with positive gain, best gain: -inf\n",
      "[LightGBM] [Warning] No further splits with positive gain, best gain: -inf\n",
      "[LightGBM] [Warning] No further splits with positive gain, best gain: -inf\n",
      "[LightGBM] [Warning] No further splits with positive gain, best gain: -inf\n",
      "[LightGBM] [Warning] No further splits with positive gain, best gain: -inf\n",
      "[LightGBM] [Warning] No further splits with positive gain, best gain: -inf\n",
      "[LightGBM] [Warning] No further splits with positive gain, best gain: -inf\n",
      "[LightGBM] [Warning] No further splits with positive gain, best gain: -inf\n",
      "[LightGBM] [Warning] No further splits with positive gain, best gain: -inf\n",
      "[LightGBM] [Warning] No further splits with positive gain, best gain: -inf\n",
      "[LightGBM] [Warning] No further splits with positive gain, best gain: -inf\n",
      "[LightGBM] [Warning] No further splits with positive gain, best gain: -inf\n",
      "[LightGBM] [Warning] No further splits with positive gain, best gain: -inf\n",
      "[LightGBM] [Warning] No further splits with positive gain, best gain: -inf\n",
      "[LightGBM] [Warning] No further splits with positive gain, best gain: -inf\n",
      "[LightGBM] [Warning] No further splits with positive gain, best gain: -inf\n",
      "[LightGBM] [Warning] No further splits with positive gain, best gain: -inf\n",
      "[LightGBM] [Warning] No further splits with positive gain, best gain: -inf\n",
      "[LightGBM] [Warning] No further splits with positive gain, best gain: -inf\n",
      "[LightGBM] [Warning] No further splits with positive gain, best gain: -inf\n",
      "[LightGBM] [Warning] No further splits with positive gain, best gain: -inf\n",
      "[LightGBM] [Warning] No further splits with positive gain, best gain: -inf\n",
      "[LightGBM] [Warning] No further splits with positive gain, best gain: -inf\n",
      "[LightGBM] [Warning] No further splits with positive gain, best gain: -inf\n",
      "[LightGBM] [Warning] No further splits with positive gain, best gain: -inf\n",
      "[LightGBM] [Warning] No further splits with positive gain, best gain: -inf\n",
      "[LightGBM] [Warning] No further splits with positive gain, best gain: -inf\n",
      "[LightGBM] [Warning] No further splits with positive gain, best gain: -inf\n",
      "[LightGBM] [Warning] No further splits with positive gain, best gain: -inf\n",
      "[LightGBM] [Warning] No further splits with positive gain, best gain: -inf\n",
      "[LightGBM] [Warning] No further splits with positive gain, best gain: -inf\n",
      "[LightGBM] [Warning] No further splits with positive gain, best gain: -inf\n",
      "[LightGBM] [Warning] No further splits with positive gain, best gain: -inf\n",
      "[LightGBM] [Warning] No further splits with positive gain, best gain: -inf\n",
      "[LightGBM] [Warning] No further splits with positive gain, best gain: -inf\n",
      "[LightGBM] [Warning] No further splits with positive gain, best gain: -inf\n",
      "[LightGBM] [Warning] No further splits with positive gain, best gain: -inf\n",
      "[LightGBM] [Warning] No further splits with positive gain, best gain: -inf\n",
      "[LightGBM] [Warning] No further splits with positive gain, best gain: -inf\n",
      "[LightGBM] [Warning] No further splits with positive gain, best gain: -inf\n",
      "[LightGBM] [Warning] No further splits with positive gain, best gain: -inf\n",
      "[LightGBM] [Warning] No further splits with positive gain, best gain: -inf\n",
      "[LightGBM] [Warning] No further splits with positive gain, best gain: -inf\n",
      "[LightGBM] [Warning] No further splits with positive gain, best gain: -inf\n",
      "[LightGBM] [Warning] No further splits with positive gain, best gain: -inf\n",
      "[LightGBM] [Warning] No further splits with positive gain, best gain: -inf\n",
      "[LightGBM] [Warning] No further splits with positive gain, best gain: -inf\n",
      "[LightGBM] [Warning] No further splits with positive gain, best gain: -inf\n",
      "[LightGBM] [Warning] No further splits with positive gain, best gain: -inf\n",
      "[LightGBM] [Warning] No further splits with positive gain, best gain: -inf\n"
     ]
    },
    {
     "name": "stderr",
     "output_type": "stream",
     "text": [
      "/usr/local/lib/python3.10/dist-packages/sklearn/metrics/_classification.py:1344: UndefinedMetricWarning: Precision is ill-defined and being set to 0.0 in labels with no predicted samples. Use `zero_division` parameter to control this behavior.\n",
      "  _warn_prf(average, modifier, msg_start, len(result))\n",
      "/usr/local/lib/python3.10/dist-packages/sklearn/metrics/_classification.py:1344: UndefinedMetricWarning: Precision and F-score are ill-defined and being set to 0.0 in labels with no predicted samples. Use `zero_division` parameter to control this behavior.\n",
      "  _warn_prf(average, modifier, msg_start, len(result))\n",
      "/usr/local/lib/python3.10/dist-packages/sklearn/metrics/_classification.py:1344: UndefinedMetricWarning: Precision and F-score are ill-defined and being set to 0.0 in labels with no predicted samples. Use `zero_division` parameter to control this behavior.\n",
      "  _warn_prf(average, modifier, msg_start, len(result))\n",
      "/usr/local/lib/python3.10/dist-packages/sklearn/metrics/_classification.py:1344: UndefinedMetricWarning: Precision and F-score are ill-defined and being set to 0.0 in labels with no predicted samples. Use `zero_division` parameter to control this behavior.\n",
      "  _warn_prf(average, modifier, msg_start, len(result))\n"
     ]
    },
    {
     "data": {
      "text/html": [
       "<div>\n",
       "<style scoped>\n",
       "    .dataframe tbody tr th:only-of-type {\n",
       "        vertical-align: middle;\n",
       "    }\n",
       "\n",
       "    .dataframe tbody tr th {\n",
       "        vertical-align: top;\n",
       "    }\n",
       "\n",
       "    .dataframe thead th {\n",
       "        text-align: right;\n",
       "    }\n",
       "</style>\n",
       "<table border=\"1\" class=\"dataframe\">\n",
       "  <thead>\n",
       "    <tr style=\"text-align: right;\">\n",
       "      <th></th>\n",
       "      <th>Accuracy</th>\n",
       "      <th>Precision</th>\n",
       "      <th>Recall</th>\n",
       "      <th>F1 Score</th>\n",
       "      <th>Confusion Matrix</th>\n",
       "      <th>Classification Report</th>\n",
       "    </tr>\n",
       "  </thead>\n",
       "  <tbody>\n",
       "    <tr>\n",
       "      <th>Logistic Regression</th>\n",
       "      <td>0.796875</td>\n",
       "      <td>0.787634</td>\n",
       "      <td>0.796875</td>\n",
       "      <td>0.790187</td>\n",
       "      <td>[[84, 10], [16, 18]]</td>\n",
       "      <td>{'0': {'precision': 0.84, 'recall': 0.89361702...</td>\n",
       "    </tr>\n",
       "    <tr>\n",
       "      <th>LDA</th>\n",
       "      <td>0.789062</td>\n",
       "      <td>0.780559</td>\n",
       "      <td>0.789062</td>\n",
       "      <td>0.783424</td>\n",
       "      <td>[[83, 11], [16, 18]]</td>\n",
       "      <td>{'0': {'precision': 0.8383838383838383, 'recal...</td>\n",
       "    </tr>\n",
       "    <tr>\n",
       "      <th>Ridge Classifier</th>\n",
       "      <td>0.804688</td>\n",
       "      <td>0.795122</td>\n",
       "      <td>0.804688</td>\n",
       "      <td>0.796987</td>\n",
       "      <td>[[85, 9], [16, 18]]</td>\n",
       "      <td>{'0': {'precision': 0.8415841584158416, 'recal...</td>\n",
       "    </tr>\n",
       "    <tr>\n",
       "      <th>Perceptron</th>\n",
       "      <td>0.703125</td>\n",
       "      <td>0.697591</td>\n",
       "      <td>0.703125</td>\n",
       "      <td>0.700189</td>\n",
       "      <td>[[76, 18], [20, 14]]</td>\n",
       "      <td>{'0': {'precision': 0.7916666666666666, 'recal...</td>\n",
       "    </tr>\n",
       "    <tr>\n",
       "      <th>Passive Aggressive</th>\n",
       "      <td>0.734375</td>\n",
       "      <td>0.539307</td>\n",
       "      <td>0.734375</td>\n",
       "      <td>0.621903</td>\n",
       "      <td>[[94, 0], [34, 0]]</td>\n",
       "      <td>{'0': {'precision': 0.734375, 'recall': 1.0, '...</td>\n",
       "    </tr>\n",
       "    <tr>\n",
       "      <th>SGD Classifier</th>\n",
       "      <td>0.320312</td>\n",
       "      <td>0.809013</td>\n",
       "      <td>0.320312</td>\n",
       "      <td>0.218327</td>\n",
       "      <td>[[7, 87], [0, 34]]</td>\n",
       "      <td>{'0': {'precision': 1.0, 'recall': 0.074468085...</td>\n",
       "    </tr>\n",
       "    <tr>\n",
       "      <th>SVC</th>\n",
       "      <td>0.8125</td>\n",
       "      <td>0.807449</td>\n",
       "      <td>0.8125</td>\n",
       "      <td>0.791007</td>\n",
       "      <td>[[90, 4], [20, 14]]</td>\n",
       "      <td>{'0': {'precision': 0.8181818181818182, 'recal...</td>\n",
       "    </tr>\n",
       "    <tr>\n",
       "      <th>Linear SVC</th>\n",
       "      <td>0.515625</td>\n",
       "      <td>0.698307</td>\n",
       "      <td>0.515625</td>\n",
       "      <td>0.534895</td>\n",
       "      <td>[[40, 54], [8, 26]]</td>\n",
       "      <td>{'0': {'precision': 0.8333333333333334, 'recal...</td>\n",
       "    </tr>\n",
       "    <tr>\n",
       "      <th>KNN</th>\n",
       "      <td>0.742188</td>\n",
       "      <td>0.739798</td>\n",
       "      <td>0.742188</td>\n",
       "      <td>0.740946</td>\n",
       "      <td>[[78, 16], [17, 17]]</td>\n",
       "      <td>{'0': {'precision': 0.8210526315789474, 'recal...</td>\n",
       "    </tr>\n",
       "    <tr>\n",
       "      <th>Decision Tree</th>\n",
       "      <td>0.765625</td>\n",
       "      <td>0.785905</td>\n",
       "      <td>0.765625</td>\n",
       "      <td>0.772752</td>\n",
       "      <td>[[75, 19], [11, 23]]</td>\n",
       "      <td>{'0': {'precision': 0.872093023255814, 'recall...</td>\n",
       "    </tr>\n",
       "    <tr>\n",
       "      <th>Random Forest</th>\n",
       "      <td>0.773438</td>\n",
       "      <td>0.767475</td>\n",
       "      <td>0.773438</td>\n",
       "      <td>0.769988</td>\n",
       "      <td>[[81, 13], [16, 18]]</td>\n",
       "      <td>{'0': {'precision': 0.8350515463917526, 'recal...</td>\n",
       "    </tr>\n",
       "    <tr>\n",
       "      <th>Extra Trees</th>\n",
       "      <td>0.78125</td>\n",
       "      <td>0.773852</td>\n",
       "      <td>0.78125</td>\n",
       "      <td>0.776693</td>\n",
       "      <td>[[82, 12], [16, 18]]</td>\n",
       "      <td>{'0': {'precision': 0.8367346938775511, 'recal...</td>\n",
       "    </tr>\n",
       "    <tr>\n",
       "      <th>Gradient Boosting</th>\n",
       "      <td>0.789062</td>\n",
       "      <td>0.795474</td>\n",
       "      <td>0.789062</td>\n",
       "      <td>0.791809</td>\n",
       "      <td>[[79, 15], [12, 22]]</td>\n",
       "      <td>{'0': {'precision': 0.8681318681318682, 'recal...</td>\n",
       "    </tr>\n",
       "    <tr>\n",
       "      <th>AdaBoost</th>\n",
       "      <td>0.773438</td>\n",
       "      <td>0.771357</td>\n",
       "      <td>0.773438</td>\n",
       "      <td>0.772346</td>\n",
       "      <td>[[80, 14], [15, 19]]</td>\n",
       "      <td>{'0': {'precision': 0.8421052631578947, 'recal...</td>\n",
       "    </tr>\n",
       "    <tr>\n",
       "      <th>XGBoost</th>\n",
       "      <td>0.726562</td>\n",
       "      <td>0.734477</td>\n",
       "      <td>0.726562</td>\n",
       "      <td>0.730122</td>\n",
       "      <td>[[75, 19], [16, 18]]</td>\n",
       "      <td>{'0': {'precision': 0.8241758241758241, 'recal...</td>\n",
       "    </tr>\n",
       "    <tr>\n",
       "      <th>LightGBM</th>\n",
       "      <td>0.765625</td>\n",
       "      <td>0.765625</td>\n",
       "      <td>0.765625</td>\n",
       "      <td>0.765625</td>\n",
       "      <td>[[79, 15], [15, 19]]</td>\n",
       "      <td>{'0': {'precision': 0.8404255319148937, 'recal...</td>\n",
       "    </tr>\n",
       "    <tr>\n",
       "      <th>Gaussian NB</th>\n",
       "      <td>0.773438</td>\n",
       "      <td>0.780224</td>\n",
       "      <td>0.773438</td>\n",
       "      <td>0.776387</td>\n",
       "      <td>[[78, 16], [13, 21]]</td>\n",
       "      <td>{'0': {'precision': 0.8571428571428571, 'recal...</td>\n",
       "    </tr>\n",
       "    <tr>\n",
       "      <th>Multinomial NB</th>\n",
       "      <td>0.59375</td>\n",
       "      <td>0.629261</td>\n",
       "      <td>0.59375</td>\n",
       "      <td>0.60838</td>\n",
       "      <td>[[63, 31], [21, 13]]</td>\n",
       "      <td>{'0': {'precision': 0.75, 'recall': 0.67021276...</td>\n",
       "    </tr>\n",
       "    <tr>\n",
       "      <th>Bernoulli NB</th>\n",
       "      <td>0.734375</td>\n",
       "      <td>0.539307</td>\n",
       "      <td>0.734375</td>\n",
       "      <td>0.621903</td>\n",
       "      <td>[[94, 0], [34, 0]]</td>\n",
       "      <td>{'0': {'precision': 0.734375, 'recall': 1.0, '...</td>\n",
       "    </tr>\n",
       "    <tr>\n",
       "      <th>MLP</th>\n",
       "      <td>0.742188</td>\n",
       "      <td>0.744638</td>\n",
       "      <td>0.742188</td>\n",
       "      <td>0.743366</td>\n",
       "      <td>[[77, 17], [16, 18]]</td>\n",
       "      <td>{'0': {'precision': 0.8279569892473119, 'recal...</td>\n",
       "    </tr>\n",
       "    <tr>\n",
       "      <th>Quadratic Discriminant Analysis</th>\n",
       "      <td>0.757812</td>\n",
       "      <td>0.747404</td>\n",
       "      <td>0.757812</td>\n",
       "      <td>0.751339</td>\n",
       "      <td>[[81, 13], [18, 16]]</td>\n",
       "      <td>{'0': {'precision': 0.8181818181818182, 'recal...</td>\n",
       "    </tr>\n",
       "    <tr>\n",
       "      <th>Gaussian Process Classifier</th>\n",
       "      <td>0.75</td>\n",
       "      <td>0.745443</td>\n",
       "      <td>0.75</td>\n",
       "      <td>0.747528</td>\n",
       "      <td>[[79, 15], [17, 17]]</td>\n",
       "      <td>{'0': {'precision': 0.8229166666666666, 'recal...</td>\n",
       "    </tr>\n",
       "  </tbody>\n",
       "</table>\n",
       "</div>"
      ],
      "text/plain": [
       "                                 Accuracy Precision    Recall  F1 Score  \\\n",
       "Logistic Regression              0.796875  0.787634  0.796875  0.790187   \n",
       "LDA                              0.789062  0.780559  0.789062  0.783424   \n",
       "Ridge Classifier                 0.804688  0.795122  0.804688  0.796987   \n",
       "Perceptron                       0.703125  0.697591  0.703125  0.700189   \n",
       "Passive Aggressive               0.734375  0.539307  0.734375  0.621903   \n",
       "SGD Classifier                   0.320312  0.809013  0.320312  0.218327   \n",
       "SVC                                0.8125  0.807449    0.8125  0.791007   \n",
       "Linear SVC                       0.515625  0.698307  0.515625  0.534895   \n",
       "KNN                              0.742188  0.739798  0.742188  0.740946   \n",
       "Decision Tree                    0.765625  0.785905  0.765625  0.772752   \n",
       "Random Forest                    0.773438  0.767475  0.773438  0.769988   \n",
       "Extra Trees                       0.78125  0.773852   0.78125  0.776693   \n",
       "Gradient Boosting                0.789062  0.795474  0.789062  0.791809   \n",
       "AdaBoost                         0.773438  0.771357  0.773438  0.772346   \n",
       "XGBoost                          0.726562  0.734477  0.726562  0.730122   \n",
       "LightGBM                         0.765625  0.765625  0.765625  0.765625   \n",
       "Gaussian NB                      0.773438  0.780224  0.773438  0.776387   \n",
       "Multinomial NB                    0.59375  0.629261   0.59375   0.60838   \n",
       "Bernoulli NB                     0.734375  0.539307  0.734375  0.621903   \n",
       "MLP                              0.742188  0.744638  0.742188  0.743366   \n",
       "Quadratic Discriminant Analysis  0.757812  0.747404  0.757812  0.751339   \n",
       "Gaussian Process Classifier          0.75  0.745443      0.75  0.747528   \n",
       "\n",
       "                                     Confusion Matrix  \\\n",
       "Logistic Regression              [[84, 10], [16, 18]]   \n",
       "LDA                              [[83, 11], [16, 18]]   \n",
       "Ridge Classifier                  [[85, 9], [16, 18]]   \n",
       "Perceptron                       [[76, 18], [20, 14]]   \n",
       "Passive Aggressive                 [[94, 0], [34, 0]]   \n",
       "SGD Classifier                     [[7, 87], [0, 34]]   \n",
       "SVC                               [[90, 4], [20, 14]]   \n",
       "Linear SVC                        [[40, 54], [8, 26]]   \n",
       "KNN                              [[78, 16], [17, 17]]   \n",
       "Decision Tree                    [[75, 19], [11, 23]]   \n",
       "Random Forest                    [[81, 13], [16, 18]]   \n",
       "Extra Trees                      [[82, 12], [16, 18]]   \n",
       "Gradient Boosting                [[79, 15], [12, 22]]   \n",
       "AdaBoost                         [[80, 14], [15, 19]]   \n",
       "XGBoost                          [[75, 19], [16, 18]]   \n",
       "LightGBM                         [[79, 15], [15, 19]]   \n",
       "Gaussian NB                      [[78, 16], [13, 21]]   \n",
       "Multinomial NB                   [[63, 31], [21, 13]]   \n",
       "Bernoulli NB                       [[94, 0], [34, 0]]   \n",
       "MLP                              [[77, 17], [16, 18]]   \n",
       "Quadratic Discriminant Analysis  [[81, 13], [18, 16]]   \n",
       "Gaussian Process Classifier      [[79, 15], [17, 17]]   \n",
       "\n",
       "                                                             Classification Report  \n",
       "Logistic Regression              {'0': {'precision': 0.84, 'recall': 0.89361702...  \n",
       "LDA                              {'0': {'precision': 0.8383838383838383, 'recal...  \n",
       "Ridge Classifier                 {'0': {'precision': 0.8415841584158416, 'recal...  \n",
       "Perceptron                       {'0': {'precision': 0.7916666666666666, 'recal...  \n",
       "Passive Aggressive               {'0': {'precision': 0.734375, 'recall': 1.0, '...  \n",
       "SGD Classifier                   {'0': {'precision': 1.0, 'recall': 0.074468085...  \n",
       "SVC                              {'0': {'precision': 0.8181818181818182, 'recal...  \n",
       "Linear SVC                       {'0': {'precision': 0.8333333333333334, 'recal...  \n",
       "KNN                              {'0': {'precision': 0.8210526315789474, 'recal...  \n",
       "Decision Tree                    {'0': {'precision': 0.872093023255814, 'recall...  \n",
       "Random Forest                    {'0': {'precision': 0.8350515463917526, 'recal...  \n",
       "Extra Trees                      {'0': {'precision': 0.8367346938775511, 'recal...  \n",
       "Gradient Boosting                {'0': {'precision': 0.8681318681318682, 'recal...  \n",
       "AdaBoost                         {'0': {'precision': 0.8421052631578947, 'recal...  \n",
       "XGBoost                          {'0': {'precision': 0.8241758241758241, 'recal...  \n",
       "LightGBM                         {'0': {'precision': 0.8404255319148937, 'recal...  \n",
       "Gaussian NB                      {'0': {'precision': 0.8571428571428571, 'recal...  \n",
       "Multinomial NB                   {'0': {'precision': 0.75, 'recall': 0.67021276...  \n",
       "Bernoulli NB                     {'0': {'precision': 0.734375, 'recall': 1.0, '...  \n",
       "MLP                              {'0': {'precision': 0.8279569892473119, 'recal...  \n",
       "Quadratic Discriminant Analysis  {'0': {'precision': 0.8181818181818182, 'recal...  \n",
       "Gaussian Process Classifier      {'0': {'precision': 0.8229166666666666, 'recal...  "
      ]
     },
     "execution_count": 27,
     "metadata": {},
     "output_type": "execute_result"
    }
   ],
   "source": [
    "result={}\n",
    "for name,model in models.items():\n",
    "  model.fit(x_train,y_train)\n",
    "  y_pred=model.predict(x_test)\n",
    "\n",
    "  accuracy=accuracy_score(y_test,y_pred)\n",
    "  precision=precision_score(y_test,y_pred,average='weighted')\n",
    "  recall=recall_score(y_test,y_pred,average='weighted')\n",
    "  f1=f1_score(y_test,y_pred,average='weighted')\n",
    "  # roc_auc=roc_auc_score(y_test,y_pred,average='weighted',multi_class='ovr')\n",
    "  CM=confusion_matrix(y_test,y_pred)\n",
    "  report=classification_report(y_test,y_pred,output_dict=True)\n",
    "\n",
    "  metrics={\n",
    "      # 'Model':name,\n",
    "      'Accuracy':accuracy,\n",
    "      'Precision':precision,\n",
    "      'Recall':recall,\n",
    "      'F1 Score':f1,\n",
    "      # 'ROC AUC':roc_auc,\n",
    "      'Confusion Matrix':CM,\n",
    "      'Classification Report':report\n",
    "  }\n",
    "  result[name] = metrics\n",
    "\n",
    "results_df = pd.DataFrame(result).T\n",
    "results_df"
   ]
  },
  {
   "cell_type": "markdown",
   "id": "d2fddbaf",
   "metadata": {
    "id": "K4c81y1XbF1W",
    "papermill": {
     "duration": 0.01796,
     "end_time": "2025-02-04T10:54:42.799836",
     "exception": false,
     "start_time": "2025-02-04T10:54:42.781876",
     "status": "completed"
    },
    "tags": []
   },
   "source": [
    "Gradient Boosting | Ridge Classifier | Linear SVC"
   ]
  },
  {
   "cell_type": "markdown",
   "id": "227fe92e",
   "metadata": {
    "id": "wVDzZPiKcRpO",
    "papermill": {
     "duration": 0.01846,
     "end_time": "2025-02-04T10:54:42.836667",
     "exception": false,
     "start_time": "2025-02-04T10:54:42.818207",
     "status": "completed"
    },
    "tags": []
   },
   "source": [
    "# Voating"
   ]
  },
  {
   "cell_type": "markdown",
   "id": "ebf940e9",
   "metadata": {
    "id": "EVl6g-VNdbVH",
    "papermill": {
     "duration": 0.017744,
     "end_time": "2025-02-04T10:54:42.872594",
     "exception": false,
     "start_time": "2025-02-04T10:54:42.854850",
     "status": "completed"
    },
    "tags": []
   },
   "source": [
    "Hard"
   ]
  },
  {
   "cell_type": "code",
   "execution_count": 28,
   "id": "98311727",
   "metadata": {
    "execution": {
     "iopub.execute_input": "2025-02-04T10:54:42.910233Z",
     "iopub.status.busy": "2025-02-04T10:54:42.909893Z",
     "iopub.status.idle": "2025-02-04T10:54:42.914464Z",
     "shell.execute_reply": "2025-02-04T10:54:42.913399Z"
    },
    "id": "SNfT-H6KcTR2",
    "papermill": {
     "duration": 0.025383,
     "end_time": "2025-02-04T10:54:42.916101",
     "exception": false,
     "start_time": "2025-02-04T10:54:42.890718",
     "status": "completed"
    },
    "tags": []
   },
   "outputs": [],
   "source": [
    "voting_clf_hard = VotingClassifier(estimators=[\n",
    "    ('Gradient Boosting',GradientBoostingClassifier()),\n",
    "    ('Ridge Classifier',RidgeClassifier()),\n",
    "    ('Linear SVC',LinearSVC())\n",
    "], voting='hard')"
   ]
  },
  {
   "cell_type": "code",
   "execution_count": 29,
   "id": "ceec522c",
   "metadata": {
    "execution": {
     "iopub.execute_input": "2025-02-04T10:54:42.954901Z",
     "iopub.status.busy": "2025-02-04T10:54:42.954458Z",
     "iopub.status.idle": "2025-02-04T10:54:43.152853Z",
     "shell.execute_reply": "2025-02-04T10:54:43.151535Z"
    },
    "id": "iBBol-38c_I3",
    "outputId": "5d0d6d6d-d295-4a43-c2ea-0e6eafa3ad48",
    "papermill": {
     "duration": 0.220306,
     "end_time": "2025-02-04T10:54:43.154777",
     "exception": false,
     "start_time": "2025-02-04T10:54:42.934471",
     "status": "completed"
    },
    "tags": []
   },
   "outputs": [
    {
     "name": "stderr",
     "output_type": "stream",
     "text": [
      "/usr/local/lib/python3.10/dist-packages/sklearn/svm/_base.py:1244: ConvergenceWarning: Liblinear failed to converge, increase the number of iterations.\n",
      "  warnings.warn(\n"
     ]
    },
    {
     "data": {
      "text/html": [
       "<style>#sk-container-id-1 {color: black;background-color: white;}#sk-container-id-1 pre{padding: 0;}#sk-container-id-1 div.sk-toggleable {background-color: white;}#sk-container-id-1 label.sk-toggleable__label {cursor: pointer;display: block;width: 100%;margin-bottom: 0;padding: 0.3em;box-sizing: border-box;text-align: center;}#sk-container-id-1 label.sk-toggleable__label-arrow:before {content: \"▸\";float: left;margin-right: 0.25em;color: #696969;}#sk-container-id-1 label.sk-toggleable__label-arrow:hover:before {color: black;}#sk-container-id-1 div.sk-estimator:hover label.sk-toggleable__label-arrow:before {color: black;}#sk-container-id-1 div.sk-toggleable__content {max-height: 0;max-width: 0;overflow: hidden;text-align: left;background-color: #f0f8ff;}#sk-container-id-1 div.sk-toggleable__content pre {margin: 0.2em;color: black;border-radius: 0.25em;background-color: #f0f8ff;}#sk-container-id-1 input.sk-toggleable__control:checked~div.sk-toggleable__content {max-height: 200px;max-width: 100%;overflow: auto;}#sk-container-id-1 input.sk-toggleable__control:checked~label.sk-toggleable__label-arrow:before {content: \"▾\";}#sk-container-id-1 div.sk-estimator input.sk-toggleable__control:checked~label.sk-toggleable__label {background-color: #d4ebff;}#sk-container-id-1 div.sk-label input.sk-toggleable__control:checked~label.sk-toggleable__label {background-color: #d4ebff;}#sk-container-id-1 input.sk-hidden--visually {border: 0;clip: rect(1px 1px 1px 1px);clip: rect(1px, 1px, 1px, 1px);height: 1px;margin: -1px;overflow: hidden;padding: 0;position: absolute;width: 1px;}#sk-container-id-1 div.sk-estimator {font-family: monospace;background-color: #f0f8ff;border: 1px dotted black;border-radius: 0.25em;box-sizing: border-box;margin-bottom: 0.5em;}#sk-container-id-1 div.sk-estimator:hover {background-color: #d4ebff;}#sk-container-id-1 div.sk-parallel-item::after {content: \"\";width: 100%;border-bottom: 1px solid gray;flex-grow: 1;}#sk-container-id-1 div.sk-label:hover label.sk-toggleable__label {background-color: #d4ebff;}#sk-container-id-1 div.sk-serial::before {content: \"\";position: absolute;border-left: 1px solid gray;box-sizing: border-box;top: 0;bottom: 0;left: 50%;z-index: 0;}#sk-container-id-1 div.sk-serial {display: flex;flex-direction: column;align-items: center;background-color: white;padding-right: 0.2em;padding-left: 0.2em;position: relative;}#sk-container-id-1 div.sk-item {position: relative;z-index: 1;}#sk-container-id-1 div.sk-parallel {display: flex;align-items: stretch;justify-content: center;background-color: white;position: relative;}#sk-container-id-1 div.sk-item::before, #sk-container-id-1 div.sk-parallel-item::before {content: \"\";position: absolute;border-left: 1px solid gray;box-sizing: border-box;top: 0;bottom: 0;left: 50%;z-index: -1;}#sk-container-id-1 div.sk-parallel-item {display: flex;flex-direction: column;z-index: 1;position: relative;background-color: white;}#sk-container-id-1 div.sk-parallel-item:first-child::after {align-self: flex-end;width: 50%;}#sk-container-id-1 div.sk-parallel-item:last-child::after {align-self: flex-start;width: 50%;}#sk-container-id-1 div.sk-parallel-item:only-child::after {width: 0;}#sk-container-id-1 div.sk-dashed-wrapped {border: 1px dashed gray;margin: 0 0.4em 0.5em 0.4em;box-sizing: border-box;padding-bottom: 0.4em;background-color: white;}#sk-container-id-1 div.sk-label label {font-family: monospace;font-weight: bold;display: inline-block;line-height: 1.2em;}#sk-container-id-1 div.sk-label-container {text-align: center;}#sk-container-id-1 div.sk-container {/* jupyter's `normalize.less` sets `[hidden] { display: none; }` but bootstrap.min.css set `[hidden] { display: none !important; }` so we also need the `!important` here to be able to override the default hidden behavior on the sphinx rendered scikit-learn.org. See: https://github.com/scikit-learn/scikit-learn/issues/21755 */display: inline-block !important;position: relative;}#sk-container-id-1 div.sk-text-repr-fallback {display: none;}</style><div id=\"sk-container-id-1\" class=\"sk-top-container\"><div class=\"sk-text-repr-fallback\"><pre>VotingClassifier(estimators=[(&#x27;Gradient Boosting&#x27;,\n",
       "                              GradientBoostingClassifier()),\n",
       "                             (&#x27;Ridge Classifier&#x27;, RidgeClassifier()),\n",
       "                             (&#x27;Linear SVC&#x27;, LinearSVC())])</pre><b>In a Jupyter environment, please rerun this cell to show the HTML representation or trust the notebook. <br />On GitHub, the HTML representation is unable to render, please try loading this page with nbviewer.org.</b></div><div class=\"sk-container\" hidden><div class=\"sk-item sk-dashed-wrapped\"><div class=\"sk-label-container\"><div class=\"sk-label sk-toggleable\"><input class=\"sk-toggleable__control sk-hidden--visually\" id=\"sk-estimator-id-1\" type=\"checkbox\" ><label for=\"sk-estimator-id-1\" class=\"sk-toggleable__label sk-toggleable__label-arrow\">VotingClassifier</label><div class=\"sk-toggleable__content\"><pre>VotingClassifier(estimators=[(&#x27;Gradient Boosting&#x27;,\n",
       "                              GradientBoostingClassifier()),\n",
       "                             (&#x27;Ridge Classifier&#x27;, RidgeClassifier()),\n",
       "                             (&#x27;Linear SVC&#x27;, LinearSVC())])</pre></div></div></div><div class=\"sk-parallel\"><div class=\"sk-parallel-item\"><div class=\"sk-item\"><div class=\"sk-label-container\"><div class=\"sk-label sk-toggleable\"><label>Gradient Boosting</label></div></div><div class=\"sk-serial\"><div class=\"sk-item\"><div class=\"sk-estimator sk-toggleable\"><input class=\"sk-toggleable__control sk-hidden--visually\" id=\"sk-estimator-id-2\" type=\"checkbox\" ><label for=\"sk-estimator-id-2\" class=\"sk-toggleable__label sk-toggleable__label-arrow\">GradientBoostingClassifier</label><div class=\"sk-toggleable__content\"><pre>GradientBoostingClassifier()</pre></div></div></div></div></div></div><div class=\"sk-parallel-item\"><div class=\"sk-item\"><div class=\"sk-label-container\"><div class=\"sk-label sk-toggleable\"><label>Ridge Classifier</label></div></div><div class=\"sk-serial\"><div class=\"sk-item\"><div class=\"sk-estimator sk-toggleable\"><input class=\"sk-toggleable__control sk-hidden--visually\" id=\"sk-estimator-id-3\" type=\"checkbox\" ><label for=\"sk-estimator-id-3\" class=\"sk-toggleable__label sk-toggleable__label-arrow\">RidgeClassifier</label><div class=\"sk-toggleable__content\"><pre>RidgeClassifier()</pre></div></div></div></div></div></div><div class=\"sk-parallel-item\"><div class=\"sk-item\"><div class=\"sk-label-container\"><div class=\"sk-label sk-toggleable\"><label>Linear SVC</label></div></div><div class=\"sk-serial\"><div class=\"sk-item\"><div class=\"sk-estimator sk-toggleable\"><input class=\"sk-toggleable__control sk-hidden--visually\" id=\"sk-estimator-id-4\" type=\"checkbox\" ><label for=\"sk-estimator-id-4\" class=\"sk-toggleable__label sk-toggleable__label-arrow\">LinearSVC</label><div class=\"sk-toggleable__content\"><pre>LinearSVC()</pre></div></div></div></div></div></div></div></div></div></div>"
      ],
      "text/plain": [
       "VotingClassifier(estimators=[('Gradient Boosting',\n",
       "                              GradientBoostingClassifier()),\n",
       "                             ('Ridge Classifier', RidgeClassifier()),\n",
       "                             ('Linear SVC', LinearSVC())])"
      ]
     },
     "execution_count": 29,
     "metadata": {},
     "output_type": "execute_result"
    }
   ],
   "source": [
    "voting_clf_hard.fit(x_train, y_train)"
   ]
  },
  {
   "cell_type": "code",
   "execution_count": 30,
   "id": "59ed6280",
   "metadata": {
    "execution": {
     "iopub.execute_input": "2025-02-04T10:54:43.252218Z",
     "iopub.status.busy": "2025-02-04T10:54:43.251888Z",
     "iopub.status.idle": "2025-02-04T10:54:43.262043Z",
     "shell.execute_reply": "2025-02-04T10:54:43.261116Z"
    },
    "id": "Ek2mj-emdSz-",
    "papermill": {
     "duration": 0.032221,
     "end_time": "2025-02-04T10:54:43.263808",
     "exception": false,
     "start_time": "2025-02-04T10:54:43.231587",
     "status": "completed"
    },
    "tags": []
   },
   "outputs": [],
   "source": [
    "y_pred_hard = voting_clf_hard.predict(x_test)"
   ]
  },
  {
   "cell_type": "code",
   "execution_count": 31,
   "id": "0c8f5fb1",
   "metadata": {
    "execution": {
     "iopub.execute_input": "2025-02-04T10:54:43.302946Z",
     "iopub.status.busy": "2025-02-04T10:54:43.302488Z",
     "iopub.status.idle": "2025-02-04T10:54:43.309204Z",
     "shell.execute_reply": "2025-02-04T10:54:43.307972Z"
    },
    "id": "EyRe5nxTdXO3",
    "outputId": "0c4d495d-3247-4178-def6-9cfbdf783efb",
    "papermill": {
     "duration": 0.028575,
     "end_time": "2025-02-04T10:54:43.311308",
     "exception": false,
     "start_time": "2025-02-04T10:54:43.282733",
     "status": "completed"
    },
    "tags": []
   },
   "outputs": [
    {
     "name": "stdout",
     "output_type": "stream",
     "text": [
      "Hard Voting Classifier Accuracy: 0.8281\n"
     ]
    }
   ],
   "source": [
    "accuracy_hard = accuracy_score(y_test, y_pred_hard)\n",
    "print(f'Hard Voting Classifier Accuracy: {accuracy_hard:.4f}')"
   ]
  },
  {
   "cell_type": "markdown",
   "id": "0a79f6b4",
   "metadata": {
    "id": "uDikn0t06hwc",
    "papermill": {
     "duration": 0.019165,
     "end_time": "2025-02-04T10:54:43.350819",
     "exception": false,
     "start_time": "2025-02-04T10:54:43.331654",
     "status": "completed"
    },
    "tags": []
   },
   "source": [
    "---"
   ]
  },
  {
   "cell_type": "markdown",
   "id": "aaa8d260",
   "metadata": {
    "id": "DBNgnRpq9sBE",
    "papermill": {
     "duration": 0.01941,
     "end_time": "2025-02-04T10:54:43.389228",
     "exception": false,
     "start_time": "2025-02-04T10:54:43.369818",
     "status": "completed"
    },
    "tags": []
   },
   "source": [
    "#Documentation and Reporting\n",
    "\n",
    "\n",
    "## Diabetes Prediction Project Report.\n",
    "\n",
    "**1. Problem Statement:**\n",
    "- This dataset provides a comprehensive collection of Diabetes test.\n",
    "\n",
    "- The primary objective is to build a model that accurately predicts Is the individual Diabetic or not based on its features.\n",
    "\n",
    "**2. Libraries:**\n",
    "- import required Libraries\n",
    "\n",
    "**3. Data Understanding:**\n",
    "- The dataset has 768 rows & 9 columns.\n",
    "- Features include: Pregnancie , Glucose , BloodPressure , SkinThickness , Insulin , BMI , DiabetesPedigreeFunction , Age & Outcome\n",
    "- Target Variable: Outcome.\n",
    "\n",
    "**4. Data Cleaning:**\n",
    "- 82 duplicated rows where found.\n",
    "- duplicated rows removed.\n",
    "- Missing values were found in 'title' , 'genres' , 'releaseYear' , 'imdbId' , 'imdbAverageRating' and 'imdbNumVotes' columns.\n",
    "- Missing values were handled by droping rows where have null values.\n",
    "- Droped the column availableCountries.\n",
    "- Droped the column imdbId.\n",
    "- Changed dtype of releaseYear and imdbNumVotes form float into int.\n",
    "\n",
    "**5. Encoding:**\n",
    "- Encode the column type with replace method.\n",
    "- Encod columns title and genres with label encoding.\n",
    "\n",
    "**6. Data Visualization:**\n",
    "- Pairplot created for entire dataset to understand their relation.\n",
    "- Histograms were created for imdbAverageRating, imdbNumVotes and releaseYear to understand their distributions.\n",
    "- Pie chart created for type to understand their percent for each value.\n",
    "- Skewness of imdbNumVotes handled using log1p method.\n",
    "\n",
    "**7. Outlier detection:**\n",
    "- Outliers were identified and addressed in the 'releaseYear' columns using a box plot method.\n",
    "- And removed in the 'releaseYear'.\n",
    "\n",
    "**8. Correlation Analysis:**\n",
    "- Correlation Analysis: a heatmap of the correlation matrix revealed the relationships between the variables.\n",
    "\n",
    "**9. X-Y spliting**\n",
    "- Target column stored in y variable.\n",
    "- Other features stored in x variable.\n",
    "- split x_train, x_test, y_train and y_test.\n",
    "\n",
    "**10. Data Scaling:**\n",
    "- x_train and x_test were scaled using StandardScaler.\n",
    "\n",
    "**11. Initial Modeling:**\n",
    "- Multiple regression models were tested:-\n",
    "* Linear Regression.\n",
    "* Ridge Regression.\n",
    "* Lasso Regression.\n",
    "* ElasticNet Regression.\n",
    "* Decision Tree Regression.\n",
    "* Random Forest Regression.\n",
    "* Gradient Boosting Regression.\n",
    "* Support Vector Regression.\n",
    "* K-Nearest Neighbors Regression.\n",
    "* Neural Network Regression.\n",
    "\n",
    "-- Select 3 best models(Gradient Boosting , Ridge Classifier , Linear SVC)\n",
    "\n",
    "--Take Hard Voting Classifier Accuracy as the final model.\n",
    "\n",
    "-- Get Accuracy approximate 0.8047\n",
    "\n",
    "**THANK YOU**"
   ]
  },
  {
   "cell_type": "code",
   "execution_count": null,
   "id": "7a029a1b",
   "metadata": {
    "id": "HPJZtXS0oPG4",
    "papermill": {
     "duration": 0.018681,
     "end_time": "2025-02-04T10:54:43.427908",
     "exception": false,
     "start_time": "2025-02-04T10:54:43.409227",
     "status": "completed"
    },
    "tags": []
   },
   "outputs": [],
   "source": []
  }
 ],
 "metadata": {
  "colab": {
   "provenance": [],
   "toc_visible": true
  },
  "kaggle": {
   "accelerator": "none",
   "dataSources": [
    {
     "datasetId": 2527538,
     "sourceId": 4289678,
     "sourceType": "datasetVersion"
    }
   ],
   "dockerImageVersionId": 30839,
   "isGpuEnabled": false,
   "isInternetEnabled": true,
   "language": "python",
   "sourceType": "notebook"
  },
  "kernelspec": {
   "display_name": "Python 3",
   "language": "python",
   "name": "python3"
  },
  "language_info": {
   "codemirror_mode": {
    "name": "ipython",
    "version": 3
   },
   "file_extension": ".py",
   "mimetype": "text/x-python",
   "name": "python",
   "nbconvert_exporter": "python",
   "pygments_lexer": "ipython3",
   "version": "3.10.12"
  },
  "papermill": {
   "default_parameters": {},
   "duration": 17.843496,
   "end_time": "2025-02-04T10:54:44.468130",
   "environment_variables": {},
   "exception": null,
   "input_path": "__notebook__.ipynb",
   "output_path": "__notebook__.ipynb",
   "parameters": {},
   "start_time": "2025-02-04T10:54:26.624634",
   "version": "2.6.0"
  }
 },
 "nbformat": 4,
 "nbformat_minor": 5
}
