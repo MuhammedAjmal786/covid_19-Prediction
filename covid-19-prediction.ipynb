{
 "cells": [
  {
   "cell_type": "markdown",
   "id": "c884bf9e",
   "metadata": {
    "id": "WH3VVM9e7A-_",
    "papermill": {
     "duration": 0.020335,
     "end_time": "2024-12-07T05:42:31.362175",
     "exception": false,
     "start_time": "2024-12-07T05:42:31.341840",
     "status": "completed"
    },
    "tags": []
   },
   "source": [
    "# **Problum statment**\n",
    "# CORONA VIROUS Prediction."
   ]
  },
  {
   "cell_type": "markdown",
   "id": "5c8827a6",
   "metadata": {
    "id": "ZV7XsejN7RI2",
    "papermill": {
     "duration": 0.0176,
     "end_time": "2024-12-07T05:42:31.399149",
     "exception": false,
     "start_time": "2024-12-07T05:42:31.381549",
     "status": "completed"
    },
    "tags": []
   },
   "source": [
    "-- The Dtaset is about CORONA VIROUS TESTED individual.\n",
    "\n",
    "-- This dataset provides a comprehensive collection of people's Gender and their Symptoms.\n",
    "\n",
    "-- In addition to basic information it includes Ind_ID\t,Test_date , Age_60_above\t,\tKnown_contact.\n",
    "\n",
    "-- This dataset have 11 columns and 278848 rows."
   ]
  },
  {
   "cell_type": "markdown",
   "id": "e2f21ffb",
   "metadata": {
    "id": "U-i85dwo9V_2",
    "papermill": {
     "duration": 0.02035,
     "end_time": "2024-12-07T05:42:31.437243",
     "exception": false,
     "start_time": "2024-12-07T05:42:31.416893",
     "status": "completed"
    },
    "tags": []
   },
   "source": [
    "**Column Heads:**\n",
    "1. Ind_ID\n",
    "2. Test_date\n",
    "3. Cough_symptoms\n",
    "4. Fever\n",
    "5. Sore_throat\n",
    "6. Shortness_of_breath\n",
    "7. Headache\n",
    "8. Corona\n",
    "9. Age_60_above\n",
    "10. Sex\n",
    "11. Known_contact"
   ]
  },
  {
   "cell_type": "markdown",
   "id": "cffef0ae",
   "metadata": {
    "id": "Tj-wI1Wq_DEW",
    "papermill": {
     "duration": 0.017367,
     "end_time": "2024-12-07T05:42:31.478849",
     "exception": false,
     "start_time": "2024-12-07T05:42:31.461482",
     "status": "completed"
    },
    "tags": []
   },
   "source": [
    "-- **Ind_ID:** Individual ID.\n",
    "\n",
    "-- **Test_date:** Date when tested for COVID.\n",
    "\n",
    "-- **Cough_symptoms:** Is individual have Cough or not.\n",
    "\n",
    "-- **Fever**: Is individual have Fever or not.\n",
    "\n",
    "-- **Sore_throat:** Is individual have Sore_throat or not.\n",
    "\n",
    "-- **Shortness_of_breath:** Is individual have Shortness_of_breath or not.\n",
    "\n",
    "-- **Headache:** Is individual have Headache or not.\n",
    "\n",
    "-- **Corona:** Is individual infected or not.\n",
    "\n",
    "-- **Age_60_above:** Is individual above 60 years old or not.\n",
    "\n",
    "-- **Sex:** Gender of Individual.\n",
    "\n",
    "-- **Known_contact:** Known contact with the individual confirmed to have COVID-19."
   ]
  },
  {
   "cell_type": "markdown",
   "id": "1f4de09a",
   "metadata": {
    "id": "ABv6xpWiAgF-",
    "papermill": {
     "duration": 0.017954,
     "end_time": "2024-12-07T05:42:31.517126",
     "exception": false,
     "start_time": "2024-12-07T05:42:31.499172",
     "status": "completed"
    },
    "tags": []
   },
   "source": [
    "* **TARGET VARIABLE in this Dtaset is \"Corona\"**."
   ]
  },
  {
   "cell_type": "markdown",
   "id": "56dbf4a1",
   "metadata": {
    "id": "KpC-a6oVA-i1",
    "papermill": {
     "duration": 0.019893,
     "end_time": "2024-12-07T05:42:31.555752",
     "exception": false,
     "start_time": "2024-12-07T05:42:31.535859",
     "status": "completed"
    },
    "tags": []
   },
   "source": [
    "**Goals**:\n",
    "\n",
    "* Predicting a disease accurately can improve medical treatment.\n",
    "* Effective screening and reducing health care burden.\n",
    "\n",
    "* **Early Detection and Isolation**: The dataset aims to help build models that can predict the likelihood of an individual having COVID-19 based on their symptoms and demographic information. By enabling early detection, it would help facilitate timely isolation of infected individuals, which could minimize the virus spread.\n",
    "\n",
    "* **Efficient Resource Allocation**: Accurately identifying high-risk individuals could assist healthcare providers and authorities in optimizing resource allocation. This includes prioritizing testing, hospital beds, and medical supplies for those who are most likely to need them.\n",
    "\n",
    "* **Risk Assessment and Public Health Strategies**: By understanding the factors contributing to infection, public health authorities can make informed decisions about implementing preventive measures. Such measures might include targeted testing campaigns, social distancing guidelines, and vaccination strategies.\n",
    "\n",
    "* **Personalized Treatment**: Predicting disease severity could help tailor treatment plans to individual needs. This could enhance medical outcomes and prevent complications.\n",
    "\n",
    "* **Reduce Healthcare Burden**: Early detection of COVID-19 cases could help reduce the burden on healthcare systems by enabling timely medical intervention. This would prevent overwhelmed hospitals and allow healthcare professionals to provide better care to all patients.\n"
   ]
  },
  {
   "cell_type": "markdown",
   "id": "2efd4389",
   "metadata": {
    "id": "B_6_SLYQN-IY",
    "papermill": {
     "duration": 0.017434,
     "end_time": "2024-12-07T05:42:31.592954",
     "exception": false,
     "start_time": "2024-12-07T05:42:31.575520",
     "status": "completed"
    },
    "tags": []
   },
   "source": [
    "-- In addition to these broad goals, the dataset can be used for research purposes to further understand the disease dynamics, identify potential risk factors, and develop more effective preventive and treatment strategies.\n",
    "\n",
    "----"
   ]
  },
  {
   "cell_type": "markdown",
   "id": "679f6a05",
   "metadata": {
    "id": "Oxjlc_gHBq2F",
    "papermill": {
     "duration": 0.020293,
     "end_time": "2024-12-07T05:42:31.630522",
     "exception": false,
     "start_time": "2024-12-07T05:42:31.610229",
     "status": "completed"
    },
    "tags": []
   },
   "source": [
    "# Libraries"
   ]
  },
  {
   "cell_type": "code",
   "execution_count": 1,
   "id": "f391000d",
   "metadata": {
    "execution": {
     "iopub.execute_input": "2024-12-07T05:42:31.672639Z",
     "iopub.status.busy": "2024-12-07T05:42:31.672142Z",
     "iopub.status.idle": "2024-12-07T05:42:36.410224Z",
     "shell.execute_reply": "2024-12-07T05:42:36.408865Z"
    },
    "id": "JgPqZR1V5W0w",
    "outputId": "b2ed1e52-3462-44c8-de4b-2eac225fc88e",
    "papermill": {
     "duration": 4.76048,
     "end_time": "2024-12-07T05:42:36.412667",
     "exception": false,
     "start_time": "2024-12-07T05:42:31.652187",
     "status": "completed"
    },
    "tags": []
   },
   "outputs": [],
   "source": [
    "import pandas as pd\n",
    "import numpy as np\n",
    "\n",
    "#Ploating\n",
    "import matplotlib.pyplot as plt\n",
    "import seaborn as sns\n",
    "\n",
    "#Emcoding\n",
    "from sklearn.preprocessing import LabelEncoder\n",
    "le=LabelEncoder()\n",
    "\n",
    "# x-y split\n",
    "from sklearn.model_selection import train_test_split\n",
    "\n",
    "#Scaling\n",
    "from sklearn.preprocessing import StandardScaler\n",
    "\n",
    "# Classification algorithms\n",
    "from sklearn.linear_model import LogisticRegression\n",
    "from sklearn.tree import DecisionTreeClassifier\n",
    "from sklearn.ensemble import RandomForestClassifier, GradientBoostingClassifier, AdaBoostClassifier, ExtraTreesClassifier\n",
    "from xgboost import XGBClassifier\n",
    "from lightgbm import LGBMClassifier\n",
    "from sklearn.svm import SVC\n",
    "from sklearn.neighbors import KNeighborsClassifier\n",
    "from sklearn.naive_bayes import GaussianNB\n",
    "from sklearn.neural_network import MLPClassifier\n",
    "from sklearn.model_selection import StratifiedKFold\n",
    "\n",
    "#MSE AND MAE\n",
    "from sklearn.metrics import mean_absolute_error, mean_squared_error, r2_score\n",
    "from math import sqrt\n",
    "\n",
    "#\n",
    "from sklearn.metrics import classification_report, accuracy_score, precision_score, recall_score, f1_score, roc_auc_score, confusion_matrix\n",
    "from sklearn.model_selection import cross_val_score\n",
    "from tabulate import tabulate\n",
    "import warnings"
   ]
  },
  {
   "cell_type": "markdown",
   "id": "33d64147",
   "metadata": {
    "id": "FN9aC4ZWAZli",
    "papermill": {
     "duration": 0.017181,
     "end_time": "2024-12-07T05:42:36.447281",
     "exception": false,
     "start_time": "2024-12-07T05:42:36.430100",
     "status": "completed"
    },
    "tags": []
   },
   "source": [
    "# Loading Dataset"
   ]
  },
  {
   "cell_type": "code",
   "execution_count": 2,
   "id": "4029f186",
   "metadata": {
    "execution": {
     "iopub.execute_input": "2024-12-07T05:42:36.483762Z",
     "iopub.status.busy": "2024-12-07T05:42:36.483174Z",
     "iopub.status.idle": "2024-12-07T05:42:37.155926Z",
     "shell.execute_reply": "2024-12-07T05:42:37.154777Z"
    },
    "id": "v9gZRD8mAbZL",
    "outputId": "78444d4e-b0a6-4642-d177-20773052b7d0",
    "papermill": {
     "duration": 0.695621,
     "end_time": "2024-12-07T05:42:37.159810",
     "exception": false,
     "start_time": "2024-12-07T05:42:36.464189",
     "status": "completed"
    },
    "tags": []
   },
   "outputs": [
    {
     "name": "stderr",
     "output_type": "stream",
     "text": [
      "/tmp/ipykernel_17/3081868710.py:1: DtypeWarning: Columns (2,3,4,5,6,8) have mixed types. Specify dtype option on import or set low_memory=False.\n",
      "  df=pd.read_csv('/kaggle/input/corona-tested-sample/corona_tested_006 (2).csv')\n"
     ]
    },
    {
     "data": {
      "text/html": [
       "<div>\n",
       "<style scoped>\n",
       "    .dataframe tbody tr th:only-of-type {\n",
       "        vertical-align: middle;\n",
       "    }\n",
       "\n",
       "    .dataframe tbody tr th {\n",
       "        vertical-align: top;\n",
       "    }\n",
       "\n",
       "    .dataframe thead th {\n",
       "        text-align: right;\n",
       "    }\n",
       "</style>\n",
       "<table border=\"1\" class=\"dataframe\">\n",
       "  <thead>\n",
       "    <tr style=\"text-align: right;\">\n",
       "      <th></th>\n",
       "      <th>Ind_ID</th>\n",
       "      <th>Test_date</th>\n",
       "      <th>Cough_symptoms</th>\n",
       "      <th>Fever</th>\n",
       "      <th>Sore_throat</th>\n",
       "      <th>Shortness_of_breath</th>\n",
       "      <th>Headache</th>\n",
       "      <th>Corona</th>\n",
       "      <th>Age_60_above</th>\n",
       "      <th>Sex</th>\n",
       "      <th>Known_contact</th>\n",
       "    </tr>\n",
       "  </thead>\n",
       "  <tbody>\n",
       "    <tr>\n",
       "      <th>0</th>\n",
       "      <td>1</td>\n",
       "      <td>11-03-2020</td>\n",
       "      <td>True</td>\n",
       "      <td>False</td>\n",
       "      <td>True</td>\n",
       "      <td>False</td>\n",
       "      <td>False</td>\n",
       "      <td>negative</td>\n",
       "      <td>NaN</td>\n",
       "      <td>NaN</td>\n",
       "      <td>Abroad</td>\n",
       "    </tr>\n",
       "    <tr>\n",
       "      <th>1</th>\n",
       "      <td>2</td>\n",
       "      <td>11-03-2020</td>\n",
       "      <td>False</td>\n",
       "      <td>True</td>\n",
       "      <td>False</td>\n",
       "      <td>False</td>\n",
       "      <td>False</td>\n",
       "      <td>positive</td>\n",
       "      <td>NaN</td>\n",
       "      <td>NaN</td>\n",
       "      <td>Abroad</td>\n",
       "    </tr>\n",
       "    <tr>\n",
       "      <th>2</th>\n",
       "      <td>3</td>\n",
       "      <td>11-03-2020</td>\n",
       "      <td>False</td>\n",
       "      <td>True</td>\n",
       "      <td>False</td>\n",
       "      <td>False</td>\n",
       "      <td>False</td>\n",
       "      <td>positive</td>\n",
       "      <td>NaN</td>\n",
       "      <td>NaN</td>\n",
       "      <td>Abroad</td>\n",
       "    </tr>\n",
       "    <tr>\n",
       "      <th>3</th>\n",
       "      <td>4</td>\n",
       "      <td>11-03-2020</td>\n",
       "      <td>True</td>\n",
       "      <td>False</td>\n",
       "      <td>False</td>\n",
       "      <td>False</td>\n",
       "      <td>False</td>\n",
       "      <td>negative</td>\n",
       "      <td>NaN</td>\n",
       "      <td>NaN</td>\n",
       "      <td>Abroad</td>\n",
       "    </tr>\n",
       "    <tr>\n",
       "      <th>4</th>\n",
       "      <td>5</td>\n",
       "      <td>11-03-2020</td>\n",
       "      <td>True</td>\n",
       "      <td>False</td>\n",
       "      <td>False</td>\n",
       "      <td>False</td>\n",
       "      <td>False</td>\n",
       "      <td>negative</td>\n",
       "      <td>NaN</td>\n",
       "      <td>NaN</td>\n",
       "      <td>Contact with confirmed</td>\n",
       "    </tr>\n",
       "    <tr>\n",
       "      <th>...</th>\n",
       "      <td>...</td>\n",
       "      <td>...</td>\n",
       "      <td>...</td>\n",
       "      <td>...</td>\n",
       "      <td>...</td>\n",
       "      <td>...</td>\n",
       "      <td>...</td>\n",
       "      <td>...</td>\n",
       "      <td>...</td>\n",
       "      <td>...</td>\n",
       "      <td>...</td>\n",
       "    </tr>\n",
       "    <tr>\n",
       "      <th>278843</th>\n",
       "      <td>278844</td>\n",
       "      <td>30-04-2020</td>\n",
       "      <td>False</td>\n",
       "      <td>False</td>\n",
       "      <td>False</td>\n",
       "      <td>False</td>\n",
       "      <td>False</td>\n",
       "      <td>positive</td>\n",
       "      <td>NaN</td>\n",
       "      <td>male</td>\n",
       "      <td>Other</td>\n",
       "    </tr>\n",
       "    <tr>\n",
       "      <th>278844</th>\n",
       "      <td>278845</td>\n",
       "      <td>30-04-2020</td>\n",
       "      <td>False</td>\n",
       "      <td>False</td>\n",
       "      <td>False</td>\n",
       "      <td>False</td>\n",
       "      <td>False</td>\n",
       "      <td>negative</td>\n",
       "      <td>NaN</td>\n",
       "      <td>female</td>\n",
       "      <td>Other</td>\n",
       "    </tr>\n",
       "    <tr>\n",
       "      <th>278845</th>\n",
       "      <td>278846</td>\n",
       "      <td>30-04-2020</td>\n",
       "      <td>False</td>\n",
       "      <td>False</td>\n",
       "      <td>False</td>\n",
       "      <td>False</td>\n",
       "      <td>False</td>\n",
       "      <td>negative</td>\n",
       "      <td>NaN</td>\n",
       "      <td>male</td>\n",
       "      <td>Other</td>\n",
       "    </tr>\n",
       "    <tr>\n",
       "      <th>278846</th>\n",
       "      <td>278847</td>\n",
       "      <td>30-04-2020</td>\n",
       "      <td>False</td>\n",
       "      <td>False</td>\n",
       "      <td>False</td>\n",
       "      <td>False</td>\n",
       "      <td>False</td>\n",
       "      <td>negative</td>\n",
       "      <td>NaN</td>\n",
       "      <td>male</td>\n",
       "      <td>Other</td>\n",
       "    </tr>\n",
       "    <tr>\n",
       "      <th>278847</th>\n",
       "      <td>278848</td>\n",
       "      <td>30-04-2020</td>\n",
       "      <td>False</td>\n",
       "      <td>False</td>\n",
       "      <td>False</td>\n",
       "      <td>False</td>\n",
       "      <td>False</td>\n",
       "      <td>negative</td>\n",
       "      <td>NaN</td>\n",
       "      <td>female</td>\n",
       "      <td>Other</td>\n",
       "    </tr>\n",
       "  </tbody>\n",
       "</table>\n",
       "<p>278848 rows × 11 columns</p>\n",
       "</div>"
      ],
      "text/plain": [
       "        Ind_ID   Test_date Cough_symptoms  Fever Sore_throat  \\\n",
       "0            1  11-03-2020           True  False        True   \n",
       "1            2  11-03-2020          False   True       False   \n",
       "2            3  11-03-2020          False   True       False   \n",
       "3            4  11-03-2020           True  False       False   \n",
       "4            5  11-03-2020           True  False       False   \n",
       "...        ...         ...            ...    ...         ...   \n",
       "278843  278844  30-04-2020          False  False       False   \n",
       "278844  278845  30-04-2020          False  False       False   \n",
       "278845  278846  30-04-2020          False  False       False   \n",
       "278846  278847  30-04-2020          False  False       False   \n",
       "278847  278848  30-04-2020          False  False       False   \n",
       "\n",
       "       Shortness_of_breath Headache    Corona Age_60_above     Sex  \\\n",
       "0                    False    False  negative          NaN     NaN   \n",
       "1                    False    False  positive          NaN     NaN   \n",
       "2                    False    False  positive          NaN     NaN   \n",
       "3                    False    False  negative          NaN     NaN   \n",
       "4                    False    False  negative          NaN     NaN   \n",
       "...                    ...      ...       ...          ...     ...   \n",
       "278843               False    False  positive          NaN    male   \n",
       "278844               False    False  negative          NaN  female   \n",
       "278845               False    False  negative          NaN    male   \n",
       "278846               False    False  negative          NaN    male   \n",
       "278847               False    False  negative          NaN  female   \n",
       "\n",
       "                 Known_contact  \n",
       "0                       Abroad  \n",
       "1                       Abroad  \n",
       "2                       Abroad  \n",
       "3                       Abroad  \n",
       "4       Contact with confirmed  \n",
       "...                        ...  \n",
       "278843                   Other  \n",
       "278844                   Other  \n",
       "278845                   Other  \n",
       "278846                   Other  \n",
       "278847                   Other  \n",
       "\n",
       "[278848 rows x 11 columns]"
      ]
     },
     "execution_count": 2,
     "metadata": {},
     "output_type": "execute_result"
    }
   ],
   "source": [
    "df=pd.read_csv('/kaggle/input/corona-tested-sample/corona_tested_006 (2).csv')\n",
    "df"
   ]
  },
  {
   "cell_type": "markdown",
   "id": "d0e0a719",
   "metadata": {
    "id": "EXe5a1SlC53d",
    "papermill": {
     "duration": 0.018624,
     "end_time": "2024-12-07T05:42:37.197929",
     "exception": false,
     "start_time": "2024-12-07T05:42:37.179305",
     "status": "completed"
    },
    "tags": []
   },
   "source": [
    "# Understanding the data"
   ]
  },
  {
   "cell_type": "code",
   "execution_count": 3,
   "id": "7222d759",
   "metadata": {
    "execution": {
     "iopub.execute_input": "2024-12-07T05:42:37.235632Z",
     "iopub.status.busy": "2024-12-07T05:42:37.235229Z",
     "iopub.status.idle": "2024-12-07T05:42:37.397242Z",
     "shell.execute_reply": "2024-12-07T05:42:37.395891Z"
    },
    "id": "xoxjgg9ZCjD2",
    "outputId": "95315bb3-4b79-4a16-f258-a9503334a6a1",
    "papermill": {
     "duration": 0.183692,
     "end_time": "2024-12-07T05:42:37.399471",
     "exception": false,
     "start_time": "2024-12-07T05:42:37.215779",
     "status": "completed"
    },
    "tags": []
   },
   "outputs": [
    {
     "name": "stdout",
     "output_type": "stream",
     "text": [
      "<class 'pandas.core.frame.DataFrame'>\n",
      "RangeIndex: 278848 entries, 0 to 278847\n",
      "Data columns (total 11 columns):\n",
      " #   Column               Non-Null Count   Dtype \n",
      "---  ------               --------------   ----- \n",
      " 0   Ind_ID               278848 non-null  int64 \n",
      " 1   Test_date            278848 non-null  object\n",
      " 2   Cough_symptoms       278596 non-null  object\n",
      " 3   Fever                278596 non-null  object\n",
      " 4   Sore_throat          278847 non-null  object\n",
      " 5   Shortness_of_breath  278847 non-null  object\n",
      " 6   Headache             278847 non-null  object\n",
      " 7   Corona               278848 non-null  object\n",
      " 8   Age_60_above         151528 non-null  object\n",
      " 9   Sex                  259285 non-null  object\n",
      " 10  Known_contact        278848 non-null  object\n",
      "dtypes: int64(1), object(10)\n",
      "memory usage: 23.4+ MB\n"
     ]
    }
   ],
   "source": [
    "df.info()"
   ]
  },
  {
   "cell_type": "code",
   "execution_count": 4,
   "id": "f9ad9b4c",
   "metadata": {
    "execution": {
     "iopub.execute_input": "2024-12-07T05:42:37.437765Z",
     "iopub.status.busy": "2024-12-07T05:42:37.437374Z",
     "iopub.status.idle": "2024-12-07T05:42:37.582498Z",
     "shell.execute_reply": "2024-12-07T05:42:37.580978Z"
    },
    "id": "OT4IKWiudJgs",
    "outputId": "57bbbbbe-3648-4a00-c4f9-063c28cb1e4f",
    "papermill": {
     "duration": 0.167469,
     "end_time": "2024-12-07T05:42:37.585069",
     "exception": false,
     "start_time": "2024-12-07T05:42:37.417600",
     "status": "completed"
    },
    "tags": []
   },
   "outputs": [
    {
     "data": {
      "text/plain": [
       "Ind_ID                      0\n",
       "Test_date                   0\n",
       "Cough_symptoms            252\n",
       "Fever                     252\n",
       "Sore_throat                 1\n",
       "Shortness_of_breath         1\n",
       "Headache                    1\n",
       "Corona                      0\n",
       "Age_60_above           127320\n",
       "Sex                     19563\n",
       "Known_contact               0\n",
       "dtype: int64"
      ]
     },
     "execution_count": 4,
     "metadata": {},
     "output_type": "execute_result"
    }
   ],
   "source": [
    "df.isnull().sum()"
   ]
  },
  {
   "cell_type": "markdown",
   "id": "e5e36b5e",
   "metadata": {
    "id": "bFZ3KiUrdg4U",
    "papermill": {
     "duration": 0.017683,
     "end_time": "2024-12-07T05:42:37.621978",
     "exception": false,
     "start_time": "2024-12-07T05:42:37.604295",
     "status": "completed"
    },
    "tags": []
   },
   "source": [
    "* Column **Ind_ID** heav\t**0** nullvalues..And the data type is **int**.\n",
    "* Column **Test_date**\theav\t**0** nullvalues..And the data type is **object**.\n",
    "* Column **Cough_symptoms**\theav\t**252** nullvalues..And the data type is **object**.\n",
    "* Column **Fever**\theav\t**252** nullvalues..And the data type is **object**.\n",
    "* Column **Sore_throat**\theav\t**1** nullvalues..And the data type is **object**.\n",
    "* Column **Shortness_of_breath**\theav\t**1** nullvalues..And the data type is **object**.\n",
    "* Column **Headache**\theav\t**1** nullvalues..And the data type is **object**.\n",
    "* Column **Corona**\theav\t**0** nullvalues..And the data type is **object**.\n",
    "* Column **Age_60_above**\theav\t**127320** nullvalues..And the data type is **object**.\n",
    "* Column **Sex**\theav\t**19563** nullvalues..And the data type is **object**.\n",
    "* Column **Known_contact**\theav\t**0** nullvalues..And the data type is **object**."
   ]
  },
  {
   "cell_type": "code",
   "execution_count": 5,
   "id": "bb43fba4",
   "metadata": {
    "execution": {
     "iopub.execute_input": "2024-12-07T05:42:37.675842Z",
     "iopub.status.busy": "2024-12-07T05:42:37.675417Z",
     "iopub.status.idle": "2024-12-07T05:42:37.681950Z",
     "shell.execute_reply": "2024-12-07T05:42:37.680508Z"
    },
    "id": "VwkP5USPdPVP",
    "outputId": "f23e3d7c-a62c-48d9-dbd7-8587a88c74a6",
    "papermill": {
     "duration": 0.039187,
     "end_time": "2024-12-07T05:42:37.684644",
     "exception": false,
     "start_time": "2024-12-07T05:42:37.645457",
     "status": "completed"
    },
    "tags": []
   },
   "outputs": [
    {
     "name": "stdout",
     "output_type": "stream",
     "text": [
      "(278848, 11)\n"
     ]
    }
   ],
   "source": [
    "print(df.shape)"
   ]
  },
  {
   "cell_type": "markdown",
   "id": "97daa615",
   "metadata": {
    "id": "SQ4fIKITOZNQ",
    "papermill": {
     "duration": 0.018634,
     "end_time": "2024-12-07T05:42:37.726114",
     "exception": false,
     "start_time": "2024-12-07T05:42:37.707480",
     "status": "completed"
    },
    "tags": []
   },
   "source": [
    "This dataset have 11 columns and 278848 rows."
   ]
  },
  {
   "cell_type": "code",
   "execution_count": 6,
   "id": "644de775",
   "metadata": {
    "execution": {
     "iopub.execute_input": "2024-12-07T05:42:37.773058Z",
     "iopub.status.busy": "2024-12-07T05:42:37.772623Z",
     "iopub.status.idle": "2024-12-07T05:42:38.047414Z",
     "shell.execute_reply": "2024-12-07T05:42:38.046180Z"
    },
    "id": "rDHEd0ZpIktl",
    "outputId": "d8db1aa6-4b59-4ea7-df99-42eac34068b3",
    "papermill": {
     "duration": 0.30487,
     "end_time": "2024-12-07T05:42:38.049937",
     "exception": false,
     "start_time": "2024-12-07T05:42:37.745067",
     "status": "completed"
    },
    "tags": []
   },
   "outputs": [
    {
     "data": {
      "text/plain": [
       "0"
      ]
     },
     "execution_count": 6,
     "metadata": {},
     "output_type": "execute_result"
    }
   ],
   "source": [
    "# Checking total number of duplicates\n",
    "df.duplicated().sum()"
   ]
  },
  {
   "cell_type": "markdown",
   "id": "2725e660",
   "metadata": {
    "id": "8bJ4M1o3Oewg",
    "papermill": {
     "duration": 0.020207,
     "end_time": "2024-12-07T05:42:38.091573",
     "exception": false,
     "start_time": "2024-12-07T05:42:38.071366",
     "status": "completed"
    },
    "tags": []
   },
   "source": [
    "There is no Duplicated rows in the Dataset"
   ]
  },
  {
   "cell_type": "markdown",
   "id": "6f724e79",
   "metadata": {
    "id": "cCv6eWZsCqsa",
    "papermill": {
     "duration": 0.017925,
     "end_time": "2024-12-07T05:42:38.127666",
     "exception": false,
     "start_time": "2024-12-07T05:42:38.109741",
     "status": "completed"
    },
    "tags": []
   },
   "source": [
    "# Data Cleaning"
   ]
  },
  {
   "cell_type": "code",
   "execution_count": 7,
   "id": "76f336b1",
   "metadata": {
    "execution": {
     "iopub.execute_input": "2024-12-07T05:42:38.165597Z",
     "iopub.status.busy": "2024-12-07T05:42:38.165178Z",
     "iopub.status.idle": "2024-12-07T05:42:38.195220Z",
     "shell.execute_reply": "2024-12-07T05:42:38.194129Z"
    },
    "id": "quhVkzdOCqsc",
    "papermill": {
     "duration": 0.052206,
     "end_time": "2024-12-07T05:42:38.197728",
     "exception": false,
     "start_time": "2024-12-07T05:42:38.145522",
     "status": "completed"
    },
    "tags": []
   },
   "outputs": [],
   "source": [
    "# Coping df into df1\n",
    "df1=df.copy()"
   ]
  },
  {
   "cell_type": "markdown",
   "id": "4fb26448",
   "metadata": {
    "id": "X3rdWlSyCqsc",
    "papermill": {
     "duration": 0.070613,
     "end_time": "2024-12-07T05:42:38.286811",
     "exception": false,
     "start_time": "2024-12-07T05:42:38.216198",
     "status": "completed"
    },
    "tags": []
   },
   "source": [
    "Dropping"
   ]
  },
  {
   "cell_type": "code",
   "execution_count": 8,
   "id": "4872fe40",
   "metadata": {
    "execution": {
     "iopub.execute_input": "2024-12-07T05:42:38.332731Z",
     "iopub.status.busy": "2024-12-07T05:42:38.332332Z",
     "iopub.status.idle": "2024-12-07T05:42:38.379882Z",
     "shell.execute_reply": "2024-12-07T05:42:38.378495Z"
    },
    "id": "F6pMTwAgCqsc",
    "papermill": {
     "duration": 0.077313,
     "end_time": "2024-12-07T05:42:38.383203",
     "exception": false,
     "start_time": "2024-12-07T05:42:38.305890",
     "status": "completed"
    },
    "tags": []
   },
   "outputs": [],
   "source": [
    "# Dropping column Ind_ID\n",
    "df1=df1.drop('Ind_ID',axis=1)"
   ]
  },
  {
   "cell_type": "code",
   "execution_count": 9,
   "id": "e2312118",
   "metadata": {
    "execution": {
     "iopub.execute_input": "2024-12-07T05:42:38.428484Z",
     "iopub.status.busy": "2024-12-07T05:42:38.428068Z",
     "iopub.status.idle": "2024-12-07T05:42:38.467919Z",
     "shell.execute_reply": "2024-12-07T05:42:38.466600Z"
    },
    "id": "ILe6d2eNCqsc",
    "papermill": {
     "duration": 0.062036,
     "end_time": "2024-12-07T05:42:38.470589",
     "exception": false,
     "start_time": "2024-12-07T05:42:38.408553",
     "status": "completed"
    },
    "tags": []
   },
   "outputs": [],
   "source": [
    "# Dropping column Test_date\n",
    "df1=df1.drop('Test_date',axis=1)"
   ]
  },
  {
   "cell_type": "code",
   "execution_count": 10,
   "id": "6becf880",
   "metadata": {
    "execution": {
     "iopub.execute_input": "2024-12-07T05:42:38.509339Z",
     "iopub.status.busy": "2024-12-07T05:42:38.508885Z",
     "iopub.status.idle": "2024-12-07T05:42:38.544967Z",
     "shell.execute_reply": "2024-12-07T05:42:38.543671Z"
    },
    "id": "ML-4CYPZCqsd",
    "papermill": {
     "duration": 0.058558,
     "end_time": "2024-12-07T05:42:38.547576",
     "exception": false,
     "start_time": "2024-12-07T05:42:38.489018",
     "status": "completed"
    },
    "tags": []
   },
   "outputs": [],
   "source": [
    "# Dropping column Age_60_above\n",
    "df1=df1.drop('Age_60_above',axis=1)"
   ]
  },
  {
   "cell_type": "code",
   "execution_count": 11,
   "id": "e32203af",
   "metadata": {
    "execution": {
     "iopub.execute_input": "2024-12-07T05:42:38.585394Z",
     "iopub.status.busy": "2024-12-07T05:42:38.584968Z",
     "iopub.status.idle": "2024-12-07T05:42:38.607918Z",
     "shell.execute_reply": "2024-12-07T05:42:38.606243Z"
    },
    "id": "q9dZeHrTCqsd",
    "papermill": {
     "duration": 0.044878,
     "end_time": "2024-12-07T05:42:38.610608",
     "exception": false,
     "start_time": "2024-12-07T05:42:38.565730",
     "status": "completed"
    },
    "tags": []
   },
   "outputs": [],
   "source": [
    "# Dropping column 'Known_contact\n",
    "df1=df1.drop('Known_contact',axis=1)"
   ]
  },
  {
   "cell_type": "code",
   "execution_count": 12,
   "id": "b2ccbab6",
   "metadata": {
    "execution": {
     "iopub.execute_input": "2024-12-07T05:42:38.648701Z",
     "iopub.status.busy": "2024-12-07T05:42:38.648284Z",
     "iopub.status.idle": "2024-12-07T05:42:38.662745Z",
     "shell.execute_reply": "2024-12-07T05:42:38.661457Z"
    },
    "id": "ZQnPdnXDCqsd",
    "outputId": "bc309e67-7bf8-4e78-b8c6-f9203a9b36fa",
    "papermill": {
     "duration": 0.037217,
     "end_time": "2024-12-07T05:42:38.666139",
     "exception": false,
     "start_time": "2024-12-07T05:42:38.628922",
     "status": "completed"
    },
    "tags": []
   },
   "outputs": [
    {
     "data": {
      "text/html": [
       "<div>\n",
       "<style scoped>\n",
       "    .dataframe tbody tr th:only-of-type {\n",
       "        vertical-align: middle;\n",
       "    }\n",
       "\n",
       "    .dataframe tbody tr th {\n",
       "        vertical-align: top;\n",
       "    }\n",
       "\n",
       "    .dataframe thead th {\n",
       "        text-align: right;\n",
       "    }\n",
       "</style>\n",
       "<table border=\"1\" class=\"dataframe\">\n",
       "  <thead>\n",
       "    <tr style=\"text-align: right;\">\n",
       "      <th></th>\n",
       "      <th>Cough_symptoms</th>\n",
       "      <th>Fever</th>\n",
       "      <th>Sore_throat</th>\n",
       "      <th>Shortness_of_breath</th>\n",
       "      <th>Headache</th>\n",
       "      <th>Corona</th>\n",
       "      <th>Sex</th>\n",
       "    </tr>\n",
       "  </thead>\n",
       "  <tbody>\n",
       "    <tr>\n",
       "      <th>0</th>\n",
       "      <td>True</td>\n",
       "      <td>False</td>\n",
       "      <td>True</td>\n",
       "      <td>False</td>\n",
       "      <td>False</td>\n",
       "      <td>negative</td>\n",
       "      <td>NaN</td>\n",
       "    </tr>\n",
       "    <tr>\n",
       "      <th>1</th>\n",
       "      <td>False</td>\n",
       "      <td>True</td>\n",
       "      <td>False</td>\n",
       "      <td>False</td>\n",
       "      <td>False</td>\n",
       "      <td>positive</td>\n",
       "      <td>NaN</td>\n",
       "    </tr>\n",
       "    <tr>\n",
       "      <th>2</th>\n",
       "      <td>False</td>\n",
       "      <td>True</td>\n",
       "      <td>False</td>\n",
       "      <td>False</td>\n",
       "      <td>False</td>\n",
       "      <td>positive</td>\n",
       "      <td>NaN</td>\n",
       "    </tr>\n",
       "    <tr>\n",
       "      <th>3</th>\n",
       "      <td>True</td>\n",
       "      <td>False</td>\n",
       "      <td>False</td>\n",
       "      <td>False</td>\n",
       "      <td>False</td>\n",
       "      <td>negative</td>\n",
       "      <td>NaN</td>\n",
       "    </tr>\n",
       "    <tr>\n",
       "      <th>4</th>\n",
       "      <td>True</td>\n",
       "      <td>False</td>\n",
       "      <td>False</td>\n",
       "      <td>False</td>\n",
       "      <td>False</td>\n",
       "      <td>negative</td>\n",
       "      <td>NaN</td>\n",
       "    </tr>\n",
       "    <tr>\n",
       "      <th>...</th>\n",
       "      <td>...</td>\n",
       "      <td>...</td>\n",
       "      <td>...</td>\n",
       "      <td>...</td>\n",
       "      <td>...</td>\n",
       "      <td>...</td>\n",
       "      <td>...</td>\n",
       "    </tr>\n",
       "    <tr>\n",
       "      <th>278843</th>\n",
       "      <td>False</td>\n",
       "      <td>False</td>\n",
       "      <td>False</td>\n",
       "      <td>False</td>\n",
       "      <td>False</td>\n",
       "      <td>positive</td>\n",
       "      <td>male</td>\n",
       "    </tr>\n",
       "    <tr>\n",
       "      <th>278844</th>\n",
       "      <td>False</td>\n",
       "      <td>False</td>\n",
       "      <td>False</td>\n",
       "      <td>False</td>\n",
       "      <td>False</td>\n",
       "      <td>negative</td>\n",
       "      <td>female</td>\n",
       "    </tr>\n",
       "    <tr>\n",
       "      <th>278845</th>\n",
       "      <td>False</td>\n",
       "      <td>False</td>\n",
       "      <td>False</td>\n",
       "      <td>False</td>\n",
       "      <td>False</td>\n",
       "      <td>negative</td>\n",
       "      <td>male</td>\n",
       "    </tr>\n",
       "    <tr>\n",
       "      <th>278846</th>\n",
       "      <td>False</td>\n",
       "      <td>False</td>\n",
       "      <td>False</td>\n",
       "      <td>False</td>\n",
       "      <td>False</td>\n",
       "      <td>negative</td>\n",
       "      <td>male</td>\n",
       "    </tr>\n",
       "    <tr>\n",
       "      <th>278847</th>\n",
       "      <td>False</td>\n",
       "      <td>False</td>\n",
       "      <td>False</td>\n",
       "      <td>False</td>\n",
       "      <td>False</td>\n",
       "      <td>negative</td>\n",
       "      <td>female</td>\n",
       "    </tr>\n",
       "  </tbody>\n",
       "</table>\n",
       "<p>278848 rows × 7 columns</p>\n",
       "</div>"
      ],
      "text/plain": [
       "       Cough_symptoms  Fever Sore_throat Shortness_of_breath Headache  \\\n",
       "0                True  False        True               False    False   \n",
       "1               False   True       False               False    False   \n",
       "2               False   True       False               False    False   \n",
       "3                True  False       False               False    False   \n",
       "4                True  False       False               False    False   \n",
       "...               ...    ...         ...                 ...      ...   \n",
       "278843          False  False       False               False    False   \n",
       "278844          False  False       False               False    False   \n",
       "278845          False  False       False               False    False   \n",
       "278846          False  False       False               False    False   \n",
       "278847          False  False       False               False    False   \n",
       "\n",
       "          Corona     Sex  \n",
       "0       negative     NaN  \n",
       "1       positive     NaN  \n",
       "2       positive     NaN  \n",
       "3       negative     NaN  \n",
       "4       negative     NaN  \n",
       "...          ...     ...  \n",
       "278843  positive    male  \n",
       "278844  negative  female  \n",
       "278845  negative    male  \n",
       "278846  negative    male  \n",
       "278847  negative  female  \n",
       "\n",
       "[278848 rows x 7 columns]"
      ]
     },
     "execution_count": 12,
     "metadata": {},
     "output_type": "execute_result"
    }
   ],
   "source": [
    "df1"
   ]
  },
  {
   "cell_type": "markdown",
   "id": "ed40923f",
   "metadata": {
    "id": "YTN5lIcxCqsd",
    "papermill": {
     "duration": 0.018484,
     "end_time": "2024-12-07T05:42:38.703385",
     "exception": false,
     "start_time": "2024-12-07T05:42:38.684901",
     "status": "completed"
    },
    "tags": []
   },
   "source": [
    "Handling null values"
   ]
  },
  {
   "cell_type": "code",
   "execution_count": 13,
   "id": "f8e59c7e",
   "metadata": {
    "execution": {
     "iopub.execute_input": "2024-12-07T05:42:38.741471Z",
     "iopub.status.busy": "2024-12-07T05:42:38.741056Z",
     "iopub.status.idle": "2024-12-07T05:42:38.847103Z",
     "shell.execute_reply": "2024-12-07T05:42:38.845881Z"
    },
    "id": "uUFltU-qCqsd",
    "outputId": "f86d7f96-1bcc-4800-f497-1f488d7eb382",
    "papermill": {
     "duration": 0.127668,
     "end_time": "2024-12-07T05:42:38.849272",
     "exception": false,
     "start_time": "2024-12-07T05:42:38.721604",
     "status": "completed"
    },
    "tags": []
   },
   "outputs": [
    {
     "data": {
      "text/plain": [
       "Cough_symptoms           252\n",
       "Fever                    252\n",
       "Sore_throat                1\n",
       "Shortness_of_breath        1\n",
       "Headache                   1\n",
       "Corona                     0\n",
       "Sex                    19563\n",
       "dtype: int64"
      ]
     },
     "execution_count": 13,
     "metadata": {},
     "output_type": "execute_result"
    }
   ],
   "source": [
    "df1.isnull().sum()"
   ]
  },
  {
   "cell_type": "code",
   "execution_count": 14,
   "id": "79a87e1c",
   "metadata": {
    "execution": {
     "iopub.execute_input": "2024-12-07T05:42:38.888856Z",
     "iopub.status.busy": "2024-12-07T05:42:38.888451Z",
     "iopub.status.idle": "2024-12-07T05:42:39.010876Z",
     "shell.execute_reply": "2024-12-07T05:42:39.009521Z"
    },
    "id": "WJYzJuTDCqse",
    "papermill": {
     "duration": 0.145529,
     "end_time": "2024-12-07T05:42:39.013440",
     "exception": false,
     "start_time": "2024-12-07T05:42:38.867911",
     "status": "completed"
    },
    "tags": []
   },
   "outputs": [],
   "source": [
    "# dropping null values\n",
    "df1.dropna(inplace=True)"
   ]
  },
  {
   "cell_type": "code",
   "execution_count": 15,
   "id": "d48e5da1",
   "metadata": {
    "execution": {
     "iopub.execute_input": "2024-12-07T05:42:39.052783Z",
     "iopub.status.busy": "2024-12-07T05:42:39.052358Z",
     "iopub.status.idle": "2024-12-07T05:42:39.151433Z",
     "shell.execute_reply": "2024-12-07T05:42:39.150258Z"
    },
    "id": "G4WHlmJTCqse",
    "outputId": "3da4c654-46e6-4fc5-c9e2-fe1b48db2199",
    "papermill": {
     "duration": 0.121991,
     "end_time": "2024-12-07T05:42:39.153997",
     "exception": false,
     "start_time": "2024-12-07T05:42:39.032006",
     "status": "completed"
    },
    "tags": []
   },
   "outputs": [
    {
     "data": {
      "text/plain": [
       "Cough_symptoms         0\n",
       "Fever                  0\n",
       "Sore_throat            0\n",
       "Shortness_of_breath    0\n",
       "Headache               0\n",
       "Corona                 0\n",
       "Sex                    0\n",
       "dtype: int64"
      ]
     },
     "execution_count": 15,
     "metadata": {},
     "output_type": "execute_result"
    }
   ],
   "source": [
    "df1.isnull().sum()"
   ]
  },
  {
   "cell_type": "markdown",
   "id": "2611c1b8",
   "metadata": {
    "id": "pdeMlW4yOjef",
    "papermill": {
     "duration": 0.018995,
     "end_time": "2024-12-07T05:42:39.191910",
     "exception": false,
     "start_time": "2024-12-07T05:42:39.172915",
     "status": "completed"
    },
    "tags": []
   },
   "source": [
    "Now there is no null values in the dataset"
   ]
  },
  {
   "cell_type": "markdown",
   "id": "488f78d7",
   "metadata": {
    "id": "nONDs-saCqse",
    "papermill": {
     "duration": 0.01941,
     "end_time": "2024-12-07T05:42:39.230139",
     "exception": false,
     "start_time": "2024-12-07T05:42:39.210729",
     "status": "completed"
    },
    "tags": []
   },
   "source": [
    "Unique  values in each column"
   ]
  },
  {
   "cell_type": "code",
   "execution_count": 16,
   "id": "1a6c25f8",
   "metadata": {
    "execution": {
     "iopub.execute_input": "2024-12-07T05:42:39.269831Z",
     "iopub.status.busy": "2024-12-07T05:42:39.269383Z",
     "iopub.status.idle": "2024-12-07T05:42:39.282878Z",
     "shell.execute_reply": "2024-12-07T05:42:39.281727Z"
    },
    "id": "MdCX0hl9Cqse",
    "outputId": "bf5da3e5-f668-4dc7-b5ea-d55f31d043ed",
    "papermill": {
     "duration": 0.03648,
     "end_time": "2024-12-07T05:42:39.285195",
     "exception": false,
     "start_time": "2024-12-07T05:42:39.248715",
     "status": "completed"
    },
    "tags": []
   },
   "outputs": [
    {
     "data": {
      "text/plain": [
       "array([True, False], dtype=object)"
      ]
     },
     "execution_count": 16,
     "metadata": {},
     "output_type": "execute_result"
    }
   ],
   "source": [
    "df1['Cough_symptoms'].unique()"
   ]
  },
  {
   "cell_type": "code",
   "execution_count": 17,
   "id": "a549be88",
   "metadata": {
    "execution": {
     "iopub.execute_input": "2024-12-07T05:42:39.325712Z",
     "iopub.status.busy": "2024-12-07T05:42:39.325274Z",
     "iopub.status.idle": "2024-12-07T05:42:39.339547Z",
     "shell.execute_reply": "2024-12-07T05:42:39.338340Z"
    },
    "id": "KJwNThAICqse",
    "outputId": "e05dc6c0-547b-4417-dc1e-9834b19bac15",
    "papermill": {
     "duration": 0.037412,
     "end_time": "2024-12-07T05:42:39.342036",
     "exception": false,
     "start_time": "2024-12-07T05:42:39.304624",
     "status": "completed"
    },
    "tags": []
   },
   "outputs": [
    {
     "data": {
      "text/plain": [
       "array([False, True], dtype=object)"
      ]
     },
     "execution_count": 17,
     "metadata": {},
     "output_type": "execute_result"
    }
   ],
   "source": [
    "df1['Fever'].unique()"
   ]
  },
  {
   "cell_type": "code",
   "execution_count": 18,
   "id": "27b33edd",
   "metadata": {
    "execution": {
     "iopub.execute_input": "2024-12-07T05:42:39.383781Z",
     "iopub.status.busy": "2024-12-07T05:42:39.383364Z",
     "iopub.status.idle": "2024-12-07T05:42:39.397307Z",
     "shell.execute_reply": "2024-12-07T05:42:39.395874Z"
    },
    "id": "b8_--bJzCqse",
    "outputId": "b1eb68ab-7c76-41a5-a2de-d2ee3b24d93b",
    "papermill": {
     "duration": 0.037984,
     "end_time": "2024-12-07T05:42:39.399864",
     "exception": false,
     "start_time": "2024-12-07T05:42:39.361880",
     "status": "completed"
    },
    "tags": []
   },
   "outputs": [
    {
     "data": {
      "text/plain": [
       "array([False, True], dtype=object)"
      ]
     },
     "execution_count": 18,
     "metadata": {},
     "output_type": "execute_result"
    }
   ],
   "source": [
    "df1['Sore_throat'].unique()"
   ]
  },
  {
   "cell_type": "code",
   "execution_count": 19,
   "id": "1998afcc",
   "metadata": {
    "execution": {
     "iopub.execute_input": "2024-12-07T05:42:39.439530Z",
     "iopub.status.busy": "2024-12-07T05:42:39.439069Z",
     "iopub.status.idle": "2024-12-07T05:42:39.452258Z",
     "shell.execute_reply": "2024-12-07T05:42:39.451121Z"
    },
    "id": "fRd7VlDSCqse",
    "outputId": "b9361de5-ceb7-451a-8d8e-3ac214a3bc36",
    "papermill": {
     "duration": 0.035717,
     "end_time": "2024-12-07T05:42:39.454456",
     "exception": false,
     "start_time": "2024-12-07T05:42:39.418739",
     "status": "completed"
    },
    "tags": []
   },
   "outputs": [
    {
     "data": {
      "text/plain": [
       "array([False, True], dtype=object)"
      ]
     },
     "execution_count": 19,
     "metadata": {},
     "output_type": "execute_result"
    }
   ],
   "source": [
    "df1['Shortness_of_breath'].unique()"
   ]
  },
  {
   "cell_type": "code",
   "execution_count": 20,
   "id": "1905d211",
   "metadata": {
    "execution": {
     "iopub.execute_input": "2024-12-07T05:42:39.496657Z",
     "iopub.status.busy": "2024-12-07T05:42:39.496235Z",
     "iopub.status.idle": "2024-12-07T05:42:39.509485Z",
     "shell.execute_reply": "2024-12-07T05:42:39.508328Z"
    },
    "id": "TfWP0CRYCqse",
    "outputId": "a6b5e628-be02-4d5b-c676-4c7573761bfa",
    "papermill": {
     "duration": 0.037721,
     "end_time": "2024-12-07T05:42:39.512254",
     "exception": false,
     "start_time": "2024-12-07T05:42:39.474533",
     "status": "completed"
    },
    "tags": []
   },
   "outputs": [
    {
     "data": {
      "text/plain": [
       "array([False, True], dtype=object)"
      ]
     },
     "execution_count": 20,
     "metadata": {},
     "output_type": "execute_result"
    }
   ],
   "source": [
    "df1['Headache'].unique()"
   ]
  },
  {
   "cell_type": "code",
   "execution_count": 21,
   "id": "d70df808",
   "metadata": {
    "execution": {
     "iopub.execute_input": "2024-12-07T05:42:39.553371Z",
     "iopub.status.busy": "2024-12-07T05:42:39.552955Z",
     "iopub.status.idle": "2024-12-07T05:42:39.573762Z",
     "shell.execute_reply": "2024-12-07T05:42:39.572390Z"
    },
    "id": "88kOqVj2Cqse",
    "outputId": "a75ae7f1-ade8-4e51-fd0e-9e3aec78dbf0",
    "papermill": {
     "duration": 0.044334,
     "end_time": "2024-12-07T05:42:39.576153",
     "exception": false,
     "start_time": "2024-12-07T05:42:39.531819",
     "status": "completed"
    },
    "tags": []
   },
   "outputs": [
    {
     "data": {
      "text/plain": [
       "array(['male', 'female'], dtype=object)"
      ]
     },
     "execution_count": 21,
     "metadata": {},
     "output_type": "execute_result"
    }
   ],
   "source": [
    "df1['Sex'].unique()"
   ]
  },
  {
   "cell_type": "code",
   "execution_count": 22,
   "id": "2538e7df",
   "metadata": {
    "execution": {
     "iopub.execute_input": "2024-12-07T05:42:39.616562Z",
     "iopub.status.busy": "2024-12-07T05:42:39.616192Z",
     "iopub.status.idle": "2024-12-07T05:42:39.637145Z",
     "shell.execute_reply": "2024-12-07T05:42:39.635722Z"
    },
    "id": "Qfx6_VeXCqse",
    "outputId": "bbdeee1e-34bc-4073-8d69-2d5390459b3e",
    "papermill": {
     "duration": 0.04378,
     "end_time": "2024-12-07T05:42:39.639513",
     "exception": false,
     "start_time": "2024-12-07T05:42:39.595733",
     "status": "completed"
    },
    "tags": []
   },
   "outputs": [
    {
     "data": {
      "text/plain": [
       "array(['negative', 'positive', 'other'], dtype=object)"
      ]
     },
     "execution_count": 22,
     "metadata": {},
     "output_type": "execute_result"
    }
   ],
   "source": [
    "df1['Corona'].unique()"
   ]
  },
  {
   "cell_type": "code",
   "execution_count": 23,
   "id": "13f39a85",
   "metadata": {
    "execution": {
     "iopub.execute_input": "2024-12-07T05:42:39.682775Z",
     "iopub.status.busy": "2024-12-07T05:42:39.682365Z",
     "iopub.status.idle": "2024-12-07T05:42:39.687245Z",
     "shell.execute_reply": "2024-12-07T05:42:39.686153Z"
    },
    "id": "WnCc0ecPCqsf",
    "papermill": {
     "duration": 0.029589,
     "end_time": "2024-12-07T05:42:39.689887",
     "exception": false,
     "start_time": "2024-12-07T05:42:39.660298",
     "status": "completed"
    },
    "tags": []
   },
   "outputs": [],
   "source": [
    "# There a value 'other' in the column Corona"
   ]
  },
  {
   "cell_type": "code",
   "execution_count": 24,
   "id": "b525643a",
   "metadata": {
    "execution": {
     "iopub.execute_input": "2024-12-07T05:42:39.731843Z",
     "iopub.status.busy": "2024-12-07T05:42:39.731436Z",
     "iopub.status.idle": "2024-12-07T05:42:39.758878Z",
     "shell.execute_reply": "2024-12-07T05:42:39.757332Z"
    },
    "id": "DIIiF6QwCqsf",
    "outputId": "52fb3c9c-92e9-4ba1-f7af-95ae2d156b15",
    "papermill": {
     "duration": 0.050714,
     "end_time": "2024-12-07T05:42:39.761306",
     "exception": false,
     "start_time": "2024-12-07T05:42:39.710592",
     "status": "completed"
    },
    "tags": []
   },
   "outputs": [
    {
     "name": "stdout",
     "output_type": "stream",
     "text": [
      "3374\n"
     ]
    }
   ],
   "source": [
    "print((df1['Corona']=='other').sum())"
   ]
  },
  {
   "cell_type": "code",
   "execution_count": 25,
   "id": "098ca8dd",
   "metadata": {
    "execution": {
     "iopub.execute_input": "2024-12-07T05:42:39.802942Z",
     "iopub.status.busy": "2024-12-07T05:42:39.802438Z",
     "iopub.status.idle": "2024-12-07T05:42:39.863565Z",
     "shell.execute_reply": "2024-12-07T05:42:39.862350Z"
    },
    "id": "l2Q0HrhxCqsf",
    "papermill": {
     "duration": 0.085481,
     "end_time": "2024-12-07T05:42:39.866160",
     "exception": false,
     "start_time": "2024-12-07T05:42:39.780679",
     "status": "completed"
    },
    "tags": []
   },
   "outputs": [],
   "source": [
    "# Dropping rows where column \"Corona\" have value 'other'.\n",
    "df1.drop(df1[df1['Corona']=='other'].index,inplace=True)"
   ]
  },
  {
   "cell_type": "code",
   "execution_count": 26,
   "id": "63f67ea9",
   "metadata": {
    "execution": {
     "iopub.execute_input": "2024-12-07T05:42:39.906973Z",
     "iopub.status.busy": "2024-12-07T05:42:39.906520Z",
     "iopub.status.idle": "2024-12-07T05:42:39.927081Z",
     "shell.execute_reply": "2024-12-07T05:42:39.925887Z"
    },
    "id": "ZDtODPqLCqsf",
    "outputId": "cfe54a8e-da74-4004-fc68-7347476dc1f7",
    "papermill": {
     "duration": 0.043749,
     "end_time": "2024-12-07T05:42:39.929499",
     "exception": false,
     "start_time": "2024-12-07T05:42:39.885750",
     "status": "completed"
    },
    "tags": []
   },
   "outputs": [
    {
     "data": {
      "text/plain": [
       "array(['negative', 'positive'], dtype=object)"
      ]
     },
     "execution_count": 26,
     "metadata": {},
     "output_type": "execute_result"
    }
   ],
   "source": [
    "df1['Corona'].unique()"
   ]
  },
  {
   "cell_type": "markdown",
   "id": "f7d7c9d2",
   "metadata": {
    "id": "_OcGDX1bDt72",
    "papermill": {
     "duration": 0.019782,
     "end_time": "2024-12-07T05:42:39.969094",
     "exception": false,
     "start_time": "2024-12-07T05:42:39.949312",
     "status": "completed"
    },
    "tags": []
   },
   "source": [
    "# Data Visualization"
   ]
  },
  {
   "cell_type": "code",
   "execution_count": 27,
   "id": "aacf1e30",
   "metadata": {
    "execution": {
     "iopub.execute_input": "2024-12-07T05:42:40.011919Z",
     "iopub.status.busy": "2024-12-07T05:42:40.011505Z",
     "iopub.status.idle": "2024-12-07T05:42:40.025601Z",
     "shell.execute_reply": "2024-12-07T05:42:40.024298Z"
    },
    "id": "ENDnnoAkGJ1H",
    "outputId": "305e0be0-3b64-4ac4-a9b9-54bd68282056",
    "papermill": {
     "duration": 0.038296,
     "end_time": "2024-12-07T05:42:40.028061",
     "exception": false,
     "start_time": "2024-12-07T05:42:39.989765",
     "status": "completed"
    },
    "tags": []
   },
   "outputs": [
    {
     "data": {
      "text/html": [
       "<div>\n",
       "<style scoped>\n",
       "    .dataframe tbody tr th:only-of-type {\n",
       "        vertical-align: middle;\n",
       "    }\n",
       "\n",
       "    .dataframe tbody tr th {\n",
       "        vertical-align: top;\n",
       "    }\n",
       "\n",
       "    .dataframe thead th {\n",
       "        text-align: right;\n",
       "    }\n",
       "</style>\n",
       "<table border=\"1\" class=\"dataframe\">\n",
       "  <thead>\n",
       "    <tr style=\"text-align: right;\">\n",
       "      <th></th>\n",
       "      <th>Cough_symptoms</th>\n",
       "      <th>Fever</th>\n",
       "      <th>Sore_throat</th>\n",
       "      <th>Shortness_of_breath</th>\n",
       "      <th>Headache</th>\n",
       "      <th>Corona</th>\n",
       "      <th>Sex</th>\n",
       "    </tr>\n",
       "  </thead>\n",
       "  <tbody>\n",
       "    <tr>\n",
       "      <th>13727</th>\n",
       "      <td>True</td>\n",
       "      <td>False</td>\n",
       "      <td>False</td>\n",
       "      <td>False</td>\n",
       "      <td>False</td>\n",
       "      <td>negative</td>\n",
       "      <td>male</td>\n",
       "    </tr>\n",
       "    <tr>\n",
       "      <th>13728</th>\n",
       "      <td>True</td>\n",
       "      <td>False</td>\n",
       "      <td>False</td>\n",
       "      <td>False</td>\n",
       "      <td>False</td>\n",
       "      <td>negative</td>\n",
       "      <td>female</td>\n",
       "    </tr>\n",
       "    <tr>\n",
       "      <th>13730</th>\n",
       "      <td>True</td>\n",
       "      <td>True</td>\n",
       "      <td>False</td>\n",
       "      <td>False</td>\n",
       "      <td>False</td>\n",
       "      <td>positive</td>\n",
       "      <td>female</td>\n",
       "    </tr>\n",
       "    <tr>\n",
       "      <th>13734</th>\n",
       "      <td>False</td>\n",
       "      <td>False</td>\n",
       "      <td>False</td>\n",
       "      <td>False</td>\n",
       "      <td>False</td>\n",
       "      <td>negative</td>\n",
       "      <td>male</td>\n",
       "    </tr>\n",
       "    <tr>\n",
       "      <th>13735</th>\n",
       "      <td>False</td>\n",
       "      <td>False</td>\n",
       "      <td>False</td>\n",
       "      <td>False</td>\n",
       "      <td>False</td>\n",
       "      <td>negative</td>\n",
       "      <td>female</td>\n",
       "    </tr>\n",
       "  </tbody>\n",
       "</table>\n",
       "</div>"
      ],
      "text/plain": [
       "      Cough_symptoms  Fever Sore_throat Shortness_of_breath Headache  \\\n",
       "13727           True  False       False               False    False   \n",
       "13728           True  False       False               False    False   \n",
       "13730           True   True       False               False    False   \n",
       "13734          False  False       False               False    False   \n",
       "13735          False  False       False               False    False   \n",
       "\n",
       "         Corona     Sex  \n",
       "13727  negative    male  \n",
       "13728  negative  female  \n",
       "13730  positive  female  \n",
       "13734  negative    male  \n",
       "13735  negative  female  "
      ]
     },
     "execution_count": 27,
     "metadata": {},
     "output_type": "execute_result"
    }
   ],
   "source": [
    "df1.head()"
   ]
  },
  {
   "cell_type": "markdown",
   "id": "e5555803",
   "metadata": {
    "id": "OdWUlWY0CtDn",
    "papermill": {
     "duration": 0.019425,
     "end_time": "2024-12-07T05:42:40.067619",
     "exception": false,
     "start_time": "2024-12-07T05:42:40.048194",
     "status": "completed"
    },
    "tags": []
   },
   "source": [
    "Corona"
   ]
  },
  {
   "cell_type": "code",
   "execution_count": 28,
   "id": "370fb2d0",
   "metadata": {
    "execution": {
     "iopub.execute_input": "2024-12-07T05:42:40.111743Z",
     "iopub.status.busy": "2024-12-07T05:42:40.111337Z",
     "iopub.status.idle": "2024-12-07T05:42:40.340991Z",
     "shell.execute_reply": "2024-12-07T05:42:40.339777Z"
    },
    "id": "x1d5BvewUR7P",
    "outputId": "aecd3a0b-8a86-42ad-f887-75601ed3b361",
    "papermill": {
     "duration": 0.255284,
     "end_time": "2024-12-07T05:42:40.344468",
     "exception": false,
     "start_time": "2024-12-07T05:42:40.089184",
     "status": "completed"
    },
    "tags": []
   },
   "outputs": [
    {
     "data": {
      "image/png": "[encoded data removed]",
      "text/plain": [
       "<Figure size 640x480 with 1 Axes>"
      ]
     },
     "metadata": {},
     "output_type": "display_data"
    }
   ],
   "source": [
    "plt.pie(df1['Corona'].value_counts(),colors=['grey','g'],labels=['-ve','+ve'],explode=[0,0.6],autopct='%1.1f%%')\n",
    "plt.title(\"Pie Chart of idividual's Corona\")\n",
    "plt.legend(bbox_to_anchor=(1.05, 1))\n",
    "plt.show()"
   ]
  },
  {
   "cell_type": "code",
   "execution_count": 29,
   "id": "33a2f1e4",
   "metadata": {
    "execution": {
     "iopub.execute_input": "2024-12-07T05:42:40.404570Z",
     "iopub.status.busy": "2024-12-07T05:42:40.404165Z",
     "iopub.status.idle": "2024-12-07T05:42:40.681978Z",
     "shell.execute_reply": "2024-12-07T05:42:40.680635Z"
    },
    "id": "8PaAR4xkzHKL",
    "outputId": "22a1614a-e298-489e-f9ac-607c573abb22",
    "papermill": {
     "duration": 0.303173,
     "end_time": "2024-12-07T05:42:40.684644",
     "exception": false,
     "start_time": "2024-12-07T05:42:40.381471",
     "status": "completed"
    },
    "tags": []
   },
   "outputs": [
    {
     "data": {
      "image/png": "[encoded data removed]",
      "text/plain": [
       "<Figure size 640x480 with 1 Axes>"
      ]
     },
     "metadata": {},
     "output_type": "display_data"
    }
   ],
   "source": [
    "plt.bar(df1['Corona'].value_counts().index,df1['Corona'].value_counts().values,color=['grey','k'])\n",
    "plt.xlabel('Corona +ve & -ve')\n",
    "plt.ylabel('Number of Corona +ve & -ve')\n",
    "plt.title('Corona')\n",
    "\n",
    "handles = [plt.Rectangle((0,0),1,1, color=c,ec=\"k\") for c in ['grey', 'k']]\n",
    "labels= ['-ve','+ve']\n",
    "plt.legend(handles, labels)\n",
    "\n",
    "plt.show()"
   ]
  },
  {
   "cell_type": "markdown",
   "id": "c4a6ff1d",
   "metadata": {
    "id": "CUFcbuVRnoGq",
    "papermill": {
     "duration": 0.022501,
     "end_time": "2024-12-07T05:42:40.729763",
     "exception": false,
     "start_time": "2024-12-07T05:42:40.707262",
     "status": "completed"
    },
    "tags": []
   },
   "source": [
    "* In this Dataset 94.7% of idividuals are have corona -ve  & 5.3% are have corona +ve."
   ]
  },
  {
   "cell_type": "markdown",
   "id": "0502fcd8",
   "metadata": {
    "id": "0gKo_4CX2P0a",
    "papermill": {
     "duration": 0.021376,
     "end_time": "2024-12-07T05:42:40.771915",
     "exception": false,
     "start_time": "2024-12-07T05:42:40.750539",
     "status": "completed"
    },
    "tags": []
   },
   "source": [
    "Cough_symptoms"
   ]
  },
  {
   "cell_type": "code",
   "execution_count": 30,
   "id": "f51654ac",
   "metadata": {
    "execution": {
     "iopub.execute_input": "2024-12-07T05:42:40.816068Z",
     "iopub.status.busy": "2024-12-07T05:42:40.815579Z",
     "iopub.status.idle": "2024-12-07T05:42:41.000742Z",
     "shell.execute_reply": "2024-12-07T05:42:40.999405Z"
    },
    "id": "SoteeyEC2bMR",
    "outputId": "04e6be7f-598f-4f84-8353-0cacca3ed854",
    "papermill": {
     "duration": 0.211952,
     "end_time": "2024-12-07T05:42:41.004407",
     "exception": false,
     "start_time": "2024-12-07T05:42:40.792455",
     "status": "completed"
    },
    "tags": []
   },
   "outputs": [
    {
     "data": {
      "image/png": "[encoded data removed]",
      "text/plain": [
       "<Figure size 640x480 with 1 Axes>"
      ]
     },
     "metadata": {},
     "output_type": "display_data"
    }
   ],
   "source": [
    "plt.pie(df1['Cough_symptoms'].value_counts(),colors=['grey','g'],labels=['Have Cough',\"Didn't have Cough\"],explode=[0,0.6],autopct='%1.1f%%')\n",
    "plt.title(\"Pie Chart of idividual's Cough_symptoms\")\n",
    "plt.legend(bbox_to_anchor=(1.05, 1))\n",
    "plt.show()"
   ]
  },
  {
   "cell_type": "code",
   "execution_count": 31,
   "id": "5d9676b4",
   "metadata": {
    "execution": {
     "iopub.execute_input": "2024-12-07T05:42:41.068881Z",
     "iopub.status.busy": "2024-12-07T05:42:41.068431Z",
     "iopub.status.idle": "2024-12-07T05:42:41.325116Z",
     "shell.execute_reply": "2024-12-07T05:42:41.323606Z"
    },
    "id": "OshALQQC_cJh",
    "outputId": "682e943c-2426-43f3-ac50-c372082298da",
    "papermill": {
     "duration": 0.282203,
     "end_time": "2024-12-07T05:42:41.328033",
     "exception": false,
     "start_time": "2024-12-07T05:42:41.045830",
     "status": "completed"
    },
    "tags": []
   },
   "outputs": [
    {
     "data": {
      "image/png": "[encoded data removed]",
      "text/plain": [
       "<Figure size 640x480 with 1 Axes>"
      ]
     },
     "metadata": {},
     "output_type": "display_data"
    }
   ],
   "source": [
    "plt.bar(df1['Cough_symptoms'].value_counts().index,df1['Cough_symptoms'].value_counts().values,color=['grey','k'])\n",
    "plt.xlabel('Cough_symptoms +ve & -ve')\n",
    "plt.ylabel('Number of Cough_symptoms +ve & -ve')\n",
    "plt.title('Cough_symptoms')\n",
    "\n",
    "handles = [plt.Rectangle((0,0),1,1, color=c,ec=\"k\") for c in ['grey', 'k']]\n",
    "labels= ['Have Cough_symptoms','Didnt have Cough_symptoms']\n",
    "plt.legend(handles, labels)\n",
    "\n",
    "plt.show()"
   ]
  },
  {
   "cell_type": "markdown",
   "id": "a203443c",
   "metadata": {
    "id": "aV5_34GAoZ3A",
    "papermill": {
     "duration": 0.022879,
     "end_time": "2024-12-07T05:42:41.373143",
     "exception": false,
     "start_time": "2024-12-07T05:42:41.350264",
     "status": "completed"
    },
    "tags": []
   },
   "source": [
    "* In this Dataset 84.7% of idividuals are have Cough symptoms & 15.3% didn't have Cough symptoms."
   ]
  },
  {
   "cell_type": "markdown",
   "id": "25c2ba5c",
   "metadata": {
    "id": "S34NZMyM3HKb",
    "papermill": {
     "duration": 0.021609,
     "end_time": "2024-12-07T05:42:41.417205",
     "exception": false,
     "start_time": "2024-12-07T05:42:41.395596",
     "status": "completed"
    },
    "tags": []
   },
   "source": [
    "Fever"
   ]
  },
  {
   "cell_type": "code",
   "execution_count": 32,
   "id": "20759f51",
   "metadata": {
    "execution": {
     "iopub.execute_input": "2024-12-07T05:42:41.463949Z",
     "iopub.status.busy": "2024-12-07T05:42:41.463495Z",
     "iopub.status.idle": "2024-12-07T05:42:41.622340Z",
     "shell.execute_reply": "2024-12-07T05:42:41.621127Z"
    },
    "id": "8_PTdQ-33FZy",
    "outputId": "731160a0-cbd7-450b-f965-5c461d00e7c9",
    "papermill": {
     "duration": 0.186488,
     "end_time": "2024-12-07T05:42:41.625898",
     "exception": false,
     "start_time": "2024-12-07T05:42:41.439410",
     "status": "completed"
    },
    "tags": []
   },
   "outputs": [
    {
     "data": {
      "image/png": "[encoded data removed]",
      "text/plain": [
       "<Figure size 640x480 with 1 Axes>"
      ]
     },
     "metadata": {},
     "output_type": "display_data"
    }
   ],
   "source": [
    "plt.pie(df1['Fever'].value_counts(),colors=['grey','g'],labels=[\"Didn't have Fever\",'Have Fever'],explode=[0,0.6],autopct='%1.1f%%')\n",
    "plt.title(\"Pie Chart of idividual's Fever\")\n",
    "plt.legend(bbox_to_anchor=(1.05, 1))\n",
    "plt.show()"
   ]
  },
  {
   "cell_type": "code",
   "execution_count": 33,
   "id": "71332fad",
   "metadata": {
    "execution": {
     "iopub.execute_input": "2024-12-07T05:42:41.708936Z",
     "iopub.status.busy": "2024-12-07T05:42:41.708528Z",
     "iopub.status.idle": "2024-12-07T05:42:41.995905Z",
     "shell.execute_reply": "2024-12-07T05:42:41.994533Z"
    },
    "id": "fqFd4ot74YgA",
    "outputId": "9ceb4a43-1e71-4b23-80eb-eef26652f755",
    "papermill": {
     "duration": 0.329713,
     "end_time": "2024-12-07T05:42:41.998542",
     "exception": false,
     "start_time": "2024-12-07T05:42:41.668829",
     "status": "completed"
    },
    "tags": []
   },
   "outputs": [
    {
     "data": {
      "image/png": "[encoded data removed]",
      "text/plain": [
       "<Figure size 640x480 with 1 Axes>"
      ]
     },
     "metadata": {},
     "output_type": "display_data"
    }
   ],
   "source": [
    "plt.bar(df1['Fever'].value_counts().index,df1['Fever'].value_counts().values,color=['grey','k'])\n",
    "plt.xlabel('Fever+ve & -ve')\n",
    "plt.ylabel('Number of Fever +ve & -ve')\n",
    "plt.title('Fever')\n",
    "\n",
    "handles = [plt.Rectangle((0,0),1,1, color=c,ec=\"k\") for c in ['grey', 'k']]\n",
    "labels= ['Didnt have Cough_symptoms','Have Cough_symptoms']\n",
    "plt.legend(handles, labels)\n",
    "\n",
    "plt.show()"
   ]
  },
  {
   "cell_type": "markdown",
   "id": "6330471e",
   "metadata": {
    "id": "XW_fITh3o4CT",
    "papermill": {
     "duration": 0.022467,
     "end_time": "2024-12-07T05:42:42.043728",
     "exception": false,
     "start_time": "2024-12-07T05:42:42.021261",
     "status": "completed"
    },
    "tags": []
   },
   "source": [
    "* In this Dataset 7.8% of idividuals didn't have fever & 92.2%  have fever."
   ]
  },
  {
   "cell_type": "markdown",
   "id": "b89cad09",
   "metadata": {
    "id": "mxX82y1l3i_r",
    "papermill": {
     "duration": 0.025424,
     "end_time": "2024-12-07T05:42:42.092730",
     "exception": false,
     "start_time": "2024-12-07T05:42:42.067306",
     "status": "completed"
    },
    "tags": []
   },
   "source": [
    "Sore_throat"
   ]
  },
  {
   "cell_type": "code",
   "execution_count": 34,
   "id": "9b104ac8",
   "metadata": {
    "execution": {
     "iopub.execute_input": "2024-12-07T05:42:42.143020Z",
     "iopub.status.busy": "2024-12-07T05:42:42.142606Z",
     "iopub.status.idle": "2024-12-07T05:42:42.334099Z",
     "shell.execute_reply": "2024-12-07T05:42:42.332852Z"
    },
    "id": "lqyuTJCs3Y5a",
    "outputId": "17f05da2-2695-44eb-edeb-5e3f555d5c36",
    "papermill": {
     "duration": 0.220154,
     "end_time": "2024-12-07T05:42:42.337975",
     "exception": false,
     "start_time": "2024-12-07T05:42:42.117821",
     "status": "completed"
    },
    "tags": []
   },
   "outputs": [
    {
     "data": {
      "image/png": "[encoded data removed]",
      "text/plain": [
       "<Figure size 640x480 with 1 Axes>"
      ]
     },
     "metadata": {},
     "output_type": "display_data"
    }
   ],
   "source": [
    "plt.pie(df1['Sore_throat'].value_counts(),colors=['grey','g'],labels=[\"Didn't have Sore_throat\",'Have Sore_throat'],explode=[0,0.6],autopct='%1.1f%%')\n",
    "plt.title(\"Pie Chart of idividual's Sore_throat\")\n",
    "plt.legend(bbox_to_anchor=(1.05, 1))\n",
    "plt.show()"
   ]
  },
  {
   "cell_type": "code",
   "execution_count": 35,
   "id": "43f86159",
   "metadata": {
    "execution": {
     "iopub.execute_input": "2024-12-07T05:42:42.404402Z",
     "iopub.status.busy": "2024-12-07T05:42:42.403972Z",
     "iopub.status.idle": "2024-12-07T05:42:42.653384Z",
     "shell.execute_reply": "2024-12-07T05:42:42.651933Z"
    },
    "id": "8FE17keTA5MG",
    "outputId": "9807838b-baf5-49f3-e3ef-c0e7407d7299",
    "papermill": {
     "duration": 0.277649,
     "end_time": "2024-12-07T05:42:42.655780",
     "exception": false,
     "start_time": "2024-12-07T05:42:42.378131",
     "status": "completed"
    },
    "tags": []
   },
   "outputs": [
    {
     "data": {
      "image/png": "[encoded data removed]",
      "text/plain": [
       "<Figure size 640x480 with 1 Axes>"
      ]
     },
     "metadata": {},
     "output_type": "display_data"
    }
   ],
   "source": [
    "plt.bar(df1['Sore_throat'].value_counts().index,df1['Sore_throat'].value_counts().values,color=['grey','k'])\n",
    "plt.xlabel('Sore_throat +ve & -ve')\n",
    "plt.ylabel('Number of Sore_throat +ve & -ve')\n",
    "plt.title('Sore_throat')\n",
    "\n",
    "handles = [plt.Rectangle((0,0),1,1, color=c,ec=\"k\") for c in ['grey', 'k']]\n",
    "labels= ['Didnt have Cough_symptoms','Have Cough_symptoms']\n",
    "plt.legend(handles, labels)\n",
    "\n",
    "plt.show()"
   ]
  },
  {
   "cell_type": "markdown",
   "id": "c7687bc3",
   "metadata": {
    "id": "4tBg_eJqpO1o",
    "papermill": {
     "duration": 0.023835,
     "end_time": "2024-12-07T05:42:42.705170",
     "exception": false,
     "start_time": "2024-12-07T05:42:42.681335",
     "status": "completed"
    },
    "tags": []
   },
   "source": [
    "* In this Dataset 99.4% of idividuals didn't have Sore throat & 0.6% have Sore throat."
   ]
  },
  {
   "cell_type": "markdown",
   "id": "2d2c42a4",
   "metadata": {
    "id": "Xcr1pNXw4Enj",
    "papermill": {
     "duration": 0.024747,
     "end_time": "2024-12-07T05:42:42.753948",
     "exception": false,
     "start_time": "2024-12-07T05:42:42.729201",
     "status": "completed"
    },
    "tags": []
   },
   "source": [
    "Shortness_of_breath"
   ]
  },
  {
   "cell_type": "code",
   "execution_count": 36,
   "id": "6e983d20",
   "metadata": {
    "execution": {
     "iopub.execute_input": "2024-12-07T05:42:42.803437Z",
     "iopub.status.busy": "2024-12-07T05:42:42.803009Z",
     "iopub.status.idle": "2024-12-07T05:42:42.969185Z",
     "shell.execute_reply": "2024-12-07T05:42:42.967705Z"
    },
    "id": "9AMcaRO23zcC",
    "outputId": "e1dc6dda-95a5-4b0c-ec74-c28b92e5f12d",
    "papermill": {
     "duration": 0.195346,
     "end_time": "2024-12-07T05:42:42.972800",
     "exception": false,
     "start_time": "2024-12-07T05:42:42.777454",
     "status": "completed"
    },
    "tags": []
   },
   "outputs": [
    {
     "data": {
      "image/png": "[encoded data removed]",
      "text/plain": [
       "<Figure size 640x480 with 1 Axes>"
      ]
     },
     "metadata": {},
     "output_type": "display_data"
    }
   ],
   "source": [
    "plt.pie(df1['Shortness_of_breath'].value_counts(),colors=['grey','g'],labels=[\"Didn't have Shortness_of_breath\",'Have Shortness_of_breath'],explode=[0,0.6],autopct='%1.1f%%')\n",
    "plt.title(\"Pie Chart of idividual's Shortness_of_breath\")\n",
    "plt.legend(bbox_to_anchor=(1.05, 1))\n",
    "plt.show()"
   ]
  },
  {
   "cell_type": "code",
   "execution_count": 37,
   "id": "520f5758",
   "metadata": {
    "execution": {
     "iopub.execute_input": "2024-12-07T05:42:43.054709Z",
     "iopub.status.busy": "2024-12-07T05:42:43.054292Z",
     "iopub.status.idle": "2024-12-07T05:42:43.315452Z",
     "shell.execute_reply": "2024-12-07T05:42:43.314262Z"
    },
    "id": "YManullCByh1",
    "outputId": "99c12571-8f53-477d-d44d-73eecb16b9a2",
    "papermill": {
     "duration": 0.296228,
     "end_time": "2024-12-07T05:42:43.317920",
     "exception": false,
     "start_time": "2024-12-07T05:42:43.021692",
     "status": "completed"
    },
    "tags": []
   },
   "outputs": [
    {
     "data": {
      "image/png": "[encoded data removed]",
      "text/plain": [
       "<Figure size 640x480 with 1 Axes>"
      ]
     },
     "metadata": {},
     "output_type": "display_data"
    }
   ],
   "source": [
    "plt.bar(df1['Shortness_of_breath'].value_counts().index,df1['Shortness_of_breath'].value_counts().values,color=['grey','k'])\n",
    "plt.xlabel('Shortness_of_breath +ve & -ve')\n",
    "plt.ylabel('Number of Shortness_of_breath +ve & -ve')\n",
    "plt.title('Shortness_of_breath')\n",
    "\n",
    "handles = [plt.Rectangle((0,0),1,1, color=c,ec=\"k\") for c in ['grey', 'k']]\n",
    "labels= ['Didnt have Cough_symptoms','Have Cough_symptoms']\n",
    "plt.legend(handles, labels)\n",
    "\n",
    "plt.show()"
   ]
  },
  {
   "cell_type": "markdown",
   "id": "9a02ca0f",
   "metadata": {
    "id": "Cdm2eLTppfd5",
    "papermill": {
     "duration": 0.02453,
     "end_time": "2024-12-07T05:42:43.367756",
     "exception": false,
     "start_time": "2024-12-07T05:42:43.343226",
     "status": "completed"
    },
    "tags": []
   },
   "source": [
    "* In this Dataset 99.6% of idividuals didn't have Shortness of breath & 0.4% have Shortness of breath."
   ]
  },
  {
   "cell_type": "markdown",
   "id": "919ab94a",
   "metadata": {
    "id": "wl_PSLBUDnLl",
    "papermill": {
     "duration": 0.024913,
     "end_time": "2024-12-07T05:42:43.417564",
     "exception": false,
     "start_time": "2024-12-07T05:42:43.392651",
     "status": "completed"
    },
    "tags": []
   },
   "source": [
    "Headache"
   ]
  },
  {
   "cell_type": "code",
   "execution_count": 38,
   "id": "6b504b66",
   "metadata": {
    "execution": {
     "iopub.execute_input": "2024-12-07T05:42:43.469267Z",
     "iopub.status.busy": "2024-12-07T05:42:43.468849Z",
     "iopub.status.idle": "2024-12-07T05:42:43.652083Z",
     "shell.execute_reply": "2024-12-07T05:42:43.650872Z"
    },
    "id": "S0ncn3gj4fJi",
    "outputId": "6e165743-bf62-4be8-e521-1f2cc5c7f3b7",
    "papermill": {
     "duration": 0.213188,
     "end_time": "2024-12-07T05:42:43.655807",
     "exception": false,
     "start_time": "2024-12-07T05:42:43.442619",
     "status": "completed"
    },
    "tags": []
   },
   "outputs": [
    {
     "data": {
      "image/png": "[encoded data removed]",
      "text/plain": [
       "<Figure size 640x480 with 1 Axes>"
      ]
     },
     "metadata": {},
     "output_type": "display_data"
    }
   ],
   "source": [
    "plt.pie(df1['Headache'].value_counts(),colors=['grey','g'],labels=[\"Didn't have Headache\",'Have Headache'],explode=[0,0.6],autopct='%1.1f%%')\n",
    "plt.title(\"Pie Chart of idividual's Headache\")\n",
    "plt.legend(bbox_to_anchor=(1.05, 1))\n",
    "plt.show()"
   ]
  },
  {
   "cell_type": "code",
   "execution_count": 39,
   "id": "87a26d86",
   "metadata": {
    "execution": {
     "iopub.execute_input": "2024-12-07T05:42:43.732974Z",
     "iopub.status.busy": "2024-12-07T05:42:43.732568Z",
     "iopub.status.idle": "2024-12-07T05:42:44.029303Z",
     "shell.execute_reply": "2024-12-07T05:42:44.027952Z"
    },
    "id": "6zQU7JZQCDl_",
    "outputId": "2f551192-dc77-4e83-8af0-b368f5c23ee1",
    "papermill": {
     "duration": 0.327486,
     "end_time": "2024-12-07T05:42:44.031760",
     "exception": false,
     "start_time": "2024-12-07T05:42:43.704274",
     "status": "completed"
    },
    "tags": []
   },
   "outputs": [
    {
     "data": {
      "image/png": "[encoded data removed]",
      "text/plain": [
       "<Figure size 640x480 with 1 Axes>"
      ]
     },
     "metadata": {},
     "output_type": "display_data"
    }
   ],
   "source": [
    "plt.bar(df1['Headache'].value_counts().index,df1['Headache'].value_counts().values,color=['grey','k'])\n",
    "plt.xlabel('Headache +ve & -ve')\n",
    "plt.ylabel('Number of Headache +ve & -ve')\n",
    "plt.title('Headache')\n",
    "\n",
    "handles = [plt.Rectangle((0,0),1,1, color=c,ec=\"k\") for c in ['grey', 'k']]\n",
    "labels= ['Didnt have Cough_symptoms','Have Cough_symptoms']\n",
    "plt.legend(handles, labels)\n",
    "\n",
    "plt.show()"
   ]
  },
  {
   "cell_type": "markdown",
   "id": "df1ffaae",
   "metadata": {
    "id": "g7Ujd-a9pusw",
    "papermill": {
     "duration": 0.025241,
     "end_time": "2024-12-07T05:42:44.082847",
     "exception": false,
     "start_time": "2024-12-07T05:42:44.057606",
     "status": "completed"
    },
    "tags": []
   },
   "source": [
    "* In this Dataset 99.2% of idividuals didn't have Headache & 0.8% have Headache."
   ]
  },
  {
   "cell_type": "markdown",
   "id": "74393a64",
   "metadata": {
    "id": "4GqCyCodEzJe",
    "papermill": {
     "duration": 0.025709,
     "end_time": "2024-12-07T05:42:44.134585",
     "exception": false,
     "start_time": "2024-12-07T05:42:44.108876",
     "status": "completed"
    },
    "tags": []
   },
   "source": [
    "Sex"
   ]
  },
  {
   "cell_type": "code",
   "execution_count": 40,
   "id": "7cc4ffef",
   "metadata": {
    "execution": {
     "iopub.execute_input": "2024-12-07T05:42:44.188599Z",
     "iopub.status.busy": "2024-12-07T05:42:44.188192Z",
     "iopub.status.idle": "2024-12-07T05:42:44.352348Z",
     "shell.execute_reply": "2024-12-07T05:42:44.351132Z"
    },
    "id": "4iBFiTpTEsXd",
    "outputId": "96c142f7-92ab-4c60-89f9-3711bc579cb6",
    "papermill": {
     "duration": 0.195065,
     "end_time": "2024-12-07T05:42:44.355443",
     "exception": false,
     "start_time": "2024-12-07T05:42:44.160378",
     "status": "completed"
    },
    "tags": []
   },
   "outputs": [
    {
     "data": {
      "image/png": "[encoded data removed]",
      "text/plain": [
       "<Figure size 640x480 with 1 Axes>"
      ]
     },
     "metadata": {},
     "output_type": "display_data"
    }
   ],
   "source": [
    "plt.pie(df1['Sex'].value_counts(),colors=['grey','g'],labels=[\"Male\",'Female'],autopct='%1.1f%%')\n",
    "plt.title(\"Pie Chart of idividual's Gender\")\n",
    "plt.legend(bbox_to_anchor=(1.05, 1))\n",
    "plt.show()"
   ]
  },
  {
   "cell_type": "code",
   "execution_count": 41,
   "id": "c3d81400",
   "metadata": {
    "execution": {
     "iopub.execute_input": "2024-12-07T05:42:44.436502Z",
     "iopub.status.busy": "2024-12-07T05:42:44.436109Z",
     "iopub.status.idle": "2024-12-07T05:42:44.700349Z",
     "shell.execute_reply": "2024-12-07T05:42:44.699006Z"
    },
    "id": "sh0hRR2tCPdJ",
    "outputId": "be6b50ed-9b0e-48fa-9113-f7a064315183",
    "papermill": {
     "duration": 0.298287,
     "end_time": "2024-12-07T05:42:44.702864",
     "exception": false,
     "start_time": "2024-12-07T05:42:44.404577",
     "status": "completed"
    },
    "tags": []
   },
   "outputs": [
    {
     "data": {
      "image/png": "[encoded data removed]",
      "text/plain": [
       "<Figure size 640x480 with 1 Axes>"
      ]
     },
     "metadata": {},
     "output_type": "display_data"
    }
   ],
   "source": [
    "plt.bar(df1['Sex'].value_counts().index,df1['Sex'].value_counts().values,color=['grey','k'])\n",
    "plt.xlabel('Sex Male or Female')\n",
    "plt.ylabel('Number of Sex Male or Female')\n",
    "plt.title('Sex')\n",
    "\n",
    "handles = [plt.Rectangle((0,0),1,1, color=c,ec=\"k\") for c in ['grey', 'k']]\n",
    "labels= ['Male','Female']\n",
    "plt.legend(handles, labels)\n",
    "\n",
    "plt.show()"
   ]
  },
  {
   "cell_type": "markdown",
   "id": "c79173c9",
   "metadata": {
    "id": "bpqV293lp5Vj",
    "papermill": {
     "duration": 0.026397,
     "end_time": "2024-12-07T05:42:44.756288",
     "exception": false,
     "start_time": "2024-12-07T05:42:44.729891",
     "status": "completed"
    },
    "tags": []
   },
   "source": [
    "* In this Dataset 50.2% of idividuals are Male & 49.8% are Female."
   ]
  },
  {
   "cell_type": "markdown",
   "id": "2b20bde9",
   "metadata": {
    "id": "8CLrTTC9Cqsf",
    "papermill": {
     "duration": 0.026514,
     "end_time": "2024-12-07T05:42:44.809380",
     "exception": false,
     "start_time": "2024-12-07T05:42:44.782866",
     "status": "completed"
    },
    "tags": []
   },
   "source": [
    "# Encoding"
   ]
  },
  {
   "cell_type": "markdown",
   "id": "7c103f5f",
   "metadata": {
    "id": "G8MX4TVeNKIi",
    "papermill": {
     "duration": 0.026326,
     "end_time": "2024-12-07T05:42:44.862414",
     "exception": false,
     "start_time": "2024-12-07T05:42:44.836088",
     "status": "completed"
    },
    "tags": []
   },
   "source": [
    "**Changing datatype of each column**"
   ]
  },
  {
   "cell_type": "markdown",
   "id": "1e33af70",
   "metadata": {
    "id": "9aQKicsmCqsf",
    "papermill": {
     "duration": 0.026677,
     "end_time": "2024-12-07T05:42:44.916064",
     "exception": false,
     "start_time": "2024-12-07T05:42:44.889387",
     "status": "completed"
    },
    "tags": []
   },
   "source": [
    "Cough_symptoms"
   ]
  },
  {
   "cell_type": "code",
   "execution_count": 42,
   "id": "b0646b8d",
   "metadata": {
    "execution": {
     "iopub.execute_input": "2024-12-07T05:42:44.973491Z",
     "iopub.status.busy": "2024-12-07T05:42:44.973079Z",
     "iopub.status.idle": "2024-12-07T05:42:44.988893Z",
     "shell.execute_reply": "2024-12-07T05:42:44.987570Z"
    },
    "id": "da8POfyeCqsf",
    "papermill": {
     "duration": 0.047179,
     "end_time": "2024-12-07T05:42:44.991206",
     "exception": false,
     "start_time": "2024-12-07T05:42:44.944027",
     "status": "completed"
    },
    "tags": []
   },
   "outputs": [],
   "source": [
    "df1['Cough_symptoms']=df1['Cough_symptoms'].astype('int64')"
   ]
  },
  {
   "cell_type": "markdown",
   "id": "fc816cbb",
   "metadata": {
    "id": "1RcWHUycCqsf",
    "papermill": {
     "duration": 0.027808,
     "end_time": "2024-12-07T05:42:45.046484",
     "exception": false,
     "start_time": "2024-12-07T05:42:45.018676",
     "status": "completed"
    },
    "tags": []
   },
   "source": [
    "Fever"
   ]
  },
  {
   "cell_type": "code",
   "execution_count": 43,
   "id": "d09f1e8d",
   "metadata": {
    "execution": {
     "iopub.execute_input": "2024-12-07T05:42:45.103979Z",
     "iopub.status.busy": "2024-12-07T05:42:45.102850Z",
     "iopub.status.idle": "2024-12-07T05:42:45.118858Z",
     "shell.execute_reply": "2024-12-07T05:42:45.117542Z"
    },
    "id": "DFLalwPICqsf",
    "papermill": {
     "duration": 0.046694,
     "end_time": "2024-12-07T05:42:45.121171",
     "exception": false,
     "start_time": "2024-12-07T05:42:45.074477",
     "status": "completed"
    },
    "tags": []
   },
   "outputs": [],
   "source": [
    "df1['Fever']=df1['Fever'].astype('int64')"
   ]
  },
  {
   "cell_type": "markdown",
   "id": "abaf97e2",
   "metadata": {
    "id": "WBhLiRkECqsf",
    "papermill": {
     "duration": 0.026407,
     "end_time": "2024-12-07T05:42:45.174372",
     "exception": false,
     "start_time": "2024-12-07T05:42:45.147965",
     "status": "completed"
    },
    "tags": []
   },
   "source": [
    "Sore_throat"
   ]
  },
  {
   "cell_type": "code",
   "execution_count": 44,
   "id": "d3cac217",
   "metadata": {
    "execution": {
     "iopub.execute_input": "2024-12-07T05:42:45.229495Z",
     "iopub.status.busy": "2024-12-07T05:42:45.229080Z",
     "iopub.status.idle": "2024-12-07T05:42:45.244525Z",
     "shell.execute_reply": "2024-12-07T05:42:45.243222Z"
    },
    "id": "rKLqMYr7Cqsf",
    "papermill": {
     "duration": 0.045885,
     "end_time": "2024-12-07T05:42:45.246960",
     "exception": false,
     "start_time": "2024-12-07T05:42:45.201075",
     "status": "completed"
    },
    "tags": []
   },
   "outputs": [],
   "source": [
    "df1['Sore_throat']=df1['Sore_throat'].astype('int64')"
   ]
  },
  {
   "cell_type": "markdown",
   "id": "b6d43180",
   "metadata": {
    "id": "xT29WR4DCqsf",
    "papermill": {
     "duration": 0.026409,
     "end_time": "2024-12-07T05:42:45.300151",
     "exception": false,
     "start_time": "2024-12-07T05:42:45.273742",
     "status": "completed"
    },
    "tags": []
   },
   "source": [
    "Shortness_of_breath"
   ]
  },
  {
   "cell_type": "code",
   "execution_count": 45,
   "id": "01e066f1",
   "metadata": {
    "execution": {
     "iopub.execute_input": "2024-12-07T05:42:45.357062Z",
     "iopub.status.busy": "2024-12-07T05:42:45.356607Z",
     "iopub.status.idle": "2024-12-07T05:42:45.372103Z",
     "shell.execute_reply": "2024-12-07T05:42:45.370855Z"
    },
    "id": "kBauewFeCqsf",
    "papermill": {
     "duration": 0.045902,
     "end_time": "2024-12-07T05:42:45.374508",
     "exception": false,
     "start_time": "2024-12-07T05:42:45.328606",
     "status": "completed"
    },
    "tags": []
   },
   "outputs": [],
   "source": [
    "df1['Shortness_of_breath']=df1['Shortness_of_breath'].astype('int64')"
   ]
  },
  {
   "cell_type": "markdown",
   "id": "8e25bd9a",
   "metadata": {
    "id": "l00KHkX-Cqsg",
    "papermill": {
     "duration": 0.026405,
     "end_time": "2024-12-07T05:42:45.427702",
     "exception": false,
     "start_time": "2024-12-07T05:42:45.401297",
     "status": "completed"
    },
    "tags": []
   },
   "source": [
    "Headache"
   ]
  },
  {
   "cell_type": "code",
   "execution_count": 46,
   "id": "6ff7e501",
   "metadata": {
    "execution": {
     "iopub.execute_input": "2024-12-07T05:42:45.483143Z",
     "iopub.status.busy": "2024-12-07T05:42:45.482704Z",
     "iopub.status.idle": "2024-12-07T05:42:45.498142Z",
     "shell.execute_reply": "2024-12-07T05:42:45.496958Z"
    },
    "id": "pw4_3iY6Cqsg",
    "papermill": {
     "duration": 0.045936,
     "end_time": "2024-12-07T05:42:45.500430",
     "exception": false,
     "start_time": "2024-12-07T05:42:45.454494",
     "status": "completed"
    },
    "tags": []
   },
   "outputs": [],
   "source": [
    "df1['Headache']=df1['Headache'].astype('int64')"
   ]
  },
  {
   "cell_type": "markdown",
   "id": "27dbddff",
   "metadata": {
    "id": "lsgCUwyWTnkn",
    "papermill": {
     "duration": 0.026498,
     "end_time": "2024-12-07T05:42:45.553870",
     "exception": false,
     "start_time": "2024-12-07T05:42:45.527372",
     "status": "completed"
    },
    "tags": []
   },
   "source": [
    "**Encode the column 'Corona' and 'Sex' with replace method.**"
   ]
  },
  {
   "cell_type": "markdown",
   "id": "22bda7d6",
   "metadata": {
    "id": "o-Ylfvr0Cqsg",
    "papermill": {
     "duration": 0.026696,
     "end_time": "2024-12-07T05:42:45.607560",
     "exception": false,
     "start_time": "2024-12-07T05:42:45.580864",
     "status": "completed"
    },
    "tags": []
   },
   "source": [
    "Corona"
   ]
  },
  {
   "cell_type": "code",
   "execution_count": 47,
   "id": "6c22819f",
   "metadata": {
    "execution": {
     "iopub.execute_input": "2024-12-07T05:42:45.662879Z",
     "iopub.status.busy": "2024-12-07T05:42:45.662457Z",
     "iopub.status.idle": "2024-12-07T05:42:45.752372Z",
     "shell.execute_reply": "2024-12-07T05:42:45.751225Z"
    },
    "id": "vPzSllagCqsg",
    "outputId": "ec66af21-1c1b-405f-f80e-6998c2a2ae53",
    "papermill": {
     "duration": 0.12033,
     "end_time": "2024-12-07T05:42:45.754843",
     "exception": false,
     "start_time": "2024-12-07T05:42:45.634513",
     "status": "completed"
    },
    "tags": []
   },
   "outputs": [
    {
     "name": "stderr",
     "output_type": "stream",
     "text": [
      "/tmp/ipykernel_17/552523057.py:1: FutureWarning: A value is trying to be set on a copy of a DataFrame or Series through chained assignment using an inplace method.\n",
      "The behavior will change in pandas 3.0. This inplace method will never work because the intermediate object on which we are setting values always behaves as a copy.\n",
      "\n",
      "For example, when doing 'df[col].method(value, inplace=True)', try using 'df.method({col: value}, inplace=True)' or df[col] = df[col].method(value) instead, to perform the operation inplace on the original object.\n",
      "\n",
      "\n",
      "  df1['Corona'].replace(['negative','positive'],[0,1],inplace=True)\n",
      "/tmp/ipykernel_17/552523057.py:1: FutureWarning: Downcasting behavior in `replace` is deprecated and will be removed in a future version. To retain the old behavior, explicitly call `result.infer_objects(copy=False)`. To opt-in to the future behavior, set `pd.set_option('future.no_silent_downcasting', True)`\n",
      "  df1['Corona'].replace(['negative','positive'],[0,1],inplace=True)\n"
     ]
    }
   ],
   "source": [
    "df1['Corona'].replace(['negative','positive'],[0,1],inplace=True)"
   ]
  },
  {
   "cell_type": "markdown",
   "id": "6e999695",
   "metadata": {
    "id": "UlZzDt2hCqsg",
    "papermill": {
     "duration": 0.027367,
     "end_time": "2024-12-07T05:42:45.809189",
     "exception": false,
     "start_time": "2024-12-07T05:42:45.781822",
     "status": "completed"
    },
    "tags": []
   },
   "source": [
    "Sex"
   ]
  },
  {
   "cell_type": "code",
   "execution_count": 48,
   "id": "57fa1b7a",
   "metadata": {
    "execution": {
     "iopub.execute_input": "2024-12-07T05:42:45.866565Z",
     "iopub.status.busy": "2024-12-07T05:42:45.866168Z",
     "iopub.status.idle": "2024-12-07T05:42:45.958446Z",
     "shell.execute_reply": "2024-12-07T05:42:45.957157Z"
    },
    "id": "0AW9ChWHCqsg",
    "outputId": "408f2892-89a9-4baf-fba2-1b296a4e98b5",
    "papermill": {
     "duration": 0.12449,
     "end_time": "2024-12-07T05:42:45.961394",
     "exception": false,
     "start_time": "2024-12-07T05:42:45.836904",
     "status": "completed"
    },
    "tags": []
   },
   "outputs": [
    {
     "name": "stderr",
     "output_type": "stream",
     "text": [
      "/tmp/ipykernel_17/1706631603.py:1: FutureWarning: A value is trying to be set on a copy of a DataFrame or Series through chained assignment using an inplace method.\n",
      "The behavior will change in pandas 3.0. This inplace method will never work because the intermediate object on which we are setting values always behaves as a copy.\n",
      "\n",
      "For example, when doing 'df[col].method(value, inplace=True)', try using 'df.method({col: value}, inplace=True)' or df[col] = df[col].method(value) instead, to perform the operation inplace on the original object.\n",
      "\n",
      "\n",
      "  df1['Sex'].replace(['male','female'],[1,0],inplace=True)\n",
      "/tmp/ipykernel_17/1706631603.py:1: FutureWarning: Downcasting behavior in `replace` is deprecated and will be removed in a future version. To retain the old behavior, explicitly call `result.infer_objects(copy=False)`. To opt-in to the future behavior, set `pd.set_option('future.no_silent_downcasting', True)`\n",
      "  df1['Sex'].replace(['male','female'],[1,0],inplace=True)\n"
     ]
    }
   ],
   "source": [
    "df1['Sex'].replace(['male','female'],[1,0],inplace=True)"
   ]
  },
  {
   "cell_type": "code",
   "execution_count": 49,
   "id": "e965fd9f",
   "metadata": {
    "execution": {
     "iopub.execute_input": "2024-12-07T05:42:46.018673Z",
     "iopub.status.busy": "2024-12-07T05:42:46.018275Z",
     "iopub.status.idle": "2024-12-07T05:42:46.032544Z",
     "shell.execute_reply": "2024-12-07T05:42:46.031295Z"
    },
    "id": "v4nsjSj3LoDJ",
    "outputId": "2572142e-7adc-4367-d770-b6bde83e3839",
    "papermill": {
     "duration": 0.046611,
     "end_time": "2024-12-07T05:42:46.035098",
     "exception": false,
     "start_time": "2024-12-07T05:42:45.988487",
     "status": "completed"
    },
    "tags": []
   },
   "outputs": [
    {
     "name": "stdout",
     "output_type": "stream",
     "text": [
      "<class 'pandas.core.frame.DataFrame'>\n",
      "Index: 255668 entries, 13727 to 278847\n",
      "Data columns (total 7 columns):\n",
      " #   Column               Non-Null Count   Dtype\n",
      "---  ------               --------------   -----\n",
      " 0   Cough_symptoms       255668 non-null  int64\n",
      " 1   Fever                255668 non-null  int64\n",
      " 2   Sore_throat          255668 non-null  int64\n",
      " 3   Shortness_of_breath  255668 non-null  int64\n",
      " 4   Headache             255668 non-null  int64\n",
      " 5   Corona               255668 non-null  int64\n",
      " 6   Sex                  255668 non-null  int64\n",
      "dtypes: int64(7)\n",
      "memory usage: 15.6 MB\n"
     ]
    }
   ],
   "source": [
    "df1.info()"
   ]
  },
  {
   "cell_type": "code",
   "execution_count": 50,
   "id": "b64e7ee6",
   "metadata": {
    "execution": {
     "iopub.execute_input": "2024-12-07T05:42:46.093198Z",
     "iopub.status.busy": "2024-12-07T05:42:46.092705Z",
     "iopub.status.idle": "2024-12-07T05:42:46.175217Z",
     "shell.execute_reply": "2024-12-07T05:42:46.174166Z"
    },
    "id": "tf16yhP-Cqsg",
    "outputId": "63b250a5-af53-4a6f-f990-470e56c4846f",
    "papermill": {
     "duration": 0.114431,
     "end_time": "2024-12-07T05:42:46.177407",
     "exception": false,
     "start_time": "2024-12-07T05:42:46.062976",
     "status": "completed"
    },
    "tags": []
   },
   "outputs": [
    {
     "data": {
      "text/html": [
       "<div>\n",
       "<style scoped>\n",
       "    .dataframe tbody tr th:only-of-type {\n",
       "        vertical-align: middle;\n",
       "    }\n",
       "\n",
       "    .dataframe tbody tr th {\n",
       "        vertical-align: top;\n",
       "    }\n",
       "\n",
       "    .dataframe thead th {\n",
       "        text-align: right;\n",
       "    }\n",
       "</style>\n",
       "<table border=\"1\" class=\"dataframe\">\n",
       "  <thead>\n",
       "    <tr style=\"text-align: right;\">\n",
       "      <th></th>\n",
       "      <th>count</th>\n",
       "      <th>mean</th>\n",
       "      <th>std</th>\n",
       "      <th>min</th>\n",
       "      <th>25%</th>\n",
       "      <th>50%</th>\n",
       "      <th>75%</th>\n",
       "      <th>max</th>\n",
       "    </tr>\n",
       "  </thead>\n",
       "  <tbody>\n",
       "    <tr>\n",
       "      <th>Cough_symptoms</th>\n",
       "      <td>255668.0</td>\n",
       "      <td>0.152745</td>\n",
       "      <td>0.359742</td>\n",
       "      <td>0.0</td>\n",
       "      <td>0.0</td>\n",
       "      <td>0.0</td>\n",
       "      <td>0.0</td>\n",
       "      <td>1.0</td>\n",
       "    </tr>\n",
       "    <tr>\n",
       "      <th>Fever</th>\n",
       "      <td>255668.0</td>\n",
       "      <td>0.077655</td>\n",
       "      <td>0.267629</td>\n",
       "      <td>0.0</td>\n",
       "      <td>0.0</td>\n",
       "      <td>0.0</td>\n",
       "      <td>0.0</td>\n",
       "      <td>1.0</td>\n",
       "    </tr>\n",
       "    <tr>\n",
       "      <th>Sore_throat</th>\n",
       "      <td>255668.0</td>\n",
       "      <td>0.005851</td>\n",
       "      <td>0.076270</td>\n",
       "      <td>0.0</td>\n",
       "      <td>0.0</td>\n",
       "      <td>0.0</td>\n",
       "      <td>0.0</td>\n",
       "      <td>1.0</td>\n",
       "    </tr>\n",
       "    <tr>\n",
       "      <th>Shortness_of_breath</th>\n",
       "      <td>255668.0</td>\n",
       "      <td>0.004216</td>\n",
       "      <td>0.064797</td>\n",
       "      <td>0.0</td>\n",
       "      <td>0.0</td>\n",
       "      <td>0.0</td>\n",
       "      <td>0.0</td>\n",
       "      <td>1.0</td>\n",
       "    </tr>\n",
       "    <tr>\n",
       "      <th>Headache</th>\n",
       "      <td>255668.0</td>\n",
       "      <td>0.008226</td>\n",
       "      <td>0.090321</td>\n",
       "      <td>0.0</td>\n",
       "      <td>0.0</td>\n",
       "      <td>0.0</td>\n",
       "      <td>0.0</td>\n",
       "      <td>1.0</td>\n",
       "    </tr>\n",
       "    <tr>\n",
       "      <th>Corona</th>\n",
       "      <td>255668.0</td>\n",
       "      <td>0.052928</td>\n",
       "      <td>0.223890</td>\n",
       "      <td>0.0</td>\n",
       "      <td>0.0</td>\n",
       "      <td>0.0</td>\n",
       "      <td>0.0</td>\n",
       "      <td>1.0</td>\n",
       "    </tr>\n",
       "    <tr>\n",
       "      <th>Sex</th>\n",
       "      <td>255668.0</td>\n",
       "      <td>0.497735</td>\n",
       "      <td>0.499996</td>\n",
       "      <td>0.0</td>\n",
       "      <td>0.0</td>\n",
       "      <td>0.0</td>\n",
       "      <td>1.0</td>\n",
       "      <td>1.0</td>\n",
       "    </tr>\n",
       "  </tbody>\n",
       "</table>\n",
       "</div>"
      ],
      "text/plain": [
       "                        count      mean       std  min  25%  50%  75%  max\n",
       "Cough_symptoms       255668.0  0.152745  0.359742  0.0  0.0  0.0  0.0  1.0\n",
       "Fever                255668.0  0.077655  0.267629  0.0  0.0  0.0  0.0  1.0\n",
       "Sore_throat          255668.0  0.005851  0.076270  0.0  0.0  0.0  0.0  1.0\n",
       "Shortness_of_breath  255668.0  0.004216  0.064797  0.0  0.0  0.0  0.0  1.0\n",
       "Headache             255668.0  0.008226  0.090321  0.0  0.0  0.0  0.0  1.0\n",
       "Corona               255668.0  0.052928  0.223890  0.0  0.0  0.0  0.0  1.0\n",
       "Sex                  255668.0  0.497735  0.499996  0.0  0.0  0.0  1.0  1.0"
      ]
     },
     "execution_count": 50,
     "metadata": {},
     "output_type": "execute_result"
    }
   ],
   "source": [
    "df1.describe().T"
   ]
  },
  {
   "cell_type": "markdown",
   "id": "420cf216",
   "metadata": {
    "id": "q--4x6i54xFV",
    "papermill": {
     "duration": 0.027464,
     "end_time": "2024-12-07T05:42:46.232870",
     "exception": false,
     "start_time": "2024-12-07T05:42:46.205406",
     "status": "completed"
    },
    "tags": []
   },
   "source": [
    "# Correlation Analysis:"
   ]
  },
  {
   "cell_type": "code",
   "execution_count": 51,
   "id": "500cf207",
   "metadata": {
    "execution": {
     "iopub.execute_input": "2024-12-07T05:42:46.289752Z",
     "iopub.status.busy": "2024-12-07T05:42:46.289349Z",
     "iopub.status.idle": "2024-12-07T05:42:46.348766Z",
     "shell.execute_reply": "2024-12-07T05:42:46.347575Z"
    },
    "id": "EysBDlHY5v3V",
    "outputId": "ad0eaf8d-11e5-4b88-e76d-8c4cfe62b824",
    "papermill": {
     "duration": 0.091215,
     "end_time": "2024-12-07T05:42:46.351230",
     "exception": false,
     "start_time": "2024-12-07T05:42:46.260015",
     "status": "completed"
    },
    "tags": []
   },
   "outputs": [
    {
     "data": {
      "text/html": [
       "<div>\n",
       "<style scoped>\n",
       "    .dataframe tbody tr th:only-of-type {\n",
       "        vertical-align: middle;\n",
       "    }\n",
       "\n",
       "    .dataframe tbody tr th {\n",
       "        vertical-align: top;\n",
       "    }\n",
       "\n",
       "    .dataframe thead th {\n",
       "        text-align: right;\n",
       "    }\n",
       "</style>\n",
       "<table border=\"1\" class=\"dataframe\">\n",
       "  <thead>\n",
       "    <tr style=\"text-align: right;\">\n",
       "      <th></th>\n",
       "      <th>Cough_symptoms</th>\n",
       "      <th>Fever</th>\n",
       "      <th>Sore_throat</th>\n",
       "      <th>Shortness_of_breath</th>\n",
       "      <th>Headache</th>\n",
       "      <th>Corona</th>\n",
       "      <th>Sex</th>\n",
       "    </tr>\n",
       "  </thead>\n",
       "  <tbody>\n",
       "    <tr>\n",
       "      <th>Cough_symptoms</th>\n",
       "      <td>1.000000</td>\n",
       "      <td>0.451896</td>\n",
       "      <td>0.105560</td>\n",
       "      <td>0.097546</td>\n",
       "      <td>0.114091</td>\n",
       "      <td>0.194106</td>\n",
       "      <td>0.030953</td>\n",
       "    </tr>\n",
       "    <tr>\n",
       "      <th>Fever</th>\n",
       "      <td>0.451896</td>\n",
       "      <td>1.000000</td>\n",
       "      <td>0.118579</td>\n",
       "      <td>0.118703</td>\n",
       "      <td>0.164186</td>\n",
       "      <td>0.260399</td>\n",
       "      <td>0.035893</td>\n",
       "    </tr>\n",
       "    <tr>\n",
       "      <th>Sore_throat</th>\n",
       "      <td>0.105560</td>\n",
       "      <td>0.118579</td>\n",
       "      <td>1.000000</td>\n",
       "      <td>0.204739</td>\n",
       "      <td>0.339929</td>\n",
       "      <td>0.293147</td>\n",
       "      <td>-0.005909</td>\n",
       "    </tr>\n",
       "    <tr>\n",
       "      <th>Shortness_of_breath</th>\n",
       "      <td>0.097546</td>\n",
       "      <td>0.118703</td>\n",
       "      <td>0.204739</td>\n",
       "      <td>1.000000</td>\n",
       "      <td>0.222638</td>\n",
       "      <td>0.248565</td>\n",
       "      <td>0.004520</td>\n",
       "    </tr>\n",
       "    <tr>\n",
       "      <th>Headache</th>\n",
       "      <td>0.114091</td>\n",
       "      <td>0.164186</td>\n",
       "      <td>0.339929</td>\n",
       "      <td>0.222638</td>\n",
       "      <td>1.000000</td>\n",
       "      <td>0.366278</td>\n",
       "      <td>0.002188</td>\n",
       "    </tr>\n",
       "    <tr>\n",
       "      <th>Corona</th>\n",
       "      <td>0.194106</td>\n",
       "      <td>0.260399</td>\n",
       "      <td>0.293147</td>\n",
       "      <td>0.248565</td>\n",
       "      <td>0.366278</td>\n",
       "      <td>1.000000</td>\n",
       "      <td>0.026961</td>\n",
       "    </tr>\n",
       "    <tr>\n",
       "      <th>Sex</th>\n",
       "      <td>0.030953</td>\n",
       "      <td>0.035893</td>\n",
       "      <td>-0.005909</td>\n",
       "      <td>0.004520</td>\n",
       "      <td>0.002188</td>\n",
       "      <td>0.026961</td>\n",
       "      <td>1.000000</td>\n",
       "    </tr>\n",
       "  </tbody>\n",
       "</table>\n",
       "</div>"
      ],
      "text/plain": [
       "                     Cough_symptoms     Fever  Sore_throat  \\\n",
       "Cough_symptoms             1.000000  0.451896     0.105560   \n",
       "Fever                      0.451896  1.000000     0.118579   \n",
       "Sore_throat                0.105560  0.118579     1.000000   \n",
       "Shortness_of_breath        0.097546  0.118703     0.204739   \n",
       "Headache                   0.114091  0.164186     0.339929   \n",
       "Corona                     0.194106  0.260399     0.293147   \n",
       "Sex                        0.030953  0.035893    -0.005909   \n",
       "\n",
       "                     Shortness_of_breath  Headache    Corona       Sex  \n",
       "Cough_symptoms                  0.097546  0.114091  0.194106  0.030953  \n",
       "Fever                           0.118703  0.164186  0.260399  0.035893  \n",
       "Sore_throat                     0.204739  0.339929  0.293147 -0.005909  \n",
       "Shortness_of_breath             1.000000  0.222638  0.248565  0.004520  \n",
       "Headache                        0.222638  1.000000  0.366278  0.002188  \n",
       "Corona                          0.248565  0.366278  1.000000  0.026961  \n",
       "Sex                             0.004520  0.002188  0.026961  1.000000  "
      ]
     },
     "execution_count": 51,
     "metadata": {},
     "output_type": "execute_result"
    }
   ],
   "source": [
    "c=df1.corr()\n",
    "c"
   ]
  },
  {
   "cell_type": "code",
   "execution_count": 52,
   "id": "b6a94d3d",
   "metadata": {
    "execution": {
     "iopub.execute_input": "2024-12-07T05:42:46.409237Z",
     "iopub.status.busy": "2024-12-07T05:42:46.407915Z",
     "iopub.status.idle": "2024-12-07T05:42:46.796730Z",
     "shell.execute_reply": "2024-12-07T05:42:46.795541Z"
    },
    "id": "QR7PdzNh5AZN",
    "outputId": "281e85f1-7e6e-430d-ca48-c049190d76f0",
    "papermill": {
     "duration": 0.420554,
     "end_time": "2024-12-07T05:42:46.799450",
     "exception": false,
     "start_time": "2024-12-07T05:42:46.378896",
     "status": "completed"
    },
    "tags": []
   },
   "outputs": [
    {
     "data": {
      "image/png": "[encoded data removed]",
      "text/plain": [
       "<Figure size 1200x800 with 2 Axes>"
      ]
     },
     "metadata": {},
     "output_type": "display_data"
    }
   ],
   "source": [
    "plt.figure(figsize=(12,8))\n",
    "sns.heatmap(c,annot=True,cmap='Greens')\n",
    "plt.title('Correlation heatmap')\n",
    "plt.show()"
   ]
  },
  {
   "cell_type": "code",
   "execution_count": 53,
   "id": "ab31b35a",
   "metadata": {
    "execution": {
     "iopub.execute_input": "2024-12-07T05:42:46.864971Z",
     "iopub.status.busy": "2024-12-07T05:42:46.864545Z",
     "iopub.status.idle": "2024-12-07T05:42:46.918316Z",
     "shell.execute_reply": "2024-12-07T05:42:46.916544Z"
    },
    "id": "LuNsUXUTe4OG",
    "outputId": "522f361d-9c01-4302-8814-b9315c09e814",
    "papermill": {
     "duration": 0.090622,
     "end_time": "2024-12-07T05:42:46.921084",
     "exception": false,
     "start_time": "2024-12-07T05:42:46.830462",
     "status": "completed"
    },
    "tags": []
   },
   "outputs": [
    {
     "data": {
      "text/plain": [
       "Corona                 1.000000\n",
       "Headache               0.366278\n",
       "Sore_throat            0.293147\n",
       "Fever                  0.260399\n",
       "Shortness_of_breath    0.248565\n",
       "Cough_symptoms         0.194106\n",
       "Sex                    0.026961\n",
       "Name: Corona, dtype: float64"
      ]
     },
     "execution_count": 53,
     "metadata": {},
     "output_type": "execute_result"
    }
   ],
   "source": [
    "s=df1.corr()['Corona']\n",
    "s.sort_values(ascending=False)"
   ]
  },
  {
   "cell_type": "markdown",
   "id": "ec1dccf8",
   "metadata": {
    "id": "wqliieVffPEN",
    "papermill": {
     "duration": 0.029323,
     "end_time": "2024-12-07T05:42:46.984173",
     "exception": false,
     "start_time": "2024-12-07T05:42:46.954850",
     "status": "completed"
    },
    "tags": []
   },
   "source": [
    "# Feature Selection"
   ]
  },
  {
   "cell_type": "code",
   "execution_count": 54,
   "id": "236b0bab",
   "metadata": {
    "execution": {
     "iopub.execute_input": "2024-12-07T05:42:47.046028Z",
     "iopub.status.busy": "2024-12-07T05:42:47.045571Z",
     "iopub.status.idle": "2024-12-07T05:42:47.050895Z",
     "shell.execute_reply": "2024-12-07T05:42:47.049573Z"
    },
    "id": "j0_adVUgfKN9",
    "papermill": {
     "duration": 0.039836,
     "end_time": "2024-12-07T05:42:47.053556",
     "exception": false,
     "start_time": "2024-12-07T05:42:47.013720",
     "status": "completed"
    },
    "tags": []
   },
   "outputs": [],
   "source": [
    "# Spliting X and Y"
   ]
  },
  {
   "cell_type": "code",
   "execution_count": 55,
   "id": "d531fb89",
   "metadata": {
    "execution": {
     "iopub.execute_input": "2024-12-07T05:42:47.116941Z",
     "iopub.status.busy": "2024-12-07T05:42:47.116531Z",
     "iopub.status.idle": "2024-12-07T05:42:47.128412Z",
     "shell.execute_reply": "2024-12-07T05:42:47.127083Z"
    },
    "id": "2aNZ2MzZfRMc",
    "papermill": {
     "duration": 0.0477,
     "end_time": "2024-12-07T05:42:47.130911",
     "exception": false,
     "start_time": "2024-12-07T05:42:47.083211",
     "status": "completed"
    },
    "tags": []
   },
   "outputs": [],
   "source": [
    "x=df1.drop('Corona',axis=1)\n",
    "y=df1['Corona']"
   ]
  },
  {
   "cell_type": "markdown",
   "id": "e81a8adf",
   "metadata": {
    "id": "Mi29yW9aUPbe",
    "papermill": {
     "duration": 0.028985,
     "end_time": "2024-12-07T05:42:47.189461",
     "exception": false,
     "start_time": "2024-12-07T05:42:47.160476",
     "status": "completed"
    },
    "tags": []
   },
   "source": [
    "# Data Splitting"
   ]
  },
  {
   "cell_type": "code",
   "execution_count": 56,
   "id": "0059ecb6",
   "metadata": {
    "execution": {
     "iopub.execute_input": "2024-12-07T05:42:47.250653Z",
     "iopub.status.busy": "2024-12-07T05:42:47.250236Z",
     "iopub.status.idle": "2024-12-07T05:42:47.295270Z",
     "shell.execute_reply": "2024-12-07T05:42:47.294146Z"
    },
    "id": "Btld9fn09Ev0",
    "papermill": {
     "duration": 0.079393,
     "end_time": "2024-12-07T05:42:47.297928",
     "exception": false,
     "start_time": "2024-12-07T05:42:47.218535",
     "status": "completed"
    },
    "tags": []
   },
   "outputs": [],
   "source": [
    "x_train, x_test, y_train, y_test = train_test_split(x, y, test_size=0.2, random_state=12)"
   ]
  },
  {
   "cell_type": "markdown",
   "id": "4fe39d00",
   "metadata": {
    "id": "AjD25cFUZw94",
    "papermill": {
     "duration": 0.029582,
     "end_time": "2024-12-07T05:42:47.357941",
     "exception": false,
     "start_time": "2024-12-07T05:42:47.328359",
     "status": "completed"
    },
    "tags": []
   },
   "source": [
    "# Model Generation"
   ]
  },
  {
   "cell_type": "markdown",
   "id": "eb1c8bea",
   "metadata": {
    "id": "q54LfFWFVvtW",
    "papermill": {
     "duration": 0.030078,
     "end_time": "2024-12-07T05:42:47.419239",
     "exception": false,
     "start_time": "2024-12-07T05:42:47.389161",
     "status": "completed"
    },
    "tags": []
   },
   "source": [
    "Logistic Classification"
   ]
  },
  {
   "cell_type": "code",
   "execution_count": 57,
   "id": "317fcbf1",
   "metadata": {
    "execution": {
     "iopub.execute_input": "2024-12-07T05:42:47.484437Z",
     "iopub.status.busy": "2024-12-07T05:42:47.483999Z",
     "iopub.status.idle": "2024-12-07T05:42:47.974663Z",
     "shell.execute_reply": "2024-12-07T05:42:47.973513Z"
    },
    "id": "a55kaBpd6qU_",
    "outputId": "55c9a869-55c4-4adb-b65e-f0a151111c01",
    "papermill": {
     "duration": 0.527614,
     "end_time": "2024-12-07T05:42:47.979021",
     "exception": false,
     "start_time": "2024-12-07T05:42:47.451407",
     "status": "completed"
    },
    "tags": []
   },
   "outputs": [
    {
     "data": {
      "text/html": [
       "<style>#sk-container-id-1 {color: black;background-color: white;}#sk-container-id-1 pre{padding: 0;}#sk-container-id-1 div.sk-toggleable {background-color: white;}#sk-container-id-1 label.sk-toggleable__label {cursor: pointer;display: block;width: 100%;margin-bottom: 0;padding: 0.3em;box-sizing: border-box;text-align: center;}#sk-container-id-1 label.sk-toggleable__label-arrow:before {content: \"▸\";float: left;margin-right: 0.25em;color: #696969;}#sk-container-id-1 label.sk-toggleable__label-arrow:hover:before {color: black;}#sk-container-id-1 div.sk-estimator:hover label.sk-toggleable__label-arrow:before {color: black;}#sk-container-id-1 div.sk-toggleable__content {max-height: 0;max-width: 0;overflow: hidden;text-align: left;background-color: #f0f8ff;}#sk-container-id-1 div.sk-toggleable__content pre {margin: 0.2em;color: black;border-radius: 0.25em;background-color: #f0f8ff;}#sk-container-id-1 input.sk-toggleable__control:checked~div.sk-toggleable__content {max-height: 200px;max-width: 100%;overflow: auto;}#sk-container-id-1 input.sk-toggleable__control:checked~label.sk-toggleable__label-arrow:before {content: \"▾\";}#sk-container-id-1 div.sk-estimator input.sk-toggleable__control:checked~label.sk-toggleable__label {background-color: #d4ebff;}#sk-container-id-1 div.sk-label input.sk-toggleable__control:checked~label.sk-toggleable__label {background-color: #d4ebff;}#sk-container-id-1 input.sk-hidden--visually {border: 0;clip: rect(1px 1px 1px 1px);clip: rect(1px, 1px, 1px, 1px);height: 1px;margin: -1px;overflow: hidden;padding: 0;position: absolute;width: 1px;}#sk-container-id-1 div.sk-estimator {font-family: monospace;background-color: #f0f8ff;border: 1px dotted black;border-radius: 0.25em;box-sizing: border-box;margin-bottom: 0.5em;}#sk-container-id-1 div.sk-estimator:hover {background-color: #d4ebff;}#sk-container-id-1 div.sk-parallel-item::after {content: \"\";width: 100%;border-bottom: 1px solid gray;flex-grow: 1;}#sk-container-id-1 div.sk-label:hover label.sk-toggleable__label {background-color: #d4ebff;}#sk-container-id-1 div.sk-serial::before {content: \"\";position: absolute;border-left: 1px solid gray;box-sizing: border-box;top: 0;bottom: 0;left: 50%;z-index: 0;}#sk-container-id-1 div.sk-serial {display: flex;flex-direction: column;align-items: center;background-color: white;padding-right: 0.2em;padding-left: 0.2em;position: relative;}#sk-container-id-1 div.sk-item {position: relative;z-index: 1;}#sk-container-id-1 div.sk-parallel {display: flex;align-items: stretch;justify-content: center;background-color: white;position: relative;}#sk-container-id-1 div.sk-item::before, #sk-container-id-1 div.sk-parallel-item::before {content: \"\";position: absolute;border-left: 1px solid gray;box-sizing: border-box;top: 0;bottom: 0;left: 50%;z-index: -1;}#sk-container-id-1 div.sk-parallel-item {display: flex;flex-direction: column;z-index: 1;position: relative;background-color: white;}#sk-container-id-1 div.sk-parallel-item:first-child::after {align-self: flex-end;width: 50%;}#sk-container-id-1 div.sk-parallel-item:last-child::after {align-self: flex-start;width: 50%;}#sk-container-id-1 div.sk-parallel-item:only-child::after {width: 0;}#sk-container-id-1 div.sk-dashed-wrapped {border: 1px dashed gray;margin: 0 0.4em 0.5em 0.4em;box-sizing: border-box;padding-bottom: 0.4em;background-color: white;}#sk-container-id-1 div.sk-label label {font-family: monospace;font-weight: bold;display: inline-block;line-height: 1.2em;}#sk-container-id-1 div.sk-label-container {text-align: center;}#sk-container-id-1 div.sk-container {/* jupyter's `normalize.less` sets `[hidden] { display: none; }` but bootstrap.min.css set `[hidden] { display: none !important; }` so we also need the `!important` here to be able to override the default hidden behavior on the sphinx rendered scikit-learn.org. See: https://github.com/scikit-learn/scikit-learn/issues/21755 */display: inline-block !important;position: relative;}#sk-container-id-1 div.sk-text-repr-fallback {display: none;}</style><div id=\"sk-container-id-1\" class=\"sk-top-container\"><div class=\"sk-text-repr-fallback\"><pre>LogisticRegression()</pre><b>In a Jupyter environment, please rerun this cell to show the HTML representation or trust the notebook. <br />On GitHub, the HTML representation is unable to render, please try loading this page with nbviewer.org.</b></div><div class=\"sk-container\" hidden><div class=\"sk-item\"><div class=\"sk-estimator sk-toggleable\"><input class=\"sk-toggleable__control sk-hidden--visually\" id=\"sk-estimator-id-1\" type=\"checkbox\" checked><label for=\"sk-estimator-id-1\" class=\"sk-toggleable__label sk-toggleable__label-arrow\">LogisticRegression</label><div class=\"sk-toggleable__content\"><pre>LogisticRegression()</pre></div></div></div></div></div>"
      ],
      "text/plain": [
       "LogisticRegression()"
      ]
     },
     "execution_count": 57,
     "metadata": {},
     "output_type": "execute_result"
    }
   ],
   "source": [
    "from sklearn.linear_model import LogisticRegression\n",
    "model=LogisticRegression()\n",
    "model.fit(x_train,y_train)"
   ]
  },
  {
   "cell_type": "code",
   "execution_count": 58,
   "id": "295a8bf0",
   "metadata": {
    "execution": {
     "iopub.execute_input": "2024-12-07T05:42:48.091526Z",
     "iopub.status.busy": "2024-12-07T05:42:48.091117Z",
     "iopub.status.idle": "2024-12-07T05:42:48.102320Z",
     "shell.execute_reply": "2024-12-07T05:42:48.101145Z"
    },
    "id": "irURwZJd65T0",
    "papermill": {
     "duration": 0.070533,
     "end_time": "2024-12-07T05:42:48.105932",
     "exception": false,
     "start_time": "2024-12-07T05:42:48.035399",
     "status": "completed"
    },
    "tags": []
   },
   "outputs": [],
   "source": [
    "from sklearn.metrics import accuracy_score, classification_report,confusion_matrix\n",
    "y_pred=model.predict(x_test)"
   ]
  },
  {
   "cell_type": "code",
   "execution_count": 59,
   "id": "38a2a1b1",
   "metadata": {
    "execution": {
     "iopub.execute_input": "2024-12-07T05:42:48.221111Z",
     "iopub.status.busy": "2024-12-07T05:42:48.219627Z",
     "iopub.status.idle": "2024-12-07T05:42:48.232294Z",
     "shell.execute_reply": "2024-12-07T05:42:48.231057Z"
    },
    "id": "p2WvDWlO7LAI",
    "outputId": "2533b2fb-2f7d-4309-bb12-99501722c2e8",
    "papermill": {
     "duration": 0.072652,
     "end_time": "2024-12-07T05:42:48.234739",
     "exception": false,
     "start_time": "2024-12-07T05:42:48.162087",
     "status": "completed"
    },
    "tags": []
   },
   "outputs": [
    {
     "name": "stdout",
     "output_type": "stream",
     "text": [
      "0.9584620800250323\n"
     ]
    }
   ],
   "source": [
    "accuracy=accuracy_score(y_test,y_pred)\n",
    "print(accuracy)"
   ]
  },
  {
   "cell_type": "code",
   "execution_count": 60,
   "id": "1d4d90a6",
   "metadata": {
    "execution": {
     "iopub.execute_input": "2024-12-07T05:42:48.299105Z",
     "iopub.status.busy": "2024-12-07T05:42:48.298535Z",
     "iopub.status.idle": "2024-12-07T05:42:48.307428Z",
     "shell.execute_reply": "2024-12-07T05:42:48.306237Z"
    },
    "id": "Yjdxgw4eBBXM",
    "outputId": "0e9bd05b-6dfb-4dce-e1b8-59f2149aac40",
    "papermill": {
     "duration": 0.044809,
     "end_time": "2024-12-07T05:42:48.309665",
     "exception": false,
     "start_time": "2024-12-07T05:42:48.264856",
     "status": "completed"
    },
    "tags": []
   },
   "outputs": [
    {
     "name": "stdout",
     "output_type": "stream",
     "text": [
      "Mean Absolute Error: 0.04153791997496773\n",
      "Mean Squared Error: 0.04153791997496773\n",
      "Root Mean Squared Error: 0.20380853754189918\n"
     ]
    }
   ],
   "source": [
    "# Calculate evaluation metrics\n",
    "mae = mean_absolute_error(y_test, y_pred)\n",
    "mse = mean_squared_error(y_test, y_pred)\n",
    "rmse = np.sqrt(mse)\n",
    "\n",
    "print(f'Mean Absolute Error: {mae}')\n",
    "print(f'Mean Squared Error: {mse}')\n",
    "print(f'Root Mean Squared Error: {rmse}')"
   ]
  },
  {
   "cell_type": "markdown",
   "id": "f0cb877e",
   "metadata": {
    "id": "WyfnuKf_DtbH",
    "papermill": {
     "duration": 0.031176,
     "end_time": "2024-12-07T05:42:48.372122",
     "exception": false,
     "start_time": "2024-12-07T05:42:48.340946",
     "status": "completed"
    },
    "tags": []
   },
   "source": [
    "# Prediction"
   ]
  },
  {
   "cell_type": "code",
   "execution_count": 61,
   "id": "a2469be9",
   "metadata": {
    "execution": {
     "iopub.execute_input": "2024-12-07T05:42:48.435538Z",
     "iopub.status.busy": "2024-12-07T05:42:48.435153Z",
     "iopub.status.idle": "2024-12-07T05:42:48.448629Z",
     "shell.execute_reply": "2024-12-07T05:42:48.447253Z"
    },
    "id": "HbPi8mXQBdu0",
    "outputId": "16f3a3b2-e8da-431b-a349-26c0dd348d67",
    "papermill": {
     "duration": 0.048629,
     "end_time": "2024-12-07T05:42:48.451122",
     "exception": false,
     "start_time": "2024-12-07T05:42:48.402493",
     "status": "completed"
    },
    "tags": []
   },
   "outputs": [
    {
     "data": {
      "text/html": [
       "<div>\n",
       "<style scoped>\n",
       "    .dataframe tbody tr th:only-of-type {\n",
       "        vertical-align: middle;\n",
       "    }\n",
       "\n",
       "    .dataframe tbody tr th {\n",
       "        vertical-align: top;\n",
       "    }\n",
       "\n",
       "    .dataframe thead th {\n",
       "        text-align: right;\n",
       "    }\n",
       "</style>\n",
       "<table border=\"1\" class=\"dataframe\">\n",
       "  <thead>\n",
       "    <tr style=\"text-align: right;\">\n",
       "      <th></th>\n",
       "      <th>Cough_symptoms</th>\n",
       "      <th>Fever</th>\n",
       "      <th>Sore_throat</th>\n",
       "      <th>Shortness_of_breath</th>\n",
       "      <th>Headache</th>\n",
       "      <th>Sex</th>\n",
       "    </tr>\n",
       "  </thead>\n",
       "  <tbody>\n",
       "    <tr>\n",
       "      <th>58050</th>\n",
       "      <td>0</td>\n",
       "      <td>0</td>\n",
       "      <td>0</td>\n",
       "      <td>0</td>\n",
       "      <td>0</td>\n",
       "      <td>1</td>\n",
       "    </tr>\n",
       "    <tr>\n",
       "      <th>200452</th>\n",
       "      <td>0</td>\n",
       "      <td>0</td>\n",
       "      <td>0</td>\n",
       "      <td>0</td>\n",
       "      <td>0</td>\n",
       "      <td>0</td>\n",
       "    </tr>\n",
       "    <tr>\n",
       "      <th>138962</th>\n",
       "      <td>1</td>\n",
       "      <td>0</td>\n",
       "      <td>0</td>\n",
       "      <td>0</td>\n",
       "      <td>0</td>\n",
       "      <td>1</td>\n",
       "    </tr>\n",
       "    <tr>\n",
       "      <th>136247</th>\n",
       "      <td>0</td>\n",
       "      <td>0</td>\n",
       "      <td>0</td>\n",
       "      <td>0</td>\n",
       "      <td>0</td>\n",
       "      <td>0</td>\n",
       "    </tr>\n",
       "    <tr>\n",
       "      <th>245022</th>\n",
       "      <td>0</td>\n",
       "      <td>0</td>\n",
       "      <td>0</td>\n",
       "      <td>0</td>\n",
       "      <td>0</td>\n",
       "      <td>1</td>\n",
       "    </tr>\n",
       "    <tr>\n",
       "      <th>...</th>\n",
       "      <td>...</td>\n",
       "      <td>...</td>\n",
       "      <td>...</td>\n",
       "      <td>...</td>\n",
       "      <td>...</td>\n",
       "      <td>...</td>\n",
       "    </tr>\n",
       "    <tr>\n",
       "      <th>53420</th>\n",
       "      <td>0</td>\n",
       "      <td>0</td>\n",
       "      <td>0</td>\n",
       "      <td>0</td>\n",
       "      <td>0</td>\n",
       "      <td>1</td>\n",
       "    </tr>\n",
       "    <tr>\n",
       "      <th>235966</th>\n",
       "      <td>0</td>\n",
       "      <td>0</td>\n",
       "      <td>0</td>\n",
       "      <td>0</td>\n",
       "      <td>0</td>\n",
       "      <td>0</td>\n",
       "    </tr>\n",
       "    <tr>\n",
       "      <th>150080</th>\n",
       "      <td>0</td>\n",
       "      <td>0</td>\n",
       "      <td>0</td>\n",
       "      <td>0</td>\n",
       "      <td>0</td>\n",
       "      <td>1</td>\n",
       "    </tr>\n",
       "    <tr>\n",
       "      <th>209912</th>\n",
       "      <td>0</td>\n",
       "      <td>0</td>\n",
       "      <td>0</td>\n",
       "      <td>0</td>\n",
       "      <td>0</td>\n",
       "      <td>1</td>\n",
       "    </tr>\n",
       "    <tr>\n",
       "      <th>233017</th>\n",
       "      <td>0</td>\n",
       "      <td>0</td>\n",
       "      <td>0</td>\n",
       "      <td>0</td>\n",
       "      <td>0</td>\n",
       "      <td>1</td>\n",
       "    </tr>\n",
       "  </tbody>\n",
       "</table>\n",
       "<p>51134 rows × 6 columns</p>\n",
       "</div>"
      ],
      "text/plain": [
       "        Cough_symptoms  Fever  Sore_throat  Shortness_of_breath  Headache  Sex\n",
       "58050                0      0            0                    0         0    1\n",
       "200452               0      0            0                    0         0    0\n",
       "138962               1      0            0                    0         0    1\n",
       "136247               0      0            0                    0         0    0\n",
       "245022               0      0            0                    0         0    1\n",
       "...                ...    ...          ...                  ...       ...  ...\n",
       "53420                0      0            0                    0         0    1\n",
       "235966               0      0            0                    0         0    0\n",
       "150080               0      0            0                    0         0    1\n",
       "209912               0      0            0                    0         0    1\n",
       "233017               0      0            0                    0         0    1\n",
       "\n",
       "[51134 rows x 6 columns]"
      ]
     },
     "execution_count": 61,
     "metadata": {},
     "output_type": "execute_result"
    }
   ],
   "source": [
    "x_test"
   ]
  },
  {
   "cell_type": "code",
   "execution_count": 62,
   "id": "48f9f811",
   "metadata": {
    "execution": {
     "iopub.execute_input": "2024-12-07T05:42:48.515803Z",
     "iopub.status.busy": "2024-12-07T05:42:48.515422Z",
     "iopub.status.idle": "2024-12-07T05:42:48.524528Z",
     "shell.execute_reply": "2024-12-07T05:42:48.523254Z"
    },
    "id": "8r08BCI6BmAz",
    "outputId": "ce883790-9408-4767-ed85-7a145c9517b2",
    "papermill": {
     "duration": 0.044704,
     "end_time": "2024-12-07T05:42:48.526768",
     "exception": false,
     "start_time": "2024-12-07T05:42:48.482064",
     "status": "completed"
    },
    "tags": []
   },
   "outputs": [
    {
     "data": {
      "text/plain": [
       "58050     0\n",
       "200452    0\n",
       "138962    0\n",
       "136247    0\n",
       "245022    1\n",
       "         ..\n",
       "53420     1\n",
       "235966    0\n",
       "150080    0\n",
       "209912    0\n",
       "233017    0\n",
       "Name: Corona, Length: 51134, dtype: int64"
      ]
     },
     "execution_count": 62,
     "metadata": {},
     "output_type": "execute_result"
    }
   ],
   "source": [
    "y_test"
   ]
  },
  {
   "cell_type": "code",
   "execution_count": 63,
   "id": "2fb1d695",
   "metadata": {
    "execution": {
     "iopub.execute_input": "2024-12-07T05:42:48.591347Z",
     "iopub.status.busy": "2024-12-07T05:42:48.590892Z",
     "iopub.status.idle": "2024-12-07T05:42:48.601445Z",
     "shell.execute_reply": "2024-12-07T05:42:48.600296Z"
    },
    "id": "zmHl-RXWBnjH",
    "outputId": "0ae36df6-c4c1-46f9-f645-0e05f39cfb10",
    "papermill": {
     "duration": 0.047743,
     "end_time": "2024-12-07T05:42:48.605031",
     "exception": false,
     "start_time": "2024-12-07T05:42:48.557288",
     "status": "completed"
    },
    "tags": []
   },
   "outputs": [
    {
     "name": "stdout",
     "output_type": "stream",
     "text": [
      "[1]\n"
     ]
    },
    {
     "name": "stderr",
     "output_type": "stream",
     "text": [
      "/opt/conda/lib/python3.10/site-packages/sklearn/base.py:439: UserWarning: X does not have valid feature names, but LogisticRegression was fitted with feature names\n",
      "  warnings.warn(\n"
     ]
    }
   ],
   "source": [
    "input_data=(0,\t0,\t0,\t1,\t0,\t1)\n",
    "\n",
    "input_data_as_numpy_array=np.asarray(input_data)\n",
    "\n",
    "input_data_reshaped=input_data_as_numpy_array.reshape(1,-1)\n",
    "\n",
    "# std_data= scaler.transform(input_data_reshaped)\n",
    "\n",
    "prediction=model.predict(input_data_reshaped)\n",
    "\n",
    "print(prediction)"
   ]
  },
  {
   "cell_type": "code",
   "execution_count": 64,
   "id": "ed4574d8",
   "metadata": {
    "execution": {
     "iopub.execute_input": "2024-12-07T05:42:48.668385Z",
     "iopub.status.busy": "2024-12-07T05:42:48.667941Z",
     "iopub.status.idle": "2024-12-07T05:42:48.674611Z",
     "shell.execute_reply": "2024-12-07T05:42:48.673540Z"
    },
    "id": "BLaWhegtDNmI",
    "outputId": "0af69487-25e4-497c-caec-3ebcbcf6c881",
    "papermill": {
     "duration": 0.04253,
     "end_time": "2024-12-07T05:42:48.678031",
     "exception": false,
     "start_time": "2024-12-07T05:42:48.635501",
     "status": "completed"
    },
    "tags": []
   },
   "outputs": [
    {
     "name": "stdout",
     "output_type": "stream",
     "text": [
      "[0]\n"
     ]
    },
    {
     "name": "stderr",
     "output_type": "stream",
     "text": [
      "/opt/conda/lib/python3.10/site-packages/sklearn/base.py:439: UserWarning: X does not have valid feature names, but LogisticRegression was fitted with feature names\n",
      "  warnings.warn(\n"
     ]
    }
   ],
   "source": [
    "input_data=(1,\t1,\t0,\t0,\t0,\t0)\n",
    "\n",
    "input_data_as_numpy_array=np.asarray(input_data)\n",
    "\n",
    "input_data_reshaped=input_data_as_numpy_array.reshape(1,-1)\n",
    "\n",
    "# std_data= scaler.transform(input_data_reshaped)\n",
    "\n",
    "prediction=model.predict(input_data_reshaped)\n",
    "\n",
    "print(prediction)"
   ]
  },
  {
   "cell_type": "markdown",
   "id": "3466f870",
   "metadata": {
    "id": "Eeuku38u04VM",
    "papermill": {
     "duration": 0.034772,
     "end_time": "2024-12-07T05:42:48.746212",
     "exception": false,
     "start_time": "2024-12-07T05:42:48.711440",
     "status": "completed"
    },
    "tags": []
   },
   "source": [
    "# **Documentation and Reporting**\n",
    "\n",
    "## CORONA VIROUS TESTED project report.\n",
    "\n",
    "**1. Problem Statement:**\n",
    "\n",
    "- This dataset provides a comprehensive collection of people's Gender and their Symptoms.The primary objective is to build a model that accurately predicts the Corona is +ve or -ve based on its features.\n",
    "\n",
    "**2. Libraries:**\n",
    "- import required Libraries.\n",
    "\n",
    "**3. Data Understanding:**\n",
    "- This dataset have 11 columns and 278848 rows.\n",
    "- Features include: Ind_ID,Test_date,Cough_symptoms,Fever,Sore_throat,Shortness_of_breath,Headache,Corona,Age_60_above,Sex and Known_contact\n",
    "\n",
    "**4. Data Cleaning:**\n",
    "\n",
    "- Droped the column Ind_ID,Test_date,Age_60_above,Sex and Known_contact.\n",
    "\n",
    "- Missing values were found in 'Cough_symptoms  ','Fever','Sore_throat','Shortness_of_breath','Headache','Corona','Sex' columns.\n",
    "\n",
    "- Missing values were handled by dropping rows where have null values.\n",
    "\n",
    "- Dropped rows where column 'Corona' have the value 'other'.\n",
    "\n",
    "**5. Data Visualization:**\n",
    "\n",
    "- Histogram were created for entire dataset to understand their distribution.\n",
    "- Pie chart created for all columns to understand their percent.\n",
    "- Bar graph created for understanding how corona infection in each gender.\n",
    "\n",
    "**6. Encoding:**\n",
    "\n",
    "- Encode the column 'Corona' and 'Sex' with replace method.\n",
    "- Changed dtype of columns 'Cough_symptoms','Fever','Sore_throat','Shortness_of_breath','Headache' from object into int.\n",
    "\n",
    "**7. Correlation Analysis:**\n",
    "\n",
    "- Correlation Analysis: a heatmap of the correlation matrix revealed the relationships between the variables.\n",
    "\n",
    "**8.Feature Selection:**\n",
    "\n",
    "- Target column stored in y variable.\n",
    "Other features stored in x variable.\n",
    "\n",
    "**9. Data Splitting:**\n",
    "- Split x_train, x_test, y_train and y_test.\n",
    "\n",
    "**10. Model Generation:**\n",
    "\n",
    "-- Multiple Classification models were tested:-\n",
    "\n",
    "* LogisticRegression()\n",
    "* DecisionTreeClassifier()\n",
    "* RandomForestClassifier()\n",
    "* XGBClassifier()\n",
    "* LGBMClassifier()\n",
    "* CatBoostClassifier(verbose=0)\n",
    "* SVC(probability=True)\n",
    "* KNeighborsClassifier()\n",
    "* GaussianNB()\n",
    "* MLPClassifier()\n",
    "* AdaBoostClassifier()\n",
    "* ExtraTreesClassifier()\n",
    "\n",
    "-- LogisticRegression has given the best result it give accuracy about 0.9584620800250323.And it was chosen as the final model.\n",
    "\n",
    "- Mean Absolute Error: 0.04153791997496773\n",
    "- Mean Squared Error: 0.04153791997496773\n",
    "- Root Mean Squared Error: 0.20380853754189918\n",
    "\n",
    "**11.Prediction:**\n",
    "Predicted the model.\n",
    "\n",
    "**THANK YOU**"
   ]
  },
  {
   "cell_type": "code",
   "execution_count": null,
   "id": "a834931d",
   "metadata": {
    "id": "5N3322mYb1mQ",
    "papermill": {
     "duration": 0.03133,
     "end_time": "2024-12-07T05:42:48.809651",
     "exception": false,
     "start_time": "2024-12-07T05:42:48.778321",
     "status": "completed"
    },
    "tags": []
   },
   "outputs": [],
   "source": []
  }
 ],
 "metadata": {
  "colab": {
   "provenance": []
  },
  "kaggle": {
   "accelerator": "none",
   "dataSources": [
    {
     "datasetId": 3557307,
     "sourceId": 6196680,
     "sourceType": "datasetVersion"
    }
   ],
   "dockerImageVersionId": 30804,
   "isGpuEnabled": false,
   "isInternetEnabled": false,
   "language": "python",
   "sourceType": "notebook"
  },
  "kernelspec": {
   "display_name": "Python 3",
   "language": "python",
   "name": "python3"
  },
  "language_info": {
   "codemirror_mode": {
    "name": "ipython",
    "version": 3
   },
   "file_extension": ".py",
   "mimetype": "text/x-python",
   "name": "python",
   "nbconvert_exporter": "python",
   "pygments_lexer": "ipython3",
   "version": "3.10.14"
  },
  "papermill": {
   "default_parameters": {},
   "duration": 21.220843,
   "end_time": "2024-12-07T05:42:49.663511",
   "environment_variables": {},
   "exception": null,
   "input_path": "__notebook__.ipynb",
   "output_path": "__notebook__.ipynb",
   "parameters": {},
   "start_time": "2024-12-07T05:42:28.442668",
   "version": "2.6.0"
  }
 },
 "nbformat": 4,
 "nbformat_minor": 5
}
